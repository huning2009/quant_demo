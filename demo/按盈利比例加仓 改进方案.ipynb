{
 "cells": [
  {
   "cell_type": "markdown",
   "metadata": {},
   "source": [
    "## 导入函数库及设定参数"
   ]
  },
  {
   "cell_type": "code",
   "execution_count": null,
   "metadata": {},
   "outputs": [],
   "source": [
    "# 导入函数库\n",
    "from jqdata import *\n",
    "\n",
    "MA_WIN_1 = 10\n",
    "MA_WIN_2 = 30\n",
    "\n",
    "ATR_WIN_SIZE = 20  \n",
    "RISK_RATIO = 0.001 \n",
    "\n",
    "# 当日开盘价相对于前一次买入价的盈利比阈值\n",
    "INC_POS_PF_RATE = 0.05\n",
    "# 这里和上面的5%都是经验值\n",
    "MAX_DROP_RATE = 0.03 "
   ]
  },
  {
   "cell_type": "markdown",
   "metadata": {},
   "source": [
    "## 初始化函数"
   ]
  },
  {
   "cell_type": "markdown",
   "metadata": {},
   "source": [
    "设定基准、税点、手续费及一些全局变量"
   ]
  },
  {
   "cell_type": "code",
   "execution_count": null,
   "metadata": {},
   "outputs": [],
   "source": [
    "# 初始化函数，设定基准等等\n",
    "def initialize(context):\n",
    "    \n",
    "    set_benchmark('000300.XSHG')\n",
    "    set_option('use_real_price', True)\n",
    "    \n",
    "    # log.set_level('order', 'error')\n",
    "    \n",
    "    set_order_cost(OrderCost(close_tax=0.001, open_commission=0.0003, close_commission=0.0003, min_commission=5), type='stock')\n",
    "    \n",
    "    # 开盘前运行\n",
    "    run_daily(before_market_open, time='before_open',\n",
    "                reference_security='000300.XSHG')\n",
    "    run_daily(market_open, time='every_bar',\n",
    "                reference_security='000300.XSHG')\n",
    "    run_daily(after_market_close, time='after_close',\n",
    "                reference_security='000300.XSHG')\n",
    "    # 设定股票池\n",
    "    g.stock_pool = get_index_stocks(\"000016.XSHG\", date=context.current_dt)\n",
    "    g.init_cash = context.portfolio.starting_cas\n",
    "    # 加仓：用于记录入场价格\n",
    "    g.last_entry_prices = {code:None for code in g.stock_pool}\n",
    "    # 浮动止损：用于记录入场时间\n",
    "    g.entry_dates = {code:None for code in g.stock_pool}"
   ]
  },
  {
   "cell_type": "markdown",
   "metadata": {},
   "source": [
    "## 开盘前运行的函数"
   ]
  },
  {
   "cell_type": "markdown",
   "metadata": {},
   "source": [
    "确定买卖信号并在开盘前检测"
   ]
  },
  {
   "cell_type": "code",
   "execution_count": null,
   "metadata": {},
   "outputs": [],
   "source": [
    "## 开盘前运行函数     \n",
    "def before_market_open(context):\n",
    "    look_ahead_n = max(MA_WIN_1, MA_WIN_2) + 1\n",
    "    g.up_cross_signaled = set()\n",
    "    g.down_cross_signaled = set()\n",
    "    for code in g.stock_pool:\n",
    "        df = attribute_history(code, look_ahead_n, \"1d\", [\"close\"],\n",
    "            skip_paused=True) # 该函数返回结果不包括当天的数据\n",
    "        \n",
    "        if len(df) != look_ahead_n:\n",
    "            continue\n",
    "        close = df['close']\n",
    "        ma_short = pd.rolling_mean(close, MA_WIN_1)\n",
    "        ma_long = pd.rolling_mean(close, MA_WIN_2)\n",
    "        \n",
    "        uc_flags = (ma_short.shift(1) <= ma_long.shift(1)) & \\\n",
    "                    (ma_short > ma_long)\n",
    "        dc_flags = (ma_short.shift(1) >= ma_long.shift(1)) & \\\n",
    "                    (ma_short < ma_long)\n",
    "        \n",
    "        if uc_flags.iloc[-1]:\n",
    "            g.up_cross_signaled.add(code) \n",
    "        if dc_flags.iloc[-1]:\n",
    "            g.down_cross_signaled.add(code)"
   ]
  },
  {
   "cell_type": "markdown",
   "metadata": {},
   "source": [
    "## 开盘时运行的函数"
   ]
  },
  {
   "cell_type": "markdown",
   "metadata": {},
   "source": [
    "- 检测死叉信号中的股票，卖出并重置标的最后入场价格和时间\n",
    "\n",
    "- 检测金叉信号股票\n",
    "    - 计算ATR，确定标的头寸规模，买入并记录最后入场价格和时间\n",
    "    \n",
    "- 对持仓股进行检测(加仓和止损只能二选一)\n",
    "    - 是否符合加仓条件\n",
    "        - 若符合，则计算ATR，确定加仓的头寸规模，记录最后入场价格和时间\n",
    "    - 是否符合浮动止损条件\n",
    "        - 若符合，则卖出标的，并重置标的最后入场价格和时间\n",
    " \n"
   ]
  },
  {
   "cell_type": "code",
   "execution_count": null,
   "metadata": {},
   "outputs": [],
   "source": [
    "## 开盘时运行函数\n",
    "def market_open(context):\n",
    "    cur_dt = context.current_dt.date()\n",
    "    p = context.portfolio\n",
    "    current_data = get_current_data()\n",
    "    # each_cash = g.init_cash / len(g.stock_pool) # 等金额分配资金\n",
    "    \n",
    "    # 卖出均线死叉信号的持仓股\n",
    "    for code, pos in p.positions.items():\n",
    "        if code in g.down_cross_signaled:\n",
    "            order_target(code, 0)\n",
    "            # 均匀加仓：记录最后一个入场价格\n",
    "            g.last_entry_prices[code] = None\n",
    "            # 浮动止损：记录入场时间\n",
    "            g.entry_dates[code] = None\n",
    "    \n",
    "    # 买入均线金叉信号的持仓股\n",
    "    for code in g.up_cross_signaled:\n",
    "        if code not in p.positions:\n",
    "            if current_data[code].paused:\n",
    "                continue\n",
    "            \n",
    "            # 计算ATR - code start\n",
    "            df = attribute_history(code, ATR_WIN_SIZE + 1, \"1d\", \n",
    "                ['high', 'low', 'close'], skip_paused=True)\n",
    "            \n",
    "            if len(df) != ATR_WIN_SIZE + 1:\n",
    "                continue\n",
    "            \n",
    "            df['pdc'] = df['close'].shift(1)\n",
    "            tr = df.apply(lambda x : max( x['high'] - x['low'], abs(x[\"high\"] - x[\"pdc\"]), abs(x['low'] - x['pdc'])), axis=1)\n",
    "            atr = tr[-ATR_WIN_SIZE:].mean()\n",
    "            num_to_buy = g.init_cash * RISK_RATIO / atr // 100 * 100\n",
    "            # 计算ATR -- code end\n",
    "            \n",
    "            open_price = current_data[code].day_open\n",
    "            # num_to_buy = each_cash / open_price // 100 * 100\n",
    "            order(code, num_to_buy)\n",
    "            # 均匀加仓：记录最后一个入场价格\n",
    "            g.last_entry_prices[code] = open_price\n",
    "            # 浮动止损: 记录进入市场的时间\n",
    "            g.entry_dates[code] = cur_dt\n",
    "    \n",
    "    # if 检查有无符合加仓条件的持仓股\n",
    "    # elif 检查有无符合回撤止盈条件的持仓股\n",
    "    for code, pos in p.positions.items():\n",
    "        # 过滤掉停牌的股票\n",
    "        if current_data[code].paused:\n",
    "            continue\n",
    "        if pos.today_amount == 0 and pos.closeable_amount > 0:\n",
    "            \n",
    "            # 用于加仓 -- start\n",
    "            open_price = current_data[code].day_open\n",
    "            last_entry = g.last_entry_prices[code]\n",
    "            # 用于加仓 -- end\n",
    "            \n",
    "            # 用于回撤止盈\n",
    "            last_entry_date = g.entry_dates[code]\n",
    "            prev_date = context.current_dt - timedelta(days=1)\n",
    "            # 计算截止到前一天的HHV, 避免未来函数, 考虑到前复权, 每个交易日都重新计算\n",
    "            df = get_price(code, start_date=last_entry_date, end_date=prev_date,\n",
    "                frequency=\"1d\", fields=['high'], skip_paused=True)\n",
    "            hhv = df['high'].max()\n",
    "            # 以当日开盘价计算，或者，也可以用前一交易日的收盘价计算\n",
    "            drop_rate = (hhv - current_data[code].day_open) / hhv\n",
    "            \n",
    "            \n",
    "            # 用于加仓\n",
    "            if (open_price - last_entry) / last_entry >= INC_POS_PF_RATE:\n",
    "                \n",
    "                # 计算ATR - code start\n",
    "                df = attribute_history(code, ATR_WIN_SIZE + 1, \"1d\", \n",
    "                    ['high', 'low', 'close'], skip_paused=True)\n",
    "                \n",
    "                if len(df) != ATR_WIN_SIZE + 1:\n",
    "                    continue\n",
    "                \n",
    "                df['pdc'] = df['close'].shift(1)\n",
    "                tr = df.apply(lambda x : max( x['high'] - x['low'], abs(x[\"high\"] - x[\"pdc\"]), abs(x['low'] - x['pdc'])), axis=1)\n",
    "                atr = tr[-ATR_WIN_SIZE:].mean()\n",
    "                \n",
    "                # 计算ATR -- code end\n",
    "                \n",
    "                # order_value(code, each_cash)\n",
    "                num_to_buy = g.init_cash * RISK_RATIO / atr // 100 * 100\n",
    "                order(code, num_to_buy)\n",
    "                \n",
    "                # 用于加仓：记录入场价格\n",
    "                g.last_entry_prices[code] = open_price\n",
    "                # 用于止损 -- 记录入场时间\n",
    "                g.entry_dates[code] = cur_dt\n",
    "                \n",
    "            elif drop_rate > MAX_DROP_RATE:\n",
    "                order_target(code, 0)\n",
    "                # 均匀加仓：记录最后一个入场价格\n",
    "                g.last_entry_prices[code] = None\n",
    "                # 止损 -- 记录入场时间\n",
    "                g.entry_dates[code] = None"
   ]
  },
  {
   "cell_type": "markdown",
   "metadata": {},
   "source": [
    "## 收盘后运行的函数"
   ]
  },
  {
   "cell_type": "markdown",
   "metadata": {},
   "source": [
    "计算持仓，并在回测中展示出来"
   ]
  },
  {
   "cell_type": "code",
   "execution_count": null,
   "metadata": {},
   "outputs": [],
   "source": [
    "## 收盘后运行函数  \n",
    "def after_market_close(context):\n",
    "    p = context.portfolio\n",
    "    pos_level = p.positions_value / p.total_value\n",
    "    record(pos_level=pos_level)"
   ]
  }
 ],
 "metadata": {
  "kernelspec": {
   "display_name": "Python (quant)",
   "language": "python",
   "name": "quant"
  },
  "language_info": {
   "codemirror_mode": {
    "name": "ipython",
    "version": 3
   },
   "file_extension": ".py",
   "mimetype": "text/x-python",
   "name": "python",
   "nbconvert_exporter": "python",
   "pygments_lexer": "ipython3",
   "version": "3.6.6"
  },
  "toc": {
   "base_numbering": 1,
   "nav_menu": {},
   "number_sections": true,
   "sideBar": true,
   "skip_h1_title": false,
   "title_cell": "Table of Contents",
   "title_sidebar": "Contents",
   "toc_cell": false,
   "toc_position": {},
   "toc_section_display": true,
   "toc_window_display": false
  },
  "varInspector": {
   "cols": {
    "lenName": 16,
    "lenType": 16,
    "lenVar": 40
   },
   "kernels_config": {
    "python": {
     "delete_cmd_postfix": "",
     "delete_cmd_prefix": "del ",
     "library": "var_list.py",
     "varRefreshCmd": "print(var_dic_list())"
    },
    "r": {
     "delete_cmd_postfix": ") ",
     "delete_cmd_prefix": "rm(",
     "library": "var_list.r",
     "varRefreshCmd": "cat(var_dic_list()) "
    }
   },
   "types_to_exclude": [
    "module",
    "function",
    "builtin_function_or_method",
    "instance",
    "_Feature"
   ],
   "window_display": false
  }
 },
 "nbformat": 4,
 "nbformat_minor": 2
}
