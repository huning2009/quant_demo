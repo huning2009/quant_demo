{
 "cells": [
  {
   "cell_type": "markdown",
   "metadata": {},
   "source": [
    "## 数据获取"
   ]
  },
  {
   "cell_type": "markdown",
   "metadata": {},
   "source": [
    "daily_crawler.py"
   ]
  },
  {
   "cell_type": "code",
   "execution_count": null,
   "metadata": {},
   "outputs": [],
   "source": [
    "class DailyCrawler\n",
    "    def __init__():\n",
    "        \"\"\"\n",
    "        一些初始化，比如创建daily和daily_hfq的connection\n",
    "        \"\"\"\n",
    "        pass\n",
    "    def crawl_index():\n",
    "        \"\"\"\n",
    "        爬取index的数据并保存到daily中\n",
    "        注意'index':True\n",
    "        \"\"\"\n",
    "        pass\n",
    "    def crawl():\n",
    "        \"\"\"\n",
    "        爬取股票数据，分为复权和不复权数据两种，\n",
    "        注意'index':False,\n",
    "        \"\"\"\n",
    "        pass\n",
    "    def save():\n",
    "        \"\"\"\n",
    "        保存数据到到数据库中\n",
    "        \"\"\"\n",
    "        \n",
    "        \"\"\"\n",
    "        create update requests list (None)\n",
    "        \n",
    "        对df_daily进行for循环(按行循环)\n",
    "            将每行数据转换成dict\n",
    "            将dict封装成一个update request,\n",
    "            并append到上述的list中去\n",
    "        最后是批量写入到数据库中去\n",
    "        \"\"\"\n",
    "        pass\n",
    "    def daily_obj_2_doc():\n",
    "        \"\"\"\n",
    "        将dataframe一行的数据转成dict\n",
    "        \"\"\""
   ]
  },
  {
   "cell_type": "markdown",
   "metadata": {},
   "source": [
    "```\n",
    "-daily_fixing.py\n",
    "\n",
    "--fill_is_trading_between\n",
    "--fill_is_trading\n",
    "--fill_single_date_is_trading\n",
    "--fill_daily_k_at_suspension_days\n",
    "--fill_daily_k_at_suspension_days_at_date_one_collection\n",
    "--fill_au_factor_pre_close\n",
    "\n",
    "```"
   ]
  },
  {
   "cell_type": "code",
   "execution_count": null,
   "metadata": {},
   "outputs": [],
   "source": [
    "def fill_is_trading_between():\n",
    "    \"\"\"\n",
    "    填充指定时间区间段的is_trading字段\n",
    "    按照trading date进行for循环，每一行都是\n",
    "    一个交易日\n",
    "    for date in all_dates:\n",
    "        fill_single_date_is_trading : daily\n",
    "        fill_single_date_is_trading : daily_hfq\n",
    "        即在不复权和后复权都填一遍\n",
    "    \"\"\"\n",
    "    pass\n",
    "def fill_is_trading(date=None):\n",
    "    \"\"\"\n",
    "    和上面的函数一样，只是判断了一下date是否为None,\n",
    "    if date is None:\n",
    "        all_dates = get_trading_dates()\n",
    "    \"\"\"\n",
    "    pass\n",
    "def fill_single_date_is_trading():\n",
    "    \"\"\"\n",
    "    填充某一个交易日的is_trading字段\n",
    "    \n",
    "    根据{'date':date,'index':False}\n",
    "    找出需要更新的数据；\n",
    "    \n",
    "    create update_requests = []\n",
    "    对daily_cursor进行for循环\n",
    "    for daily in daily_cursor:\n",
    "        is_trading = True\n",
    "        \n",
    "        if daily['volume'] == 0:\n",
    "            is_trading = False\n",
    "        \n",
    "        update_requests.append\n",
    "    批量写入\n",
    "    \"\"\"\n",
    "    pass\n",
    "def fill_daily_k_at_suspension_days():\n",
    "    \"\"\"\n",
    "    \n",
    "    \"\"\"\n",
    "    \"\"\"\n",
    "    set before = datetime.datetime.now() - timedelta(days=1)\n",
    "    while True:\n",
    "        last_trading_date = before.strftime('%Y-%m-%d')\n",
    "        cursor : {'date':last_trading_date}\n",
    "        show 'code', 'timeToMarket' into basics\n",
    "        if find data, break the while loop\n",
    "        \n",
    "        before -= timedelta(days=1)\n",
    "    retrieve the trading date\n",
    "    all_dates = get_trading_dates()\n",
    "    \n",
    "    fill_daily_k_at_suspension_days_at_date_one_collection(basics, all_dates, 'daily')\n",
    "    fill_daily_k_at_suspension_days_at_date_one_collection(basics, all_dates, 'daily_hfq')\n",
    "    \"\"\"\n",
    "    pass\n",
    "def fill_daily_k_at_suspension_days_at_date_one_colleciton():\n",
    "    \"\"\"\n",
    "    create a dict : code_last_trading_daily_dict = {}\n",
    "    for date in all_dates:\n",
    "        create a update_requests = []\n",
    "        # a trick\n",
    "        last_daily_code_set = set(code_last_trading_daily_dict.keys())\n",
    "        for basic in basics:\n",
    "            code = basic['code']\n",
    "            \n",
    "            if date < basic['timeToMarket']:\n",
    "                print('XX还没上市')\n",
    "            else:\n",
    "                daily = DB_CONN[collection].find_one({'code':code, \n",
    "                    'date':date, 'index':False})\n",
    "                if daily is not None:\n",
    "                    code_last_trading_daily_dict[code] = daily\n",
    "                    last_daily_code_set.add(code)\n",
    "    \"\"\""
   ]
  },
  {
   "cell_type": "code",
   "execution_count": null,
   "metadata": {},
   "outputs": [],
   "source": []
  },
  {
   "cell_type": "code",
   "execution_count": null,
   "metadata": {},
   "outputs": [],
   "source": []
  },
  {
   "cell_type": "code",
   "execution_count": null,
   "metadata": {},
   "outputs": [],
   "source": []
  },
  {
   "cell_type": "code",
   "execution_count": null,
   "metadata": {},
   "outputs": [],
   "source": []
  },
  {
   "cell_type": "code",
   "execution_count": null,
   "metadata": {},
   "outputs": [],
   "source": []
  },
  {
   "cell_type": "code",
   "execution_count": null,
   "metadata": {},
   "outputs": [],
   "source": []
  },
  {
   "cell_type": "code",
   "execution_count": null,
   "metadata": {},
   "outputs": [],
   "source": []
  },
  {
   "cell_type": "code",
   "execution_count": null,
   "metadata": {},
   "outputs": [],
   "source": []
  },
  {
   "cell_type": "code",
   "execution_count": null,
   "metadata": {},
   "outputs": [],
   "source": []
  },
  {
   "cell_type": "code",
   "execution_count": null,
   "metadata": {},
   "outputs": [],
   "source": []
  }
 ],
 "metadata": {
  "kernelspec": {
   "display_name": "Python 3 tensorflow",
   "language": "python",
   "name": "python3"
  },
  "language_info": {
   "codemirror_mode": {
    "name": "ipython",
    "version": 3
   },
   "file_extension": ".py",
   "mimetype": "text/x-python",
   "name": "python",
   "nbconvert_exporter": "python",
   "pygments_lexer": "ipython3",
   "version": "3.5.5"
  },
  "toc": {
   "base_numbering": 1,
   "nav_menu": {},
   "number_sections": true,
   "sideBar": true,
   "skip_h1_title": false,
   "title_cell": "Table of Contents",
   "title_sidebar": "Contents",
   "toc_cell": false,
   "toc_position": {},
   "toc_section_display": true,
   "toc_window_display": false
  },
  "varInspector": {
   "cols": {
    "lenName": 16,
    "lenType": 16,
    "lenVar": 40
   },
   "kernels_config": {
    "python": {
     "delete_cmd_postfix": "",
     "delete_cmd_prefix": "del ",
     "library": "var_list.py",
     "varRefreshCmd": "print(var_dic_list())"
    },
    "r": {
     "delete_cmd_postfix": ") ",
     "delete_cmd_prefix": "rm(",
     "library": "var_list.r",
     "varRefreshCmd": "cat(var_dic_list()) "
    }
   },
   "types_to_exclude": [
    "module",
    "function",
    "builtin_function_or_method",
    "instance",
    "_Feature"
   ],
   "window_display": false
  }
 },
 "nbformat": 4,
 "nbformat_minor": 2
}
