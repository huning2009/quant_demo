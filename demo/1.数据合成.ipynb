{
 "cells": [
  {
   "cell_type": "markdown",
   "metadata": {},
   "source": [
    "### 题目"
   ]
  },
  {
   "cell_type": "markdown",
   "metadata": {},
   "source": [
    "```\n",
    "1.数据合成:600000SH_tick.mat数据合成一分钟数据，一分钟数据合成15 30 60分钟；\n",
    "(提示:先清洗数据)；\n",
    "\n",
    "扩展：计算上证指数每一日的平均涨幅，每一个月的平均涨幅\n",
    "\n",
    "```"
   ]
  },
  {
   "cell_type": "code",
   "execution_count": 52,
   "metadata": {},
   "outputs": [],
   "source": [
    "import numpy as np\n",
    "import pandas as pd\n",
    "import matplotlib.pyplot as plt\n",
    "import seaborn as sns\n",
    "import statsmodels as sm\n",
    "import QUANTAXIS as QA\n",
    "import talib as ta\n",
    "import datetime\n",
    "\n",
    "from scipy.io.matlab import loadmat"
   ]
  },
  {
   "cell_type": "code",
   "execution_count": 71,
   "metadata": {},
   "outputs": [],
   "source": [
    "from datetime import time"
   ]
  },
  {
   "cell_type": "code",
   "execution_count": 2,
   "metadata": {},
   "outputs": [],
   "source": [
    "plt.rcParams['figure.figsize'] = [12, 8]\n",
    "plt.rcParams['image.interpolation'] = 'nearest'\n",
    "plt.rcParams['image.cmap'] = 'gray'"
   ]
  },
  {
   "cell_type": "markdown",
   "metadata": {},
   "source": [
    "### 导入数据"
   ]
  },
  {
   "cell_type": "code",
   "execution_count": 3,
   "metadata": {},
   "outputs": [],
   "source": [
    "data_mat = loadmat('tick_sample.mat')"
   ]
  },
  {
   "cell_type": "code",
   "execution_count": 10,
   "metadata": {},
   "outputs": [],
   "source": [
    "code = data_mat['codes'][0,0][0][:6]"
   ]
  },
  {
   "cell_type": "code",
   "execution_count": 41,
   "metadata": {},
   "outputs": [],
   "source": [
    "date = [data_mat['times'].ravel()[i][0] for i in range(data_mat['times'].shape[0])]"
   ]
  },
  {
   "cell_type": "code",
   "execution_count": 46,
   "metadata": {},
   "outputs": [],
   "source": [
    "date = pd.to_datetime(date)"
   ]
  },
  {
   "cell_type": "code",
   "execution_count": 48,
   "metadata": {},
   "outputs": [],
   "source": [
    "data = pd.DataFrame(data_mat['data'])"
   ]
  },
  {
   "cell_type": "code",
   "execution_count": 53,
   "metadata": {},
   "outputs": [],
   "source": [
    "data.index = date\n",
    "data.columns = ['price', 'vol']"
   ]
  },
  {
   "cell_type": "code",
   "execution_count": 54,
   "metadata": {},
   "outputs": [
    {
     "data": {
      "text/html": [
       "<div>\n",
       "<style scoped>\n",
       "    .dataframe tbody tr th:only-of-type {\n",
       "        vertical-align: middle;\n",
       "    }\n",
       "\n",
       "    .dataframe tbody tr th {\n",
       "        vertical-align: top;\n",
       "    }\n",
       "\n",
       "    .dataframe thead th {\n",
       "        text-align: right;\n",
       "    }\n",
       "</style>\n",
       "<table border=\"1\" class=\"dataframe\">\n",
       "  <thead>\n",
       "    <tr style=\"text-align: right;\">\n",
       "      <th></th>\n",
       "      <th>price</th>\n",
       "      <th>vol</th>\n",
       "    </tr>\n",
       "  </thead>\n",
       "  <tbody>\n",
       "    <tr>\n",
       "      <th>2016-05-12 14:22:53</th>\n",
       "      <td>17.44</td>\n",
       "      <td>12193620.0</td>\n",
       "    </tr>\n",
       "    <tr>\n",
       "      <th>2016-05-12 14:22:56</th>\n",
       "      <td>17.44</td>\n",
       "      <td>12193620.0</td>\n",
       "    </tr>\n",
       "    <tr>\n",
       "      <th>2016-05-12 14:22:59</th>\n",
       "      <td>17.44</td>\n",
       "      <td>12193620.0</td>\n",
       "    </tr>\n",
       "    <tr>\n",
       "      <th>2016-05-12 14:23:02</th>\n",
       "      <td>17.44</td>\n",
       "      <td>12193820.0</td>\n",
       "    </tr>\n",
       "    <tr>\n",
       "      <th>2016-05-12 14:23:05</th>\n",
       "      <td>17.45</td>\n",
       "      <td>12198720.0</td>\n",
       "    </tr>\n",
       "  </tbody>\n",
       "</table>\n",
       "</div>"
      ],
      "text/plain": [
       "                     price         vol\n",
       "2016-05-12 14:22:53  17.44  12193620.0\n",
       "2016-05-12 14:22:56  17.44  12193620.0\n",
       "2016-05-12 14:22:59  17.44  12193620.0\n",
       "2016-05-12 14:23:02  17.44  12193820.0\n",
       "2016-05-12 14:23:05  17.45  12198720.0"
      ]
     },
     "execution_count": 54,
     "metadata": {},
     "output_type": "execute_result"
    }
   ],
   "source": [
    "data.tail()"
   ]
  },
  {
   "cell_type": "markdown",
   "metadata": {},
   "source": [
    "### 合成数据"
   ]
  },
  {
   "cell_type": "code",
   "execution_count": 55,
   "metadata": {},
   "outputs": [],
   "source": [
    "tick = data.copy()"
   ]
  },
  {
   "cell_type": "code",
   "execution_count": 56,
   "metadata": {},
   "outputs": [],
   "source": [
    "tick = tick.assign(amount=tick.price * tick.vol)"
   ]
  },
  {
   "cell_type": "code",
   "execution_count": 57,
   "metadata": {},
   "outputs": [],
   "source": [
    "resx = pd.DataFrame()"
   ]
  },
  {
   "cell_type": "code",
   "execution_count": 58,
   "metadata": {},
   "outputs": [],
   "source": [
    "_temp = set(tick.index.date)"
   ]
  },
  {
   "cell_type": "code",
   "execution_count": 63,
   "metadata": {},
   "outputs": [
    {
     "data": {
      "text/plain": [
       "8"
      ]
     },
     "execution_count": 63,
     "metadata": {},
     "output_type": "execute_result"
    }
   ],
   "source": [
    "len(_temp)"
   ]
  },
  {
   "cell_type": "code",
   "execution_count": 65,
   "metadata": {},
   "outputs": [
    {
     "data": {
      "text/plain": [
       "{datetime.date(2016, 5, 3),\n",
       " datetime.date(2016, 5, 4),\n",
       " datetime.date(2016, 5, 5),\n",
       " datetime.date(2016, 5, 6),\n",
       " datetime.date(2016, 5, 9),\n",
       " datetime.date(2016, 5, 10),\n",
       " datetime.date(2016, 5, 11),\n",
       " datetime.date(2016, 5, 12)}"
      ]
     },
     "execution_count": 65,
     "metadata": {},
     "output_type": "execute_result"
    }
   ],
   "source": [
    "_temp"
   ]
  },
  {
   "cell_type": "code",
   "execution_count": 68,
   "metadata": {},
   "outputs": [
    {
     "name": "stdout",
     "output_type": "stream",
     "text": [
      "2016-05-12\n",
      "2016-05-11\n",
      "2016-05-04\n",
      "2016-05-10\n",
      "2016-05-05\n",
      "2016-05-03\n",
      "2016-05-09\n",
      "2016-05-06\n"
     ]
    }
   ],
   "source": [
    "for i in _temp:\n",
    "    print(str(i))"
   ]
  },
  {
   "cell_type": "code",
   "execution_count": null,
   "metadata": {},
   "outputs": [],
   "source": [
    "for item in _temp:\n",
    "    _data = tick.loc[str(item)]\n",
    "    _data1 = _data[time(9, 31) : time(11, 30)].resample(\n",
    "        )"
   ]
  },
  {
   "cell_type": "code",
   "execution_count": 72,
   "metadata": {
    "collapsed": true
   },
   "outputs": [
    {
     "data": {
      "text/html": [
       "<div>\n",
       "<style scoped>\n",
       "    .dataframe tbody tr th:only-of-type {\n",
       "        vertical-align: middle;\n",
       "    }\n",
       "\n",
       "    .dataframe tbody tr th {\n",
       "        vertical-align: top;\n",
       "    }\n",
       "\n",
       "    .dataframe thead th {\n",
       "        text-align: right;\n",
       "    }\n",
       "</style>\n",
       "<table border=\"1\" class=\"dataframe\">\n",
       "  <thead>\n",
       "    <tr style=\"text-align: right;\">\n",
       "      <th></th>\n",
       "      <th>price</th>\n",
       "      <th>vol</th>\n",
       "      <th>amount</th>\n",
       "    </tr>\n",
       "  </thead>\n",
       "  <tbody>\n",
       "    <tr>\n",
       "      <th>2016-05-03 09:31:01</th>\n",
       "      <td>17.96</td>\n",
       "      <td>411324.0</td>\n",
       "      <td>7.387379e+06</td>\n",
       "    </tr>\n",
       "    <tr>\n",
       "      <th>2016-05-03 09:31:04</th>\n",
       "      <td>17.94</td>\n",
       "      <td>427300.0</td>\n",
       "      <td>7.665762e+06</td>\n",
       "    </tr>\n",
       "    <tr>\n",
       "      <th>2016-05-03 09:31:07</th>\n",
       "      <td>17.94</td>\n",
       "      <td>454600.0</td>\n",
       "      <td>8.155524e+06</td>\n",
       "    </tr>\n",
       "    <tr>\n",
       "      <th>2016-05-03 09:31:10</th>\n",
       "      <td>17.94</td>\n",
       "      <td>454700.0</td>\n",
       "      <td>8.157318e+06</td>\n",
       "    </tr>\n",
       "    <tr>\n",
       "      <th>2016-05-03 09:31:13</th>\n",
       "      <td>17.94</td>\n",
       "      <td>454700.0</td>\n",
       "      <td>8.157318e+06</td>\n",
       "    </tr>\n",
       "    <tr>\n",
       "      <th>2016-05-03 09:31:16</th>\n",
       "      <td>17.93</td>\n",
       "      <td>458020.0</td>\n",
       "      <td>8.212299e+06</td>\n",
       "    </tr>\n",
       "    <tr>\n",
       "      <th>2016-05-03 09:31:19</th>\n",
       "      <td>17.93</td>\n",
       "      <td>461400.0</td>\n",
       "      <td>8.272902e+06</td>\n",
       "    </tr>\n",
       "    <tr>\n",
       "      <th>2016-05-03 09:31:22</th>\n",
       "      <td>17.91</td>\n",
       "      <td>465220.0</td>\n",
       "      <td>8.332090e+06</td>\n",
       "    </tr>\n",
       "    <tr>\n",
       "      <th>2016-05-03 09:31:25</th>\n",
       "      <td>17.91</td>\n",
       "      <td>465220.0</td>\n",
       "      <td>8.332090e+06</td>\n",
       "    </tr>\n",
       "    <tr>\n",
       "      <th>2016-05-03 09:31:28</th>\n",
       "      <td>17.95</td>\n",
       "      <td>468420.0</td>\n",
       "      <td>8.408139e+06</td>\n",
       "    </tr>\n",
       "    <tr>\n",
       "      <th>2016-05-03 09:31:30</th>\n",
       "      <td>17.95</td>\n",
       "      <td>469220.0</td>\n",
       "      <td>8.422499e+06</td>\n",
       "    </tr>\n",
       "    <tr>\n",
       "      <th>2016-05-03 09:31:34</th>\n",
       "      <td>17.93</td>\n",
       "      <td>469420.0</td>\n",
       "      <td>8.416701e+06</td>\n",
       "    </tr>\n",
       "    <tr>\n",
       "      <th>2016-05-03 09:31:37</th>\n",
       "      <td>17.92</td>\n",
       "      <td>473720.0</td>\n",
       "      <td>8.489062e+06</td>\n",
       "    </tr>\n",
       "    <tr>\n",
       "      <th>2016-05-03 09:31:40</th>\n",
       "      <td>17.92</td>\n",
       "      <td>473720.0</td>\n",
       "      <td>8.489062e+06</td>\n",
       "    </tr>\n",
       "    <tr>\n",
       "      <th>2016-05-03 09:31:43</th>\n",
       "      <td>17.93</td>\n",
       "      <td>473820.0</td>\n",
       "      <td>8.495593e+06</td>\n",
       "    </tr>\n",
       "    <tr>\n",
       "      <th>2016-05-03 09:31:45</th>\n",
       "      <td>17.93</td>\n",
       "      <td>478120.0</td>\n",
       "      <td>8.572692e+06</td>\n",
       "    </tr>\n",
       "    <tr>\n",
       "      <th>2016-05-03 09:31:49</th>\n",
       "      <td>17.93</td>\n",
       "      <td>478920.0</td>\n",
       "      <td>8.587036e+06</td>\n",
       "    </tr>\n",
       "    <tr>\n",
       "      <th>2016-05-03 09:31:52</th>\n",
       "      <td>17.92</td>\n",
       "      <td>482720.0</td>\n",
       "      <td>8.650342e+06</td>\n",
       "    </tr>\n",
       "    <tr>\n",
       "      <th>2016-05-03 09:31:55</th>\n",
       "      <td>17.92</td>\n",
       "      <td>482720.0</td>\n",
       "      <td>8.650342e+06</td>\n",
       "    </tr>\n",
       "    <tr>\n",
       "      <th>2016-05-03 09:31:58</th>\n",
       "      <td>17.92</td>\n",
       "      <td>484720.0</td>\n",
       "      <td>8.686182e+06</td>\n",
       "    </tr>\n",
       "    <tr>\n",
       "      <th>2016-05-03 09:32:01</th>\n",
       "      <td>17.92</td>\n",
       "      <td>485220.0</td>\n",
       "      <td>8.695142e+06</td>\n",
       "    </tr>\n",
       "    <tr>\n",
       "      <th>2016-05-03 09:32:04</th>\n",
       "      <td>17.92</td>\n",
       "      <td>485220.0</td>\n",
       "      <td>8.695142e+06</td>\n",
       "    </tr>\n",
       "    <tr>\n",
       "      <th>2016-05-03 09:32:07</th>\n",
       "      <td>17.95</td>\n",
       "      <td>486120.0</td>\n",
       "      <td>8.725854e+06</td>\n",
       "    </tr>\n",
       "    <tr>\n",
       "      <th>2016-05-03 09:32:10</th>\n",
       "      <td>17.93</td>\n",
       "      <td>486420.0</td>\n",
       "      <td>8.721511e+06</td>\n",
       "    </tr>\n",
       "    <tr>\n",
       "      <th>2016-05-03 09:32:13</th>\n",
       "      <td>17.93</td>\n",
       "      <td>489420.0</td>\n",
       "      <td>8.775301e+06</td>\n",
       "    </tr>\n",
       "    <tr>\n",
       "      <th>2016-05-03 09:32:16</th>\n",
       "      <td>17.93</td>\n",
       "      <td>489420.0</td>\n",
       "      <td>8.775301e+06</td>\n",
       "    </tr>\n",
       "    <tr>\n",
       "      <th>2016-05-03 09:32:18</th>\n",
       "      <td>17.93</td>\n",
       "      <td>489420.0</td>\n",
       "      <td>8.775301e+06</td>\n",
       "    </tr>\n",
       "    <tr>\n",
       "      <th>2016-05-03 09:32:22</th>\n",
       "      <td>17.94</td>\n",
       "      <td>490420.0</td>\n",
       "      <td>8.798135e+06</td>\n",
       "    </tr>\n",
       "    <tr>\n",
       "      <th>2016-05-03 09:32:25</th>\n",
       "      <td>17.93</td>\n",
       "      <td>491920.0</td>\n",
       "      <td>8.820126e+06</td>\n",
       "    </tr>\n",
       "    <tr>\n",
       "      <th>2016-05-03 09:32:28</th>\n",
       "      <td>17.93</td>\n",
       "      <td>491920.0</td>\n",
       "      <td>8.820126e+06</td>\n",
       "    </tr>\n",
       "    <tr>\n",
       "      <th>...</th>\n",
       "      <td>...</td>\n",
       "      <td>...</td>\n",
       "      <td>...</td>\n",
       "    </tr>\n",
       "    <tr>\n",
       "      <th>2016-05-12 11:28:26</th>\n",
       "      <td>17.40</td>\n",
       "      <td>8634753.0</td>\n",
       "      <td>1.502447e+08</td>\n",
       "    </tr>\n",
       "    <tr>\n",
       "      <th>2016-05-12 11:28:29</th>\n",
       "      <td>17.39</td>\n",
       "      <td>8635053.0</td>\n",
       "      <td>1.501636e+08</td>\n",
       "    </tr>\n",
       "    <tr>\n",
       "      <th>2016-05-12 11:28:32</th>\n",
       "      <td>17.39</td>\n",
       "      <td>8635153.0</td>\n",
       "      <td>1.501653e+08</td>\n",
       "    </tr>\n",
       "    <tr>\n",
       "      <th>2016-05-12 11:28:35</th>\n",
       "      <td>17.40</td>\n",
       "      <td>8637753.0</td>\n",
       "      <td>1.502969e+08</td>\n",
       "    </tr>\n",
       "    <tr>\n",
       "      <th>2016-05-12 11:28:41</th>\n",
       "      <td>17.40</td>\n",
       "      <td>8638253.0</td>\n",
       "      <td>1.503056e+08</td>\n",
       "    </tr>\n",
       "    <tr>\n",
       "      <th>2016-05-12 11:28:44</th>\n",
       "      <td>17.40</td>\n",
       "      <td>8638253.0</td>\n",
       "      <td>1.503056e+08</td>\n",
       "    </tr>\n",
       "    <tr>\n",
       "      <th>2016-05-12 11:28:47</th>\n",
       "      <td>17.40</td>\n",
       "      <td>8638253.0</td>\n",
       "      <td>1.503056e+08</td>\n",
       "    </tr>\n",
       "    <tr>\n",
       "      <th>2016-05-12 11:28:50</th>\n",
       "      <td>17.40</td>\n",
       "      <td>8639353.0</td>\n",
       "      <td>1.503247e+08</td>\n",
       "    </tr>\n",
       "    <tr>\n",
       "      <th>2016-05-12 11:28:53</th>\n",
       "      <td>17.40</td>\n",
       "      <td>8643753.0</td>\n",
       "      <td>1.504013e+08</td>\n",
       "    </tr>\n",
       "    <tr>\n",
       "      <th>2016-05-12 11:28:56</th>\n",
       "      <td>17.40</td>\n",
       "      <td>8648053.0</td>\n",
       "      <td>1.504761e+08</td>\n",
       "    </tr>\n",
       "    <tr>\n",
       "      <th>2016-05-12 11:28:59</th>\n",
       "      <td>17.41</td>\n",
       "      <td>8656953.0</td>\n",
       "      <td>1.507176e+08</td>\n",
       "    </tr>\n",
       "    <tr>\n",
       "      <th>2016-05-12 11:29:02</th>\n",
       "      <td>17.41</td>\n",
       "      <td>8659153.0</td>\n",
       "      <td>1.507559e+08</td>\n",
       "    </tr>\n",
       "    <tr>\n",
       "      <th>2016-05-12 11:29:05</th>\n",
       "      <td>17.42</td>\n",
       "      <td>8667653.0</td>\n",
       "      <td>1.509905e+08</td>\n",
       "    </tr>\n",
       "    <tr>\n",
       "      <th>2016-05-12 11:29:11</th>\n",
       "      <td>17.42</td>\n",
       "      <td>8674253.0</td>\n",
       "      <td>1.511055e+08</td>\n",
       "    </tr>\n",
       "    <tr>\n",
       "      <th>2016-05-12 11:29:14</th>\n",
       "      <td>17.42</td>\n",
       "      <td>8674253.0</td>\n",
       "      <td>1.511055e+08</td>\n",
       "    </tr>\n",
       "    <tr>\n",
       "      <th>2016-05-12 11:29:17</th>\n",
       "      <td>17.42</td>\n",
       "      <td>8674253.0</td>\n",
       "      <td>1.511055e+08</td>\n",
       "    </tr>\n",
       "    <tr>\n",
       "      <th>2016-05-12 11:29:20</th>\n",
       "      <td>17.42</td>\n",
       "      <td>8679853.0</td>\n",
       "      <td>1.512030e+08</td>\n",
       "    </tr>\n",
       "    <tr>\n",
       "      <th>2016-05-12 11:29:23</th>\n",
       "      <td>17.42</td>\n",
       "      <td>8680853.0</td>\n",
       "      <td>1.512205e+08</td>\n",
       "    </tr>\n",
       "    <tr>\n",
       "      <th>2016-05-12 11:29:26</th>\n",
       "      <td>17.41</td>\n",
       "      <td>8681153.0</td>\n",
       "      <td>1.511389e+08</td>\n",
       "    </tr>\n",
       "    <tr>\n",
       "      <th>2016-05-12 11:29:29</th>\n",
       "      <td>17.41</td>\n",
       "      <td>8681153.0</td>\n",
       "      <td>1.511389e+08</td>\n",
       "    </tr>\n",
       "    <tr>\n",
       "      <th>2016-05-12 11:29:32</th>\n",
       "      <td>17.42</td>\n",
       "      <td>8684953.0</td>\n",
       "      <td>1.512919e+08</td>\n",
       "    </tr>\n",
       "    <tr>\n",
       "      <th>2016-05-12 11:29:35</th>\n",
       "      <td>17.42</td>\n",
       "      <td>8686544.0</td>\n",
       "      <td>1.513196e+08</td>\n",
       "    </tr>\n",
       "    <tr>\n",
       "      <th>2016-05-12 11:29:38</th>\n",
       "      <td>17.42</td>\n",
       "      <td>8686544.0</td>\n",
       "      <td>1.513196e+08</td>\n",
       "    </tr>\n",
       "    <tr>\n",
       "      <th>2016-05-12 11:29:41</th>\n",
       "      <td>17.42</td>\n",
       "      <td>8686544.0</td>\n",
       "      <td>1.513196e+08</td>\n",
       "    </tr>\n",
       "    <tr>\n",
       "      <th>2016-05-12 11:29:44</th>\n",
       "      <td>17.42</td>\n",
       "      <td>8687453.0</td>\n",
       "      <td>1.513354e+08</td>\n",
       "    </tr>\n",
       "    <tr>\n",
       "      <th>2016-05-12 11:29:47</th>\n",
       "      <td>17.43</td>\n",
       "      <td>8687753.0</td>\n",
       "      <td>1.514275e+08</td>\n",
       "    </tr>\n",
       "    <tr>\n",
       "      <th>2016-05-12 11:29:50</th>\n",
       "      <td>17.43</td>\n",
       "      <td>8687753.0</td>\n",
       "      <td>1.514275e+08</td>\n",
       "    </tr>\n",
       "    <tr>\n",
       "      <th>2016-05-12 11:29:53</th>\n",
       "      <td>17.43</td>\n",
       "      <td>8687753.0</td>\n",
       "      <td>1.514275e+08</td>\n",
       "    </tr>\n",
       "    <tr>\n",
       "      <th>2016-05-12 11:29:56</th>\n",
       "      <td>17.43</td>\n",
       "      <td>8687753.0</td>\n",
       "      <td>1.514275e+08</td>\n",
       "    </tr>\n",
       "    <tr>\n",
       "      <th>2016-05-12 11:29:59</th>\n",
       "      <td>17.43</td>\n",
       "      <td>8687753.0</td>\n",
       "      <td>1.514275e+08</td>\n",
       "    </tr>\n",
       "  </tbody>\n",
       "</table>\n",
       "<p>18111 rows × 3 columns</p>\n",
       "</div>"
      ],
      "text/plain": [
       "                     price        vol        amount\n",
       "2016-05-03 09:31:01  17.96   411324.0  7.387379e+06\n",
       "2016-05-03 09:31:04  17.94   427300.0  7.665762e+06\n",
       "2016-05-03 09:31:07  17.94   454600.0  8.155524e+06\n",
       "2016-05-03 09:31:10  17.94   454700.0  8.157318e+06\n",
       "2016-05-03 09:31:13  17.94   454700.0  8.157318e+06\n",
       "2016-05-03 09:31:16  17.93   458020.0  8.212299e+06\n",
       "2016-05-03 09:31:19  17.93   461400.0  8.272902e+06\n",
       "2016-05-03 09:31:22  17.91   465220.0  8.332090e+06\n",
       "2016-05-03 09:31:25  17.91   465220.0  8.332090e+06\n",
       "2016-05-03 09:31:28  17.95   468420.0  8.408139e+06\n",
       "2016-05-03 09:31:30  17.95   469220.0  8.422499e+06\n",
       "2016-05-03 09:31:34  17.93   469420.0  8.416701e+06\n",
       "2016-05-03 09:31:37  17.92   473720.0  8.489062e+06\n",
       "2016-05-03 09:31:40  17.92   473720.0  8.489062e+06\n",
       "2016-05-03 09:31:43  17.93   473820.0  8.495593e+06\n",
       "2016-05-03 09:31:45  17.93   478120.0  8.572692e+06\n",
       "2016-05-03 09:31:49  17.93   478920.0  8.587036e+06\n",
       "2016-05-03 09:31:52  17.92   482720.0  8.650342e+06\n",
       "2016-05-03 09:31:55  17.92   482720.0  8.650342e+06\n",
       "2016-05-03 09:31:58  17.92   484720.0  8.686182e+06\n",
       "2016-05-03 09:32:01  17.92   485220.0  8.695142e+06\n",
       "2016-05-03 09:32:04  17.92   485220.0  8.695142e+06\n",
       "2016-05-03 09:32:07  17.95   486120.0  8.725854e+06\n",
       "2016-05-03 09:32:10  17.93   486420.0  8.721511e+06\n",
       "2016-05-03 09:32:13  17.93   489420.0  8.775301e+06\n",
       "2016-05-03 09:32:16  17.93   489420.0  8.775301e+06\n",
       "2016-05-03 09:32:18  17.93   489420.0  8.775301e+06\n",
       "2016-05-03 09:32:22  17.94   490420.0  8.798135e+06\n",
       "2016-05-03 09:32:25  17.93   491920.0  8.820126e+06\n",
       "2016-05-03 09:32:28  17.93   491920.0  8.820126e+06\n",
       "...                    ...        ...           ...\n",
       "2016-05-12 11:28:26  17.40  8634753.0  1.502447e+08\n",
       "2016-05-12 11:28:29  17.39  8635053.0  1.501636e+08\n",
       "2016-05-12 11:28:32  17.39  8635153.0  1.501653e+08\n",
       "2016-05-12 11:28:35  17.40  8637753.0  1.502969e+08\n",
       "2016-05-12 11:28:41  17.40  8638253.0  1.503056e+08\n",
       "2016-05-12 11:28:44  17.40  8638253.0  1.503056e+08\n",
       "2016-05-12 11:28:47  17.40  8638253.0  1.503056e+08\n",
       "2016-05-12 11:28:50  17.40  8639353.0  1.503247e+08\n",
       "2016-05-12 11:28:53  17.40  8643753.0  1.504013e+08\n",
       "2016-05-12 11:28:56  17.40  8648053.0  1.504761e+08\n",
       "2016-05-12 11:28:59  17.41  8656953.0  1.507176e+08\n",
       "2016-05-12 11:29:02  17.41  8659153.0  1.507559e+08\n",
       "2016-05-12 11:29:05  17.42  8667653.0  1.509905e+08\n",
       "2016-05-12 11:29:11  17.42  8674253.0  1.511055e+08\n",
       "2016-05-12 11:29:14  17.42  8674253.0  1.511055e+08\n",
       "2016-05-12 11:29:17  17.42  8674253.0  1.511055e+08\n",
       "2016-05-12 11:29:20  17.42  8679853.0  1.512030e+08\n",
       "2016-05-12 11:29:23  17.42  8680853.0  1.512205e+08\n",
       "2016-05-12 11:29:26  17.41  8681153.0  1.511389e+08\n",
       "2016-05-12 11:29:29  17.41  8681153.0  1.511389e+08\n",
       "2016-05-12 11:29:32  17.42  8684953.0  1.512919e+08\n",
       "2016-05-12 11:29:35  17.42  8686544.0  1.513196e+08\n",
       "2016-05-12 11:29:38  17.42  8686544.0  1.513196e+08\n",
       "2016-05-12 11:29:41  17.42  8686544.0  1.513196e+08\n",
       "2016-05-12 11:29:44  17.42  8687453.0  1.513354e+08\n",
       "2016-05-12 11:29:47  17.43  8687753.0  1.514275e+08\n",
       "2016-05-12 11:29:50  17.43  8687753.0  1.514275e+08\n",
       "2016-05-12 11:29:53  17.43  8687753.0  1.514275e+08\n",
       "2016-05-12 11:29:56  17.43  8687753.0  1.514275e+08\n",
       "2016-05-12 11:29:59  17.43  8687753.0  1.514275e+08\n",
       "\n",
       "[18111 rows x 3 columns]"
      ]
     },
     "execution_count": 72,
     "metadata": {},
     "output_type": "execute_result"
    }
   ],
   "source": [
    "tick.loc[time(9, 31) : time(11, 30)]"
   ]
  },
  {
   "cell_type": "code",
   "execution_count": 73,
   "metadata": {},
   "outputs": [],
   "source": [
    "test = tick.loc['2016-05-06']"
   ]
  },
  {
   "cell_type": "code",
   "execution_count": 77,
   "metadata": {},
   "outputs": [
    {
     "data": {
      "text/html": [
       "<div>\n",
       "<style scoped>\n",
       "    .dataframe tbody tr th:only-of-type {\n",
       "        vertical-align: middle;\n",
       "    }\n",
       "\n",
       "    .dataframe tbody tr th {\n",
       "        vertical-align: top;\n",
       "    }\n",
       "\n",
       "    .dataframe thead th {\n",
       "        text-align: right;\n",
       "    }\n",
       "</style>\n",
       "<table border=\"1\" class=\"dataframe\">\n",
       "  <thead>\n",
       "    <tr style=\"text-align: right;\">\n",
       "      <th></th>\n",
       "      <th>price</th>\n",
       "      <th>vol</th>\n",
       "      <th>amount</th>\n",
       "    </tr>\n",
       "  </thead>\n",
       "  <tbody>\n",
       "    <tr>\n",
       "      <th>2016-05-06 09:14:45</th>\n",
       "      <td>0.0</td>\n",
       "      <td>0.0</td>\n",
       "      <td>0.0</td>\n",
       "    </tr>\n",
       "    <tr>\n",
       "      <th>2016-05-06 09:14:51</th>\n",
       "      <td>0.0</td>\n",
       "      <td>0.0</td>\n",
       "      <td>0.0</td>\n",
       "    </tr>\n",
       "    <tr>\n",
       "      <th>2016-05-06 09:15:00</th>\n",
       "      <td>0.0</td>\n",
       "      <td>0.0</td>\n",
       "      <td>0.0</td>\n",
       "    </tr>\n",
       "    <tr>\n",
       "      <th>2016-05-06 09:15:15</th>\n",
       "      <td>0.0</td>\n",
       "      <td>0.0</td>\n",
       "      <td>0.0</td>\n",
       "    </tr>\n",
       "    <tr>\n",
       "      <th>2016-05-06 09:15:44</th>\n",
       "      <td>0.0</td>\n",
       "      <td>0.0</td>\n",
       "      <td>0.0</td>\n",
       "    </tr>\n",
       "  </tbody>\n",
       "</table>\n",
       "</div>"
      ],
      "text/plain": [
       "                     price  vol  amount\n",
       "2016-05-06 09:14:45    0.0  0.0     0.0\n",
       "2016-05-06 09:14:51    0.0  0.0     0.0\n",
       "2016-05-06 09:15:00    0.0  0.0     0.0\n",
       "2016-05-06 09:15:15    0.0  0.0     0.0\n",
       "2016-05-06 09:15:44    0.0  0.0     0.0"
      ]
     },
     "execution_count": 77,
     "metadata": {},
     "output_type": "execute_result"
    }
   ],
   "source": [
    "test.head()"
   ]
  },
  {
   "cell_type": "code",
   "execution_count": 96,
   "metadata": {},
   "outputs": [],
   "source": [
    "test1 = test.loc[time(9, 31) : time(11, 30)].resample(\n",
    "    '1min',  closed='right', base=30, loffset='1min').apply({\n",
    "    'price':'ohlc', 'vol':lambda x : x.max() - x.min(),\n",
    "    'amount':lambda x : x.max() - x.min()\n",
    "})"
   ]
  },
  {
   "cell_type": "code",
   "execution_count": 97,
   "metadata": {},
   "outputs": [],
   "source": [
    "test2 = test.loc[time(13,1):time(15,0)].resample(\n",
    "    '1min', closed='right', base=30, loffset='1min').apply({\n",
    "    'price':'ohlc', 'vol':lambda x:x.max()-x.min(),\n",
    "    'amount':lambda x:x.max()-x.min()\n",
    "})"
   ]
  },
  {
   "cell_type": "code",
   "execution_count": 99,
   "metadata": {},
   "outputs": [
    {
     "data": {
      "text/html": [
       "<div>\n",
       "<style scoped>\n",
       "    .dataframe tbody tr th:only-of-type {\n",
       "        vertical-align: middle;\n",
       "    }\n",
       "\n",
       "    .dataframe tbody tr th {\n",
       "        vertical-align: top;\n",
       "    }\n",
       "\n",
       "    .dataframe thead tr th {\n",
       "        text-align: left;\n",
       "    }\n",
       "</style>\n",
       "<table border=\"1\" class=\"dataframe\">\n",
       "  <thead>\n",
       "    <tr>\n",
       "      <th></th>\n",
       "      <th colspan=\"4\" halign=\"left\">price</th>\n",
       "      <th>vol</th>\n",
       "      <th>amount</th>\n",
       "    </tr>\n",
       "    <tr>\n",
       "      <th></th>\n",
       "      <th>open</th>\n",
       "      <th>high</th>\n",
       "      <th>low</th>\n",
       "      <th>close</th>\n",
       "      <th>vol</th>\n",
       "      <th>amount</th>\n",
       "    </tr>\n",
       "  </thead>\n",
       "  <tbody>\n",
       "    <tr>\n",
       "      <th>2016-05-06 11:26:00</th>\n",
       "      <td>17.80</td>\n",
       "      <td>17.80</td>\n",
       "      <td>17.78</td>\n",
       "      <td>17.78</td>\n",
       "      <td>155521.0</td>\n",
       "      <td>2510868.84</td>\n",
       "    </tr>\n",
       "    <tr>\n",
       "      <th>2016-05-06 11:27:00</th>\n",
       "      <td>17.78</td>\n",
       "      <td>17.79</td>\n",
       "      <td>17.78</td>\n",
       "      <td>17.78</td>\n",
       "      <td>186100.0</td>\n",
       "      <td>3308858.00</td>\n",
       "    </tr>\n",
       "    <tr>\n",
       "      <th>2016-05-06 11:28:00</th>\n",
       "      <td>17.77</td>\n",
       "      <td>17.78</td>\n",
       "      <td>17.77</td>\n",
       "      <td>17.78</td>\n",
       "      <td>96600.0</td>\n",
       "      <td>1848198.48</td>\n",
       "    </tr>\n",
       "    <tr>\n",
       "      <th>2016-05-06 11:29:00</th>\n",
       "      <td>17.78</td>\n",
       "      <td>17.81</td>\n",
       "      <td>17.77</td>\n",
       "      <td>17.80</td>\n",
       "      <td>68500.0</td>\n",
       "      <td>1554286.44</td>\n",
       "    </tr>\n",
       "    <tr>\n",
       "      <th>2016-05-06 11:30:00</th>\n",
       "      <td>17.79</td>\n",
       "      <td>17.82</td>\n",
       "      <td>17.79</td>\n",
       "      <td>17.81</td>\n",
       "      <td>29200.0</td>\n",
       "      <td>784678.96</td>\n",
       "    </tr>\n",
       "  </tbody>\n",
       "</table>\n",
       "</div>"
      ],
      "text/plain": [
       "                     price                            vol      amount\n",
       "                      open   high    low  close       vol      amount\n",
       "2016-05-06 11:26:00  17.80  17.80  17.78  17.78  155521.0  2510868.84\n",
       "2016-05-06 11:27:00  17.78  17.79  17.78  17.78  186100.0  3308858.00\n",
       "2016-05-06 11:28:00  17.77  17.78  17.77  17.78   96600.0  1848198.48\n",
       "2016-05-06 11:29:00  17.78  17.81  17.77  17.80   68500.0  1554286.44\n",
       "2016-05-06 11:30:00  17.79  17.82  17.79  17.81   29200.0   784678.96"
      ]
     },
     "execution_count": 99,
     "metadata": {},
     "output_type": "execute_result"
    }
   ],
   "source": [
    "test1.tail()"
   ]
  },
  {
   "cell_type": "code",
   "execution_count": 100,
   "metadata": {},
   "outputs": [
    {
     "data": {
      "text/plain": [
       "Index(['open', 'high', 'low', 'close', 'vol', 'amount'], dtype='object')"
      ]
     },
     "execution_count": 100,
     "metadata": {},
     "output_type": "execute_result"
    }
   ],
   "source": [
    "test1.columns.droplevel(0)"
   ]
  },
  {
   "cell_type": "code",
   "execution_count": 87,
   "metadata": {},
   "outputs": [],
   "source": [
    "pd.DataFrame.first"
   ]
  },
  {
   "cell_type": "code",
   "execution_count": 89,
   "metadata": {},
   "outputs": [],
   "source": [
    "pd.DataFrame.last??"
   ]
  },
  {
   "cell_type": "code",
   "execution_count": 101,
   "metadata": {},
   "outputs": [
    {
     "name": "stderr",
     "output_type": "stream",
     "text": [
      "QUANTAXIS>> Selecting the Best Server IP of TDX\n"
     ]
    },
    {
     "name": "stdout",
     "output_type": "stream",
     "text": [
      "DEFAULT STOCK IP is BAD, RETESTING\n",
      "BAD RESPONSE 61.152.107.168\n",
      "BAD RESPONSE 113.05.73.88\n",
      "BAD RESPONSE 119.147.171.206\n",
      "BAD RESPONSE 121.14.2.7\n",
      "BAD RESPONSE 60.28.29.69\n",
      "BAD RESPONSE 180.153.18.17\n",
      "BAD RESPONSE 59.173.18.69\n",
      "BAD RESPONSE 61.153.144.179\n",
      "BAD RESPONSE 119.29.51.30\n",
      "BAD RESPONSE 121.14.104.70\n",
      "BAD RESPONSE 121.14.104.72\n",
      "BAD RESPONSE 114.80.149.84\n",
      "USING DEFAULT FUTURE IP\n"
     ]
    },
    {
     "name": "stderr",
     "output_type": "stream",
     "text": [
      "QUANTAXIS>> === The BEST SERVER ===\n",
      " stock_ip jstdx.gtjas.com future_ip 59.175.238.38\n",
      "QUANTAXIS>> Successfully Getting 000001 history transaction data in day 2016-05-03\n",
      "QUANTAXIS>> Successfully Getting 000001 history transaction data in day 2016-05-04\n",
      "QUANTAXIS>> Successfully Getting 000001 history transaction data in day 2016-05-05\n",
      "QUANTAXIS>> Successfully Getting 000001 history transaction data in day 2016-05-06\n",
      "QUANTAXIS>> Successfully Getting 000001 history transaction data in day 2016-05-09\n",
      "QUANTAXIS>> Successfully Getting 000001 history transaction data in day 2016-05-10\n",
      "QUANTAXIS>> Successfully Getting 000001 history transaction data in day 2016-05-11\n",
      "QUANTAXIS>> Successfully Getting 000001 history transaction data in day 2016-05-12\n"
     ]
    }
   ],
   "source": [
    "tick_ = QA.QA_fetch_get_stock_transaction('pytdx', '000001', '2016-05-03', '2016-05-12')"
   ]
  },
  {
   "cell_type": "code",
   "execution_count": 102,
   "metadata": {},
   "outputs": [
    {
     "data": {
      "text/html": [
       "<div>\n",
       "<style scoped>\n",
       "    .dataframe tbody tr th:only-of-type {\n",
       "        vertical-align: middle;\n",
       "    }\n",
       "\n",
       "    .dataframe tbody tr th {\n",
       "        vertical-align: top;\n",
       "    }\n",
       "\n",
       "    .dataframe thead th {\n",
       "        text-align: right;\n",
       "    }\n",
       "</style>\n",
       "<table border=\"1\" class=\"dataframe\">\n",
       "  <thead>\n",
       "    <tr style=\"text-align: right;\">\n",
       "      <th></th>\n",
       "      <th>time</th>\n",
       "      <th>price</th>\n",
       "      <th>vol</th>\n",
       "      <th>buyorsell</th>\n",
       "      <th>date</th>\n",
       "      <th>datetime</th>\n",
       "      <th>code</th>\n",
       "      <th>order</th>\n",
       "    </tr>\n",
       "    <tr>\n",
       "      <th>datetime</th>\n",
       "      <th></th>\n",
       "      <th></th>\n",
       "      <th></th>\n",
       "      <th></th>\n",
       "      <th></th>\n",
       "      <th></th>\n",
       "      <th></th>\n",
       "      <th></th>\n",
       "    </tr>\n",
       "  </thead>\n",
       "  <tbody>\n",
       "    <tr>\n",
       "      <th>2016-05-03 09:30:00</th>\n",
       "      <td>09:30</td>\n",
       "      <td>10.58</td>\n",
       "      <td>1344</td>\n",
       "      <td>2</td>\n",
       "      <td>2016-05-03</td>\n",
       "      <td>2016-05-03 09:30:00</td>\n",
       "      <td>000001</td>\n",
       "      <td>0</td>\n",
       "    </tr>\n",
       "    <tr>\n",
       "      <th>2016-05-03 09:30:00</th>\n",
       "      <td>09:30</td>\n",
       "      <td>10.58</td>\n",
       "      <td>40</td>\n",
       "      <td>0</td>\n",
       "      <td>2016-05-03</td>\n",
       "      <td>2016-05-03 09:30:00</td>\n",
       "      <td>000001</td>\n",
       "      <td>1</td>\n",
       "    </tr>\n",
       "    <tr>\n",
       "      <th>2016-05-03 09:30:00</th>\n",
       "      <td>09:30</td>\n",
       "      <td>10.58</td>\n",
       "      <td>41</td>\n",
       "      <td>0</td>\n",
       "      <td>2016-05-03</td>\n",
       "      <td>2016-05-03 09:30:00</td>\n",
       "      <td>000001</td>\n",
       "      <td>2</td>\n",
       "    </tr>\n",
       "    <tr>\n",
       "      <th>2016-05-03 09:30:00</th>\n",
       "      <td>09:30</td>\n",
       "      <td>10.58</td>\n",
       "      <td>3234</td>\n",
       "      <td>0</td>\n",
       "      <td>2016-05-03</td>\n",
       "      <td>2016-05-03 09:30:00</td>\n",
       "      <td>000001</td>\n",
       "      <td>3</td>\n",
       "    </tr>\n",
       "    <tr>\n",
       "      <th>2016-05-03 09:30:00</th>\n",
       "      <td>09:30</td>\n",
       "      <td>10.59</td>\n",
       "      <td>3</td>\n",
       "      <td>0</td>\n",
       "      <td>2016-05-03</td>\n",
       "      <td>2016-05-03 09:30:00</td>\n",
       "      <td>000001</td>\n",
       "      <td>4</td>\n",
       "    </tr>\n",
       "  </tbody>\n",
       "</table>\n",
       "</div>"
      ],
      "text/plain": [
       "                      time  price   vol  buyorsell        date  \\\n",
       "datetime                                                         \n",
       "2016-05-03 09:30:00  09:30  10.58  1344          2  2016-05-03   \n",
       "2016-05-03 09:30:00  09:30  10.58    40          0  2016-05-03   \n",
       "2016-05-03 09:30:00  09:30  10.58    41          0  2016-05-03   \n",
       "2016-05-03 09:30:00  09:30  10.58  3234          0  2016-05-03   \n",
       "2016-05-03 09:30:00  09:30  10.59     3          0  2016-05-03   \n",
       "\n",
       "                                datetime    code  order  \n",
       "datetime                                                 \n",
       "2016-05-03 09:30:00  2016-05-03 09:30:00  000001      0  \n",
       "2016-05-03 09:30:00  2016-05-03 09:30:00  000001      1  \n",
       "2016-05-03 09:30:00  2016-05-03 09:30:00  000001      2  \n",
       "2016-05-03 09:30:00  2016-05-03 09:30:00  000001      3  \n",
       "2016-05-03 09:30:00  2016-05-03 09:30:00  000001      4  "
      ]
     },
     "execution_count": 102,
     "metadata": {},
     "output_type": "execute_result"
    }
   ],
   "source": [
    "tick_.head()"
   ]
  },
  {
   "cell_type": "code",
   "execution_count": 103,
   "metadata": {},
   "outputs": [],
   "source": [
    "QA.QA_fetch_get_stock_transaction??"
   ]
  },
  {
   "cell_type": "markdown",
   "metadata": {},
   "source": [
    "### 计算上证指数日平均涨幅和月平均涨幅"
   ]
  },
  {
   "cell_type": "code",
   "execution_count": 111,
   "metadata": {},
   "outputs": [],
   "source": [
    "sz_index_data = QA.QA_fetch_index_day_adv('000001', '1989-12-19','2018-10-01')"
   ]
  },
  {
   "cell_type": "code",
   "execution_count": 113,
   "metadata": {},
   "outputs": [],
   "source": [
    "sz_index_daily_returns = sz_index_data.close.pct_change()[1:]"
   ]
  },
  {
   "cell_type": "code",
   "execution_count": 116,
   "metadata": {
    "scrolled": true
   },
   "outputs": [
    {
     "data": {
      "image/png": "[encoded data removed]",
      "text/plain": [
       "<Figure size 864x576 with 1 Axes>"
      ]
     },
     "metadata": {
      "needs_background": "light"
     },
     "output_type": "display_data"
    }
   ],
   "source": [
    "sz_index_daily_returns.xs('000001', level=1).plot();"
   ]
  },
  {
   "cell_type": "code",
   "execution_count": 118,
   "metadata": {},
   "outputs": [
    {
     "data": {
      "image/png": "[encoded data removed]",
      "text/plain": [
       "<Figure size 864x576 with 1 Axes>"
      ]
     },
     "metadata": {
      "needs_background": "light"
     },
     "output_type": "display_data"
    }
   ],
   "source": [
    "sz_index_daily_returns.xs('000001', level=1).resample('M').mean().plot();"
   ]
  },
  {
   "cell_type": "code",
   "execution_count": 123,
   "metadata": {},
   "outputs": [
    {
     "data": {
      "text/plain": [
       "(6774,)"
      ]
     },
     "execution_count": 123,
     "metadata": {},
     "output_type": "execute_result"
    }
   ],
   "source": [
    "sz_index_daily_returns.shape"
   ]
  },
  {
   "cell_type": "code",
   "execution_count": 126,
   "metadata": {},
   "outputs": [
    {
     "data": {
      "image/png": "[encoded data removed]",
      "text/plain": [
       "<Figure size 864x576 with 1 Axes>"
      ]
     },
     "metadata": {
      "needs_background": "light"
     },
     "output_type": "display_data"
    }
   ],
   "source": [
    "sz_index_daily_returns.plot.hist(bins=150, range=(-.11, .11));"
   ]
  },
  {
   "cell_type": "markdown",
   "metadata": {},
   "source": [
    "#### 验证上证日回报是否服从正态分布"
   ]
  },
  {
   "cell_type": "code",
   "execution_count": 127,
   "metadata": {},
   "outputs": [],
   "source": [
    "from statsmodels.stats.stattools import jarque_bera"
   ]
  },
  {
   "cell_type": "code",
   "execution_count": 132,
   "metadata": {},
   "outputs": [
    {
     "data": {
      "text/plain": [
       "(64519152.87290184, 0.0, 12.193499874003324, 480.4871170566569)"
      ]
     },
     "execution_count": 132,
     "metadata": {},
     "output_type": "execute_result"
    }
   ],
   "source": [
    "jarque_bera(sz_index_daily_returns)"
   ]
  },
  {
   "cell_type": "markdown",
   "metadata": {},
   "source": [
    "p-value = 0.0 < 0.05, so the returns of the 000001 is not normally"
   ]
  }
 ],
 "metadata": {
  "kernelspec": {
   "display_name": "Python (quant)",
   "language": "python",
   "name": "quant"
  },
  "language_info": {
   "codemirror_mode": {
    "name": "ipython",
    "version": 3
   },
   "file_extension": ".py",
   "mimetype": "text/x-python",
   "name": "python",
   "nbconvert_exporter": "python",
   "pygments_lexer": "ipython3",
   "version": "3.6.6"
  },
  "toc": {
   "base_numbering": 1,
   "nav_menu": {},
   "number_sections": true,
   "sideBar": true,
   "skip_h1_title": false,
   "title_cell": "Table of Contents",
   "title_sidebar": "Contents",
   "toc_cell": false,
   "toc_position": {},
   "toc_section_display": true,
   "toc_window_display": false
  },
  "varInspector": {
   "cols": {
    "lenName": 16,
    "lenType": 16,
    "lenVar": 40
   },
   "kernels_config": {
    "python": {
     "delete_cmd_postfix": "",
     "delete_cmd_prefix": "del ",
     "library": "var_list.py",
     "varRefreshCmd": "print(var_dic_list())"
    },
    "r": {
     "delete_cmd_postfix": ") ",
     "delete_cmd_prefix": "rm(",
     "library": "var_list.r",
     "varRefreshCmd": "cat(var_dic_list()) "
    }
   },
   "types_to_exclude": [
    "module",
    "function",
    "builtin_function_or_method",
    "instance",
    "_Feature"
   ],
   "window_display": false
  }
 },
 "nbformat": 4,
 "nbformat_minor": 2
}
