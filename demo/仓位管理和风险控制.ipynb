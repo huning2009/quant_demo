{
 "cells": [
  {
   "cell_type": "markdown",
   "metadata": {},
   "source": [
    "仓位管理"
   ]
  },
  {
   "cell_type": "code",
   "execution_count": 1,
   "metadata": {},
   "outputs": [],
   "source": [
    "import numpy as np\n",
    "import pandas as pd\n",
    "import matplotlib.pyplot as plt\n",
    "import seaborn as sns\n",
    "# import statsmodels.api as sm\n",
    "import QUANTAXIS as QA\n",
    "import talib as ta\n",
    "import datetime #, time"
   ]
  },
  {
   "cell_type": "markdown",
   "metadata": {},
   "source": [
    "每次下注10元"
   ]
  },
  {
   "cell_type": "code",
   "execution_count": 2,
   "metadata": {},
   "outputs": [
    {
     "data": {
      "text/plain": [
       "1198.538"
      ]
     },
     "execution_count": 2,
     "metadata": {},
     "output_type": "execute_result"
    }
   ],
   "source": [
    "result = []\n",
    "\n",
    "for i in range(1000):\n",
    "    \n",
    "    init_assets = 1000\n",
    "    assets = init_assets\n",
    "    for j in range(1000):\n",
    "        num = 10\n",
    "        _result = np.random.choice([0.7, -1],p=[0.6, 0.4])\n",
    "        assets += num * _result\n",
    "        \n",
    "    result.append(assets)\n",
    "        \n",
    "np.mean(result)"
   ]
  },
  {
   "cell_type": "markdown",
   "metadata": {},
   "source": [
    "每次下注总金额的1%"
   ]
  },
  {
   "cell_type": "code",
   "execution_count": 3,
   "metadata": {},
   "outputs": [
    {
     "data": {
      "text/plain": [
       "1235.2926791836294"
      ]
     },
     "execution_count": 3,
     "metadata": {},
     "output_type": "execute_result"
    }
   ],
   "source": [
    "result = []\n",
    "\n",
    "for i in range(1000):\n",
    "    \n",
    "    init_assets = 1000\n",
    "    assets = init_assets\n",
    "    for j in range(1000):\n",
    "        num = assets * 0.01\n",
    "        _result = np.random.choice([0.7, -1],p=[0.6, 0.4])\n",
    "        assets += num * _result\n",
    "        \n",
    "    result.append(assets)\n",
    "        \n",
    "np.mean(result)"
   ]
  },
  {
   "cell_type": "markdown",
   "metadata": {},
   "source": [
    "利用凯利公式下注"
   ]
  },
  {
   "cell_type": "markdown",
   "metadata": {},
   "source": [
    "f* = (b\\*p - q) / b"
   ]
  },
  {
   "cell_type": "code",
   "execution_count": 8,
   "metadata": {},
   "outputs": [
    {
     "data": {
      "text/plain": [
       "1821.359345806627"
      ]
     },
     "execution_count": 8,
     "metadata": {},
     "output_type": "execute_result"
    }
   ],
   "source": [
    "b = 0.7\n",
    "p = 0.6\n",
    "q = 0.4\n",
    "\n",
    "f_star = (b*p - q) / b\n",
    "\n",
    "result = []\n",
    "\n",
    "for i in range(1000):\n",
    "    \n",
    "    init_assets = 1000\n",
    "    assets = init_assets\n",
    "    for j in range(1000):\n",
    "        num = assets * f_star\n",
    "        _result = np.random.choice([0.7, -1],p=[0.6, 0.4])\n",
    "        assets += num * _result\n",
    "        \n",
    "    result.append(assets)\n",
    "        \n",
    "np.mean(result)"
   ]
  },
  {
   "cell_type": "markdown",
   "metadata": {},
   "source": [
    "仓位管理\n",
    "\n",
    "```\n",
    "仓位 = 投资资金/总资金\n",
    "\n",
    "不同阶段: 建仓、加仓/减仓、清仓\n",
    "资金分配：头寸规模的确定和分配\n",
    "```\n",
    "\n",
    "```\n",
    "常见的加仓方式\n",
    "\n",
    "1. 均匀加仓\n",
    "2. 金字塔式加仓\n",
    "3. 倒金字塔式加仓\n",
    "```"
   ]
  },
  {
   "cell_type": "markdown",
   "metadata": {},
   "source": [
    "确定头寸规模的四种模型\n",
    "\n",
    "```\n",
    "- 每一固定金额交易一个单位\n",
    "- 等价值交易单位\n",
    "- 百分比风险模型\n",
    "- 百分比波动幅度模型\n",
    "```\n",
    "\n",
    "在展开下面的详细描述之前，哪一种加仓或者确定的头寸的方法更接近凯利公式?\n",
    "\n",
    "如何确定每次下注的赔率，胜率是多少，不能用回测的结果去做修正，这个是未来函数!!"
   ]
  },
  {
   "cell_type": "markdown",
   "metadata": {},
   "source": [
    "```\n",
    "model 1 : 每一固定金额一个单位\n",
    "\n",
    "model 2 : 等价值交易单位\n",
    "```"
   ]
  },
  {
   "cell_type": "markdown",
   "metadata": {},
   "source": [
    "```\n",
    "model 3 : 百分比风险模型\n",
    "\n",
    "CPR: Pos = cash / risk\n",
    "各个交易品种和个股的risk是不一样的\n",
    "每次交易允许承担的最大风险占总资金的比例，\n",
    "及每个投资标的可接受的最大损失，上述中的risk，折算出可建立的头寸单位个数\n",
    "个股承担的风险之和不能超过总风险\n",
    "```"
   ]
  },
  {
   "cell_type": "markdown",
   "metadata": {},
   "source": [
    "```\n",
    "model 4 : 百分比波动幅度模型\n",
    "\n",
    "根据每次交易允许承担的最大风险占总资金的比例，\n",
    "以及每个投资标的在一段时间内的价格波动的幅度，折算出可建立头寸的单位个数\n",
    "```"
   ]
  },
  {
   "cell_type": "markdown",
   "metadata": {},
   "source": [
    "仓位分配的基本参数\n",
    "\n",
    "```\n",
    "是否考虑复利， 不懂\n",
    "资金占比上限，单股的资金占比上限？还是所有股票的？还是两种都有？\n",
    "单日分配资金上限，就像不可能把所有钱在一只股票上面花完，也不可能在一天花完\n",
    "同时持股数上限\n",
    "单只股票仓位上限\n",
    "... ...\n",
    "```"
   ]
  },
  {
   "cell_type": "markdown",
   "metadata": {},
   "source": [
    "工程化实现的考虑\n",
    "\n",
    "- 可用资金不足时的处理\n",
    "    - 限制新的购买，忽略该信号\n",
    "    - 在增加新股票之前，消除业绩最差的头寸\n",
    "    - 为继续购买新的，将头寸规模确定的小一点\n",
    "- 入选组合的优先级\n",
    "    - 根据某种指标排序\n",
    "    - 根据历史表现筛选"
   ]
  },
  {
   "cell_type": "markdown",
   "metadata": {},
   "source": [
    "止盈和止损\n",
    "\n",
    "```\n",
    "止盈的意义\n",
    "    - 火鸡的故事\n",
    "    - 当风险逐渐变大时，落袋为安\n",
    "    \n",
    " 止损的意义\n",
    "     - 鳄鱼法则\n",
    "     - 留得青山在，不怕没柴烧\n",
    "```"
   ]
  },
  {
   "cell_type": "markdown",
   "metadata": {},
   "source": [
    "重要参考指标 - 平均波动率\n",
    "\n",
    "- 平均波动率：过去N天波动率的平均值\n",
    "\n",
    "- 波动率：max(H-L, abs(pre_close - H), abs(pre_close - L))\n",
    "\n",
    "- 波动率反映了金融资产的风险水平"
   ]
  },
  {
   "cell_type": "markdown",
   "metadata": {},
   "source": [
    "四种止盈方法\n",
    "```\n",
    "1. 目标止盈法\n",
    "2. 回撤止盈\n",
    "3. 大幅波动止盈\n",
    "4. 技术信号止盈\n",
    "```\n",
    "多种方法相结合一定好么，为什么好，为什么不好\n",
    "\n",
    "就像技术指标越多越复杂好么，如果不好，为什么"
   ]
  },
  {
   "cell_type": "markdown",
   "metadata": {},
   "source": [
    "四种止损方法\n",
    "```\n",
    "1. 最大亏损法\n",
    "2. 波动率倍数止损\n",
    "3. 波动率标准差止损\n",
    "4. 技术信号止损\n",
    "```"
   ]
  },
  {
   "cell_type": "markdown",
   "metadata": {},
   "source": [
    "首先复习一下成功的交易系统核心要素是什么\n",
    "\n",
    "1. 赔率\n",
    "2. 胜率\n",
    "3. 交易成本\n",
    "4. 交易频率\n",
    "5. 头寸管理\n",
    "6. 本金"
   ]
  },
  {
   "cell_type": "markdown",
   "metadata": {},
   "source": [
    "交易系统核心要素\n",
    "\n",
    "1. 市场：买卖什么\n",
    "2. 头寸规模：买卖多少\n",
    "3. 入市：什么时候买进\n",
    "4. 止损：什么时候放弃一个头寸\n",
    "5. 止盈：什么时候退出一个盈利的头寸\n",
    "6. 战术：怎么买卖"
   ]
  },
  {
   "cell_type": "markdown",
   "metadata": {},
   "source": [
    "基准策略和测试环境\n",
    "```\n",
    "以下可以看做一个策略的基本模板\n",
    "```\n",
    "\n",
    "- 股票池候选：上证50成分股，不调仓\n",
    "- 双均线策略\n",
    "    - 日K级别，MA10 vs MA30\n",
    "    - 开盘前检测信号，金叉买，死叉麦\n",
    "- 头寸规模确定\n",
    "    - 均仓方案(等额资金分配)\n",
    "- 测试环境\n",
    "    - 回测区间：2016.1.1~2018.6.30，资金：1000万\n",
    "    - programming language：python,平台:聚宽"
   ]
  },
  {
   "cell_type": "code",
   "execution_count": null,
   "metadata": {},
   "outputs": [],
   "source": [
    "from jqdata import *"
   ]
  },
  {
   "cell_type": "code",
   "execution_count": 1,
   "metadata": {},
   "outputs": [],
   "source": [
    "MA_WIN_1 = 10\n",
    "MA_WIN_2 = 30"
   ]
  },
  {
   "cell_type": "code",
   "execution_count": null,
   "metadata": {},
   "outputs": [],
   "source": [
    "def initialize(context):\n",
    "    set_benchmark('000300.XSHG')\n",
    "    set_option('use_real_price', True)\n",
    "    # log.set_level('order', 'error')"
   ]
  }
 ],
 "metadata": {
  "kernelspec": {
   "display_name": "Python 3",
   "language": "python",
   "name": "python3"
  },
  "language_info": {
   "codemirror_mode": {
    "name": "ipython",
    "version": 3
   },
   "file_extension": ".py",
   "mimetype": "text/x-python",
   "name": "python",
   "nbconvert_exporter": "python",
   "pygments_lexer": "ipython3",
   "version": "3.6.5"
  },
  "toc": {
   "base_numbering": 1,
   "nav_menu": {},
   "number_sections": true,
   "sideBar": true,
   "skip_h1_title": false,
   "title_cell": "Table of Contents",
   "title_sidebar": "Contents",
   "toc_cell": false,
   "toc_position": {},
   "toc_section_display": true,
   "toc_window_display": false
  },
  "varInspector": {
   "cols": {
    "lenName": 16,
    "lenType": 16,
    "lenVar": 40
   },
   "kernels_config": {
    "python": {
     "delete_cmd_postfix": "",
     "delete_cmd_prefix": "del ",
     "library": "var_list.py",
     "varRefreshCmd": "print(var_dic_list())"
    },
    "r": {
     "delete_cmd_postfix": ") ",
     "delete_cmd_prefix": "rm(",
     "library": "var_list.r",
     "varRefreshCmd": "cat(var_dic_list()) "
    }
   },
   "types_to_exclude": [
    "module",
    "function",
    "builtin_function_or_method",
    "instance",
    "_Feature"
   ],
   "window_display": false
  }
 },
 "nbformat": 4,
 "nbformat_minor": 2
}
