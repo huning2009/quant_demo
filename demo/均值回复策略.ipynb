{
 "cells": [
  {
   "cell_type": "markdown",
   "metadata": {},
   "source": [
    "0. 对于Hans123中，一个time_flag和data_flag并没有进行false重置，这个是不需要么?貌似我重置了之后，并没有得到改善，这个是什么鬼；还有一点就是回测结果里，只有第一天有交易买卖；并且交易和持仓记录也只有前两天的，这个就太奇怪了，策略收益是怎么一直上涨的呢，后面都没买入了。。。果然应该用别的平台去复现下这个策略么，否则看不出什么问题来；\n",
    "\n",
    "1. 当我设置了调仓检测的之后，交易次数减少了3500次;但是策略的收益和最大回撤并没有改善;我猜是因为每次调仓后分配的金额不一致，并且也没加入股票买卖的手续费.如果加上了这个，应该会有很大的不同;\n",
    "\n",
    "2. 加入止盈止损条件，加入头寸管理和加仓?\n",
    "\n",
    "3. 收盘后的函数加入仓位示意图?\n",
    "\n",
    "4. 最大回撤很小，但是收益不怎么涨了"
   ]
  },
  {
   "cell_type": "code",
   "execution_count": 1,
   "metadata": {},
   "outputs": [],
   "source": [
    "a = None"
   ]
  },
  {
   "cell_type": "code",
   "execution_count": 2,
   "metadata": {},
   "outputs": [
    {
     "data": {
      "text/plain": [
       "True"
      ]
     },
     "execution_count": 2,
     "metadata": {},
     "output_type": "execute_result"
    }
   ],
   "source": [
    "a is None"
   ]
  },
  {
   "cell_type": "markdown",
   "metadata": {},
   "source": [
    "持仓时间过少，按波动率分配头寸是佛不太好? 特别是加仓的时候，是否要限制一下\n",
    "\n",
    "只加仓，不止盈\n",
    "\n",
    "仓位其实都很低\n",
    "\n",
    "然后多空双向的策略中，收益在后面一直趋于平缓\n",
    "\n",
    "仓位一直上不去\n",
    "\n",
    "只加仓，不止盈，虽然仓位上去了，但是风险陡增；\n",
    "\n",
    "在没有加仓的情况下，为什么后面的仓位会逐渐走低呢"
   ]
  }
 ],
 "metadata": {
  "kernelspec": {
   "display_name": "Python 3",
   "language": "python",
   "name": "python3"
  },
  "language_info": {
   "codemirror_mode": {
    "name": "ipython",
    "version": 3
   },
   "file_extension": ".py",
   "mimetype": "text/x-python",
   "name": "python",
   "nbconvert_exporter": "python",
   "pygments_lexer": "ipython3",
   "version": "3.6.5"
  },
  "toc": {
   "base_numbering": 1,
   "nav_menu": {},
   "number_sections": true,
   "sideBar": true,
   "skip_h1_title": false,
   "title_cell": "Table of Contents",
   "title_sidebar": "Contents",
   "toc_cell": false,
   "toc_position": {},
   "toc_section_display": true,
   "toc_window_display": false
  },
  "varInspector": {
   "cols": {
    "lenName": 16,
    "lenType": 16,
    "lenVar": 40
   },
   "kernels_config": {
    "python": {
     "delete_cmd_postfix": "",
     "delete_cmd_prefix": "del ",
     "library": "var_list.py",
     "varRefreshCmd": "print(var_dic_list())"
    },
    "r": {
     "delete_cmd_postfix": ") ",
     "delete_cmd_prefix": "rm(",
     "library": "var_list.r",
     "varRefreshCmd": "cat(var_dic_list()) "
    }
   },
   "types_to_exclude": [
    "module",
    "function",
    "builtin_function_or_method",
    "instance",
    "_Feature"
   ],
   "window_display": false
  }
 },
 "nbformat": 4,
 "nbformat_minor": 2
}
