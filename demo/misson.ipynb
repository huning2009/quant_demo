{
 "cells": [
  {
   "cell_type": "markdown",
   "metadata": {},
   "source": [
    "```\n",
    "使用二度随机搜索出参数\n",
    "使用ATR给出仓位管理\n",
    "看下课程的代码是如何写的框架并尽量学习\n",
    "```"
   ]
  },
  {
   "cell_type": "markdown",
   "metadata": {},
   "source": [
    "```\n",
    "5.全市场选股回测1\n",
    "非st,非两年亏损（财务质量好），市值最小的30，一个月换一次，中证500；\n",
    "\n",
    "6.全市场选股回测2\n",
    "% 1前一天涨停板的股票\n",
    "% 2.第二天第一个小时的成交量超过昨天四个小时内最大的成交量；为阳线；\n",
    "% 第三天开盘价买入\n",
    "% 第四天开盘卖出\n",
    "\n",
    "7.全市场选股回测3\n",
    "% 策略：股价运行在10日均线之上，如超过昨日收盘价则买入，跌破10日线卖出，资金平均分配，问平均收益能多少？可限制只买10只股票。\n",
    "\n",
    "\n",
    "8.新浪全市场股票进行实时交易(简单示例，不管盈亏，只管正确执行);\n",
    "\n",
    "买入条件:非st，市盈率为正，市值在100亿以下，最新价格在五日均线之上，一分钟涨幅超过1% ,2分钟涨幅超过2%,3分钟涨幅超过3%；\n",
    "\n",
    "卖出条件:\n",
    "亏3%固定止损；\n",
    "盈利涨幅达到5%，回调2%卖出；\n",
    "盈利涨幅达到10%，回调3%卖出；\n",
    "盈利涨幅达到15%，回调5%卖出；\n",
    "```"
   ]
  }
 ],
 "metadata": {
  "kernelspec": {
   "display_name": "Python (quant)",
   "language": "python",
   "name": "quant"
  },
  "language_info": {
   "codemirror_mode": {
    "name": "ipython",
    "version": 3
   },
   "file_extension": ".py",
   "mimetype": "text/x-python",
   "name": "python",
   "nbconvert_exporter": "python",
   "pygments_lexer": "ipython3",
   "version": "3.6.6"
  },
  "toc": {
   "base_numbering": 1,
   "nav_menu": {},
   "number_sections": true,
   "sideBar": true,
   "skip_h1_title": false,
   "title_cell": "Table of Contents",
   "title_sidebar": "Contents",
   "toc_cell": false,
   "toc_position": {},
   "toc_section_display": true,
   "toc_window_display": false
  },
  "varInspector": {
   "cols": {
    "lenName": 16,
    "lenType": 16,
    "lenVar": 40
   },
   "kernels_config": {
    "python": {
     "delete_cmd_postfix": "",
     "delete_cmd_prefix": "del ",
     "library": "var_list.py",
     "varRefreshCmd": "print(var_dic_list())"
    },
    "r": {
     "delete_cmd_postfix": ") ",
     "delete_cmd_prefix": "rm(",
     "library": "var_list.r",
     "varRefreshCmd": "cat(var_dic_list()) "
    }
   },
   "types_to_exclude": [
    "module",
    "function",
    "builtin_function_or_method",
    "instance",
    "_Feature"
   ],
   "window_display": false
  }
 },
 "nbformat": 4,
 "nbformat_minor": 2
}
