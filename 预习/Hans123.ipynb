{
 "cells": [
  {
   "cell_type": "markdown",
   "metadata": {},
   "source": [
    "### Hans123策略原理"
   ]
  },
  {
   "cell_type": "markdown",
   "metadata": {},
   "source": [
    "- 日内交易策略，趋势突破系统， 那应该归为趋势类，还是反转类?\n",
    "- 在开盘30(或N)分钟后准备入场\n",
    "- 上轨 = 开盘后30分钟内的高点\n",
    "- 下轨 = 开盘后30分中内的低点\n",
    "- 入场信号\n",
    "    - 当价格突破上轨，买入开仓\n",
    "- 出场信号\n",
    "    - 当价格跌穿下轨，卖出开仓\n",
    "- 止损\n",
    "    - 突破时如已有持仓，则先止损再反手\n",
    "- 退出\n",
    "    - 如有持仓，在收盘前无条件平仓"
   ]
  },
  {
   "cell_type": "markdown",
   "metadata": {},
   "source": [
    "再复习，交易系统6要素\n",
    "\n",
    "- 市场 -- 买卖什么\n",
    "- 逻辑 -- 买卖思路\n",
    "- 头寸 -- 买卖多少\n",
    "- 入场 -- 何时入场\n",
    "- 止损 -- 如何退出亏损的头寸\n",
    "- 退出 -- 如何退出盈利的头寸"
   ]
  },
  {
   "cell_type": "markdown",
   "metadata": {},
   "source": [
    "Hans123\n",
    "\n",
    "- 市场 -- 其中要求如有持仓，在收盘前无条件平仓，所以国内能做的，只有商品期货一类；股指期货因为平今仓的成本太高，不适合，股票是T+1,所以也做不了，外汇不太清楚\n",
    "- 逻辑 -- 当价格突破上轨下轨，便买入卖出\n",
    "- 头寸 -- 按照波动率分配头寸\n",
    "- 入市 -- 开市后，N分钟后入场，满足入市条件，入场\n",
    "- 止损 -- 这里是突破时如有持仓，则止损再反手，不要浮动止损吗？因为等反转的话，就太亏了吧\n",
    "- 退出 -- 收盘前无条件平仓，比如浮动止盈"
   ]
  },
  {
   "cell_type": "markdown",
   "metadata": {},
   "source": [
    "再复习，交易系统成功6要素\n",
    "\n",
    "- 胜率\n",
    "- 赔率 -- 是否要均匀加仓?\n",
    "- 头寸\n",
    "- 交易成本\n",
    "- 交易频率\n",
    "- 资金规模"
   ]
  },
  {
   "cell_type": "code",
   "execution_count": null,
   "metadata": {},
   "outputs": [],
   "source": [
    "set_token('5cf8fb3f2c58816ea8e4e9097c17a726a07fc94f')"
   ]
  },
  {
   "cell_type": "code",
   "execution_count": 1,
   "metadata": {},
   "outputs": [],
   "source": [
    "# encoding: utf-8\n",
    "from gmsdk.api import StrategyBase\n",
    "from gmsdk import md\n",
    "from gmsdk.enums import *\n",
    "import arrow\n",
    "import time\n",
    "\n",
    "# 每次开仓量\n",
    "# 开仓量不一定合理\n",
    "OPEN_VOL = 5\n",
    "\n",
    "# 最大开仓次数\n",
    "MAX_TRADING_TIMES = 50"
   ]
  },
  {
   "cell_type": "code",
   "execution_count": 2,
   "metadata": {},
   "outputs": [],
   "source": [
    "class Hans123(StrategyBase):\n",
    "    def __init__(self, *args, **kwargs):\n",
    "        super(Hans123, self).__init__(*args, **kwargs)\n",
    "        self.time_flag = False # 是否已获取当天时间标识\n",
    "        self.data_flag = False # 是否已获取当天上、下轨数据\n",
    "        self.long_holding = 0; # 持仓量\n",
    "        self.short_holding = 0;\n",
    "        self.trading_times = 0;# 当天交易次数\n",
    "        self.__get_param()\n",
    "\n",
    "    def __get_param(self):\n",
    "        '''\n",
    "        获取配置参数\n",
    "        '''\n",
    "        # 交易证券代码\n",
    "        self.trade_symbol = self.config.get('para', 'trade_symbol')\n",
    "        pos = self.trade_symbol.find('.')\n",
    "        self.exchange = self.trade_symbol[:pos]\n",
    "        self.sec_id = self.trade_symbol[pos + 1:]\n",
    "\n",
    "        # 开盘时间\n",
    "        self.open_time = self.config.get('para', 'open_time')\n",
    "\n",
    "        # hans时间\n",
    "        self.hans_time = self.config.get('para', 'hans_time')\n",
    "\n",
    "        # 强制平仓时间\n",
    "        self.ex_time = self.config.get('para', 'ex_time')\n",
    "\n",
    "    def __get_time(self, cur_utc):\n",
    "        '''\n",
    "        获取当天的重要时间参数\n",
    "        '''\n",
    "        utc = arrow.get(cur_utc).replace(tzinfo='local')\n",
    "        cur_date = utc.format('YYYY-MM-DD')\n",
    "        FMT = '%s %s'\n",
    "        self.today_open_time = FMT % (cur_date, self.open_time)\n",
    "        print('today open time: %s' % self.today_open_time)\n",
    "\n",
    "        self.today_hans_time = FMT % (cur_date, self.hans_time)\n",
    "        print('today hans time: %s' % self.today_hans_time)\n",
    "\n",
    "        today_ex_time = FMT % (cur_date, self.ex_time)\n",
    "        print('today exit time:%s' % today_ex_time)\n",
    "\n",
    "        self.ex_time_utc = arrow.get(today_ex_time).replace(tzinfo='local').timestamp\n",
    "        self.hans_time_utc = arrow.get(self.today_hans_time).replace(tzinfo='local').timestamp\n",
    "\n",
    "    def __init_band_data(self, bar_type):\n",
    "        '''\n",
    "        获取上、下轨数据\n",
    "        '''\n",
    "        bars = self.get_bars(self.trade_symbol, bar_type, self.today_open_time, self.today_hans_time)\n",
    "#         close_list = [bar.close for bar in bars]\n",
    "        high_list = [bar.high for bar in bars]\n",
    "        low_list = [bar.low for bar in bars]\n",
    "\n",
    "        # 上轨\n",
    "#         self.upr_band = max(close_list)\n",
    "        self.upr_band = max(high_list)\n",
    "        print('upper band:%s' % self.upr_band)\n",
    "\n",
    "        # 下轨\n",
    "#         self.dwn_band = min(close_list)\n",
    "        self.dwn_band = min(low_list)\n",
    "        print('down band: %s' % self.dwn_band)\n",
    "\n",
    "    def on_tick(self, tick):\n",
    "        '''\n",
    "        tick行情事件\n",
    "        '''\n",
    "        # 获取最新价\n",
    "        self.last_price = tick.last_price\n",
    "\n",
    "    def on_bar(self, bar):\n",
    "        '''\n",
    "        bar周期数据事件\n",
    "        '''\n",
    "        # 获取当天的时间参数\n",
    "        if self.time_flag is False:\n",
    "            self.__get_time(bar.utc_time)\n",
    "            # 设置time_flag的意义何在？\n",
    "            # 为了在开盘后才去计算上下轨\n",
    "            self.time_flag = True\n",
    "\n",
    "        # 计算上、下轨\n",
    "        if bar.utc_time < (self.ex_time_utc-300) and bar.utc_time > self.hans_time_utc:\n",
    "            if self.time_flag is True and self.data_flag is False:\n",
    "                self.__init_band_data(bar.bar_type)\n",
    "                self.data_flag = True\n",
    "\n",
    "        # 休市前强平当天仓位\n",
    "        # 休市前，是否定义为休市前3分钟\n",
    "        if bar.utc_time == self.ex_time_utc-300:\n",
    "            if self.long_holding > 0:\n",
    "                # 平多头\n",
    "                self.close_long(self.exchange, self.sec_id, 0, self.long_holding)\n",
    "                print('exit time close long: %s, vol: %s' % (self.trade_symbol, self.long_holding))\n",
    "                self.long_holding = 0\n",
    "\n",
    "            elif self.short_holding > 0:\n",
    "                # 平空头\n",
    "                self.close_short(self.exchange, self.sec_id, 0, self.short_holding)\n",
    "                print('exit time close long: %s, vol: %s' % (self.trade_symbol, self.short_holding))\n",
    "                self.short_holding = 0\n",
    "            \n",
    "            # 休市后，time_flag设为False，data\n",
    "            # 是不是每根k线后，都会自动重置？我设了重置，貌似没效果...\n",
    "            self.time_flag = False\n",
    "            self.data_flag = False\n",
    "            return\n",
    "        # 防止交易过多? 而不是限制单方面交易过多？\n",
    "        if self.trading_times > MAX_TRADING_TIMES:\n",
    "            print('trading times more than max trading times, stop trading')\n",
    "            return\n",
    "\n",
    "        # 交易时间段\n",
    "        if bar.utc_time > self.hans_time_utc and bar.utc_time < (self.ex_time_utc-300):\n",
    "            if bar.close > self.upr_band:\n",
    "                if self.short_holding > 0:\n",
    "                    # 有空仓，先平空仓\n",
    "                    self.close_short(self.exchange, self.sec_id, 0, self.short_holding)\n",
    "                    print('close short: %s, vol:%s' % (self.trade_symbol, self.short_holding))\n",
    "                    self.short_holding = 0\n",
    "\n",
    "                # 开多仓\n",
    "                self.open_long(self.exchange, self.sec_id, 0, OPEN_VOL)\n",
    "                print('open long: %s, vol:%s' % (self.trade_symbol, OPEN_VOL))\n",
    "                self.long_holding += OPEN_VOL\n",
    "\n",
    "                # 开仓次数+1\n",
    "                self.trading_times += 1\n",
    "            elif bar.close < self.dwn_band:\n",
    "                if self.long_holding > 0:\n",
    "                    # 有多仓，先平多仓\n",
    "                    self.close_long(self.exchange, self.sec_id, 0, self.long_holding)\n",
    "                    print('close long: %s, vol:%s' % (self.trade_symbol, self.long_holding))\n",
    "                    self.long_holding = 0\n",
    "\n",
    "                # 开空仓\n",
    "                self.open_short(self.exchange, self.sec_id, 0, OPEN_VOL)\n",
    "                print('open short: %s, vol:%s' % (self.trade_symbol, OPEN_VOL))\n",
    "                self.short_holding += OPEN_VOL\n",
    "\n",
    "                # 开仓次数+1\n",
    "                self.trading_times += 1"
   ]
  },
  {
   "cell_type": "code",
   "execution_count": 3,
   "metadata": {},
   "outputs": [],
   "source": [
    "hans123 = Hans123(config_file='Hans123.ini')"
   ]
  },
  {
   "cell_type": "code",
   "execution_count": 4,
   "metadata": {
    "scrolled": true
   },
   "outputs": [
    {
     "name": "stdout",
     "output_type": "stream",
     "text": [
      "today open time: 2017-06-01 09:15:00\n",
      "today hans time: 2017-06-01 09:45:00\n",
      "today exit time:2017-06-01 15:10:00\n",
      "upper band:3464.0\n",
      "down band: 3448.0\n",
      "open long: CFFEX.IF1707, vol:5\n",
      "open long: CFFEX.IF1707, vol:5\n",
      "open long: CFFEX.IF1707, vol:5\n",
      "open long: CFFEX.IF1707, vol:5\n",
      "open long: CFFEX.IF1707, vol:5\n",
      "open long: CFFEX.IF1707, vol:5\n",
      "open long: CFFEX.IF1707, vol:5\n",
      "open long: CFFEX.IF1707, vol:5\n",
      "open long: CFFEX.IF1707, vol:5\n",
      "open long: CFFEX.IF1707, vol:5\n",
      "open long: CFFEX.IF1707, vol:5\n",
      "open long: CFFEX.IF1707, vol:5\n",
      "open long: CFFEX.IF1707, vol:5\n",
      "open long: CFFEX.IF1707, vol:5\n",
      "open long: CFFEX.IF1707, vol:5\n",
      "open long: CFFEX.IF1707, vol:5\n",
      "open long: CFFEX.IF1707, vol:5\n",
      "open long: CFFEX.IF1707, vol:5\n",
      "open long: CFFEX.IF1707, vol:5\n",
      "open long: CFFEX.IF1707, vol:5\n",
      "open long: CFFEX.IF1707, vol:5\n",
      "open long: CFFEX.IF1707, vol:5\n",
      "open long: CFFEX.IF1707, vol:5\n",
      "open long: CFFEX.IF1707, vol:5\n",
      "open long: CFFEX.IF1707, vol:5\n",
      "open long: CFFEX.IF1707, vol:5\n",
      "open long: CFFEX.IF1707, vol:5\n",
      "open long: CFFEX.IF1707, vol:5\n",
      "open long: CFFEX.IF1707, vol:5\n",
      "open long: CFFEX.IF1707, vol:5\n",
      "exit time close long: CFFEX.IF1707, vol: 150\n"
     ]
    }
   ],
   "source": [
    "ret = hans123.run()"
   ]
  },
  {
   "cell_type": "code",
   "execution_count": null,
   "metadata": {},
   "outputs": [],
   "source": []
  },
  {
   "cell_type": "code",
   "execution_count": null,
   "metadata": {},
   "outputs": [],
   "source": []
  },
  {
   "cell_type": "code",
   "execution_count": null,
   "metadata": {},
   "outputs": [],
   "source": [
    "def __init_band_data(self, bar_type):\n",
    "    '''\n",
    "    获取上、下轨数据\n",
    "    '''\n",
    "    bars = self.get_bars(self.trade_symbol, bar_type, self.today_open_time, self.today_hans_time)\n",
    "\n",
    "    high_list = [bar.high for bar in bars]\n",
    "    low_list = [bar.low for bar in bars]\n",
    "\n",
    "    # 上轨\n",
    "    self.upr_band = max(high_list)\n",
    "    print('upper band:%s' % self.upr_band)\n",
    "\n",
    "    # 下轨\n",
    "    self.dwn_band = min(low_list)\n",
    "    print('down band: %s' % self.dwn_band)"
   ]
  },
  {
   "cell_type": "code",
   "execution_count": null,
   "metadata": {},
   "outputs": [],
   "source": [
    "if __name__ == '__main__':\n",
    "    hans123 = Hans123(config_file='Hans123.ini')\n",
    "    ret = hans123.run()\n",
    "print(hans123.get_strerror(ret))"
   ]
  },
  {
   "cell_type": "code",
   "execution_count": null,
   "metadata": {},
   "outputs": [],
   "source": [
    "'''\n",
    "最好的方式就是debug!!!一步步看是怎么实现的\n",
    "'''\n",
    "'''\n",
    "1. class\n",
    "2. __name__\n",
    "3. hans123 --> __init__ # 初始化\n",
    "4. ret = hans123.run()\n",
    "5. on_bar()\n",
    "6. self.__get_time()\n",
    "\n",
    "'''"
   ]
  }
 ],
 "metadata": {
  "kernelspec": {
   "display_name": "Python (quant)",
   "language": "python",
   "name": "quant"
  },
  "language_info": {
   "codemirror_mode": {
    "name": "ipython",
    "version": 3
   },
   "file_extension": ".py",
   "mimetype": "text/x-python",
   "name": "python",
   "nbconvert_exporter": "python",
   "pygments_lexer": "ipython3",
   "version": "3.6.6"
  },
  "toc": {
   "base_numbering": 1,
   "nav_menu": {},
   "number_sections": true,
   "sideBar": true,
   "skip_h1_title": false,
   "title_cell": "Table of Contents",
   "title_sidebar": "Contents",
   "toc_cell": false,
   "toc_position": {},
   "toc_section_display": true,
   "toc_window_display": false
  },
  "varInspector": {
   "cols": {
    "lenName": 16,
    "lenType": 16,
    "lenVar": 40
   },
   "kernels_config": {
    "python": {
     "delete_cmd_postfix": "",
     "delete_cmd_prefix": "del ",
     "library": "var_list.py",
     "varRefreshCmd": "print(var_dic_list())"
    },
    "r": {
     "delete_cmd_postfix": ") ",
     "delete_cmd_prefix": "rm(",
     "library": "var_list.r",
     "varRefreshCmd": "cat(var_dic_list()) "
    }
   },
   "position": {
    "height": "367.5px",
    "left": "1130px",
    "right": "20px",
    "top": "120px",
    "width": "350px"
   },
   "types_to_exclude": [
    "module",
    "function",
    "builtin_function_or_method",
    "instance",
    "_Feature"
   ],
   "window_display": false
  }
 },
 "nbformat": 4,
 "nbformat_minor": 2
}
