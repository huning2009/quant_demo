{
 "cells": [
  {
   "cell_type": "code",
   "execution_count": 1,
   "metadata": {},
   "outputs": [],
   "source": [
    "import QUANTAXIS as QA\n",
    "import pandas as pd\n",
    "import numpy as np\n",
    "from database import DB_CONN\n",
    "from pymongo import ASCENDING, UpdateOne"
   ]
  },
  {
   "cell_type": "code",
   "execution_count": 2,
   "metadata": {},
   "outputs": [],
   "source": [
    "start = '2015-01-01'\n",
    "end = '2018-09-30'\n",
    "\n",
    "index_code_list = ['000001', '000300', '399001', '399005', '399006']\n",
    "_df = pd.read_excel('data/stock_basic.xlsx', header=0, dtype={'code':str})\n",
    "stock_code_list = _df.code.tolist()"
   ]
  },
  {
   "cell_type": "code",
   "execution_count": 51,
   "metadata": {},
   "outputs": [],
   "source": [
    "# 替换成stock code就好\n",
    "df = QA.QA_fetch_index_day_adv(index_code_list, start, end).data\n",
    "df_nonind = df.reset_index()\n",
    "df_nonind.date = df_nonind.date.apply(lambda x : x.strftime('%Y-%m-%d'))"
   ]
  },
  {
   "cell_type": "code",
   "execution_count": 32,
   "metadata": {},
   "outputs": [
    {
     "data": {
      "text/plain": [
       "'code_1_date_1_index_1'"
      ]
     },
     "execution_count": 32,
     "metadata": {},
     "output_type": "execute_result"
    }
   ],
   "source": [
    "daily = DB_CONN['daily']\n",
    "daily_hfq = DB_CONN['daily_hfq']\n",
    "daily.create_index(\n",
    "    [('code',ASCENDING), ('date',ASCENDING), ('index',ASCENDING)])\n",
    "daily_hfq.create_index(\n",
    "    [('code',ASCENDING), ('date',ASCENDING), ('index',ASCENDING)])"
   ]
  },
  {
   "cell_type": "code",
   "execution_count": 58,
   "metadata": {},
   "outputs": [],
   "source": [
    "import time"
   ]
  },
  {
   "cell_type": "code",
   "execution_count": 60,
   "metadata": {},
   "outputs": [
    {
     "name": "stdout",
     "output_type": "stream",
     "text": [
      "保存日线数据,插入：4575条, 更新：   0条\n",
      "cost time : 4.88s\n"
     ]
    }
   ],
   "source": [
    "tic = time.process_time()\n",
    "\n",
    "update_requests = []\n",
    "for i in df_nonind.index:\n",
    "    doc = dict(df_nonind.loc[i, ['code', 'date', 'open', 'high', 'low', 'close','volume',\n",
    "                      ]])\n",
    "    doc.update({'index':True})\n",
    "    update_requests.append(\n",
    "        UpdateOne(\n",
    "        {'code':doc['code'], 'date':doc['date']},\n",
    "        {'$set':doc},\n",
    "        upsert=True)\n",
    "    )\n",
    "if len(update_requests) > 0:\n",
    "    update_result = daily.bulk_write(update_requests, ordered=False)\n",
    "    print('保存日线数据,插入：%4d条, 更新：%4d条' %\n",
    "      (update_result.upserted_count, update_result.modified_count),\n",
    "      flush=True)\n",
    "\n",
    "toc = time.process_time()\n",
    "print('cost time : %.2fs' % (toc-tic))"
   ]
  },
  {
   "cell_type": "code",
   "execution_count": 46,
   "metadata": {},
   "outputs": [],
   "source": [
    "# df_nonind = df_nonind.assign(index=True)"
   ]
  },
  {
   "cell_type": "code",
   "execution_count": 55,
   "metadata": {},
   "outputs": [],
   "source": [
    "# df_nonind.loc[0]"
   ]
  },
  {
   "cell_type": "code",
   "execution_count": 56,
   "metadata": {},
   "outputs": [],
   "source": [
    "# update_result = [dict(df_nonind.loc[i, ['code', 'date', 'open', 'high', 'low', 'close','volume',\n",
    "#                       'index']]) for i in df_nonind.index]\n"
   ]
  },
  {
   "cell_type": "code",
   "execution_count": 57,
   "metadata": {},
   "outputs": [],
   "source": [
    "# from pymongo import UpdateMany"
   ]
  },
  {
   "cell_type": "code",
   "execution_count": 1,
   "metadata": {},
   "outputs": [],
   "source": [
    "import datetime, time\n",
    "from pymongo import UpdateOne, ASCENDING, UpdateMany\n",
    "from database import DB_CONN\n",
    "from stock_util import get_trading_dates, get_all_codes\n",
    "import tushare as ts\n",
    "import numpy as np\n",
    "import pandas as pd\n",
    "import requests\n",
    "import json\n",
    "import datetime"
   ]
  },
  {
   "cell_type": "code",
   "execution_count": 5,
   "metadata": {},
   "outputs": [],
   "source": [
    "code = '000004'\n",
    "daily = DB_CONN['daily']"
   ]
  },
  {
   "cell_type": "code",
   "execution_count": 6,
   "metadata": {},
   "outputs": [
    {
     "data": {
      "text/html": [
       "<div>\n",
       "<style scoped>\n",
       "    .dataframe tbody tr th:only-of-type {\n",
       "        vertical-align: middle;\n",
       "    }\n",
       "\n",
       "    .dataframe tbody tr th {\n",
       "        vertical-align: top;\n",
       "    }\n",
       "\n",
       "    .dataframe thead th {\n",
       "        text-align: right;\n",
       "    }\n",
       "</style>\n",
       "<table border=\"1\" class=\"dataframe\">\n",
       "  <thead>\n",
       "    <tr style=\"text-align: right;\">\n",
       "      <th></th>\n",
       "      <th>au_factor</th>\n",
       "      <th>close</th>\n",
       "      <th>code</th>\n",
       "      <th>date</th>\n",
       "      <th>high</th>\n",
       "      <th>high_limit</th>\n",
       "      <th>index</th>\n",
       "      <th>is_st</th>\n",
       "      <th>is_trading</th>\n",
       "      <th>low</th>\n",
       "      <th>low_limit</th>\n",
       "      <th>open</th>\n",
       "      <th>pe</th>\n",
       "      <th>pre_close</th>\n",
       "      <th>volume</th>\n",
       "    </tr>\n",
       "  </thead>\n",
       "  <tbody>\n",
       "    <tr>\n",
       "      <th>0</th>\n",
       "      <td>1.0</td>\n",
       "      <td>15.69</td>\n",
       "      <td>000004</td>\n",
       "      <td>2015-01-05</td>\n",
       "      <td>15.90</td>\n",
       "      <td>NaN</td>\n",
       "      <td>False</td>\n",
       "      <td>False</td>\n",
       "      <td>True</td>\n",
       "      <td>15.30</td>\n",
       "      <td>NaN</td>\n",
       "      <td>15.58</td>\n",
       "      <td>656.4854</td>\n",
       "      <td>NaN</td>\n",
       "      <td>28095.0</td>\n",
       "    </tr>\n",
       "    <tr>\n",
       "      <th>1</th>\n",
       "      <td>1.0</td>\n",
       "      <td>16.46</td>\n",
       "      <td>000004</td>\n",
       "      <td>2015-01-06</td>\n",
       "      <td>16.56</td>\n",
       "      <td>17.26</td>\n",
       "      <td>False</td>\n",
       "      <td>False</td>\n",
       "      <td>True</td>\n",
       "      <td>15.50</td>\n",
       "      <td>14.12</td>\n",
       "      <td>15.65</td>\n",
       "      <td>688.7029</td>\n",
       "      <td>15.69</td>\n",
       "      <td>33378.0</td>\n",
       "    </tr>\n",
       "    <tr>\n",
       "      <th>2</th>\n",
       "      <td>1.0</td>\n",
       "      <td>16.41</td>\n",
       "      <td>000004</td>\n",
       "      <td>2015-01-07</td>\n",
       "      <td>16.54</td>\n",
       "      <td>18.11</td>\n",
       "      <td>False</td>\n",
       "      <td>False</td>\n",
       "      <td>True</td>\n",
       "      <td>16.11</td>\n",
       "      <td>14.81</td>\n",
       "      <td>16.45</td>\n",
       "      <td>686.6109</td>\n",
       "      <td>16.46</td>\n",
       "      <td>20737.0</td>\n",
       "    </tr>\n",
       "    <tr>\n",
       "      <th>3</th>\n",
       "      <td>1.0</td>\n",
       "      <td>16.92</td>\n",
       "      <td>000004</td>\n",
       "      <td>2015-01-08</td>\n",
       "      <td>17.03</td>\n",
       "      <td>18.05</td>\n",
       "      <td>False</td>\n",
       "      <td>False</td>\n",
       "      <td>True</td>\n",
       "      <td>16.24</td>\n",
       "      <td>14.77</td>\n",
       "      <td>16.41</td>\n",
       "      <td>707.9498</td>\n",
       "      <td>16.41</td>\n",
       "      <td>36450.0</td>\n",
       "    </tr>\n",
       "    <tr>\n",
       "      <th>4</th>\n",
       "      <td>1.0</td>\n",
       "      <td>16.43</td>\n",
       "      <td>000004</td>\n",
       "      <td>2015-01-09</td>\n",
       "      <td>16.95</td>\n",
       "      <td>18.61</td>\n",
       "      <td>False</td>\n",
       "      <td>False</td>\n",
       "      <td>True</td>\n",
       "      <td>16.26</td>\n",
       "      <td>15.23</td>\n",
       "      <td>16.92</td>\n",
       "      <td>687.4477</td>\n",
       "      <td>16.92</td>\n",
       "      <td>27150.0</td>\n",
       "    </tr>\n",
       "  </tbody>\n",
       "</table>\n",
       "</div>"
      ],
      "text/plain": [
       "   au_factor  close    code        date   high  high_limit  index  is_st  \\\n",
       "0        1.0  15.69  000004  2015-01-05  15.90         NaN  False  False   \n",
       "1        1.0  16.46  000004  2015-01-06  16.56       17.26  False  False   \n",
       "2        1.0  16.41  000004  2015-01-07  16.54       18.11  False  False   \n",
       "3        1.0  16.92  000004  2015-01-08  17.03       18.05  False  False   \n",
       "4        1.0  16.43  000004  2015-01-09  16.95       18.61  False  False   \n",
       "\n",
       "   is_trading    low  low_limit   open        pe  pre_close   volume  \n",
       "0        True  15.30        NaN  15.58  656.4854        NaN  28095.0  \n",
       "1        True  15.50      14.12  15.65  688.7029      15.69  33378.0  \n",
       "2        True  16.11      14.81  16.45  686.6109      16.46  20737.0  \n",
       "3        True  16.24      14.77  16.41  707.9498      16.41  36450.0  \n",
       "4        True  16.26      15.23  16.92  687.4477      16.92  27150.0  "
      ]
     },
     "execution_count": 6,
     "metadata": {},
     "output_type": "execute_result"
    }
   ],
   "source": [
    "cursor = daily.find({'code':code, 'index':False})\n",
    "df_res = pd.DataFrame([r for r in cursor])\n",
    "df_res = df_res.drop(columns=['_id'])\n",
    "df_res.head()"
   ]
  },
  {
   "cell_type": "code",
   "execution_count": 17,
   "metadata": {},
   "outputs": [
    {
     "name": "stdout",
     "output_type": "stream",
     "text": [
      "填充字段， 字段名: is_st，数据集：daily，插入：   0条，更新： 741条\n"
     ]
    }
   ],
   "source": [
    "update_requests = []\n",
    "update_requests.append(\n",
    "    UpdateMany(\n",
    "    {'code':code, 'index':False},\n",
    "    {'$set':{'is_st':False}},\n",
    "    upsert=True)\n",
    ")\n",
    "\n",
    "if len(update_requests)>0:\n",
    "    update_result = daily.bulk_write(update_requests, ordered=False)\n",
    "    print('填充字段， 字段名: is_st，数据集：%s，插入：%4d条，更新：%4d条' %\n",
    "              ('daily', update_result.upserted_count, update_result.modified_count), flush=True)"
   ]
  },
  {
   "cell_type": "code",
   "execution_count": 7,
   "metadata": {},
   "outputs": [],
   "source": [
    "update_requests = []\n",
    "df = pd.read_excel('data/stock_basic.xlsx', header=0, dtype={'code':str})\n",
    "df = df.set_index('code')\n",
    "today = str(datetime.date.today())"
   ]
  },
  {
   "cell_type": "code",
   "execution_count": 8,
   "metadata": {},
   "outputs": [],
   "source": [
    "st_date_info = df.loc[code, '戴帽摘帽日期'].split(',')\n",
    "\n",
    "st_interval_list = []\n",
    "temp_st_end = None\n",
    "for count, i in enumerate(st_date_info):\n",
    "    key = i.split(':')[0]\n",
    "    value = datetime.datetime.strptime(i.split(':')[1], '%Y-%m-%d')\n",
    "\n",
    "    if (key == '去ST' or key == '去*ST') and count==0:\n",
    "        temp_st_end = (value - datetime.timedelta(1)).strftime('%Y-%m-%d')\n",
    "\n",
    "    elif (key == '去ST' or key == '去*ST') and count >0:\n",
    "        temp_st_start = datetime.datetime.strptime(st_date_info[count-1].split(':')[1], \n",
    "                                   '%Y-%m-%d').strftime('%Y-%m-%d')\n",
    "        st_interval_list.append([temp_st_start, temp_st_end])\n",
    "        temp_st_end = (value - datetime.timedelta(1)).strftime('%Y-%m-%d')\n",
    "    elif count == (len(st_date_info)-1):\n",
    "        if temp_st_end is not None:\n",
    "            st_interval_list.append([value.strftime('%Y-%m-%d'), temp_st_end])\n",
    "        else:\n",
    "            st_interval_list.append([value.strftime('%Y-%m-%d'), today])\n",
    "\n"
   ]
  },
  {
   "cell_type": "code",
   "execution_count": 9,
   "metadata": {},
   "outputs": [
    {
     "data": {
      "text/plain": [
       "[['2011-06-08', '2011-06-07'],\n",
       " ['2009-04-21', '2010-05-30'],\n",
       " ['2006-04-21', '2007-05-24'],\n",
       " ['1999-04-27', '2001-03-05']]"
      ]
     },
     "execution_count": 9,
     "metadata": {},
     "output_type": "execute_result"
    }
   ],
   "source": [
    "st_interval_list"
   ]
  },
  {
   "cell_type": "code",
   "execution_count": null,
   "metadata": {},
   "outputs": [],
   "source": []
  },
  {
   "cell_type": "code",
   "execution_count": 26,
   "metadata": {},
   "outputs": [
    {
     "name": "stdout",
     "output_type": "stream",
     "text": [
      "填充字段， 字段名: is_st，数据集：daily，插入：   0条，更新：   0条\n"
     ]
    }
   ],
   "source": [
    "for interval in st_interval_list:\n",
    "    _start, _end = interval\n",
    "    update_requests.append(\n",
    "        UpdateMany(\n",
    "        {'code':code, 'date':{'$gte':_start, '$lte':_end}, 'index':False},\n",
    "        {'$set':{'is_st':True}}))\n",
    "\n",
    "if len(update_requests)>0:\n",
    "    update_result = daily.bulk_write(update_requests, ordered=False)\n",
    "    print('填充字段， 字段名: is_st，数据集：%s，插入：%4d条，更新：%4d条' %\n",
    "              ('daily', update_result.upserted_count, update_result.modified_count), flush=True)\n",
    "\n",
    "#     print('第二阶段填充进度: %s/%s' %(i+1, total))"
   ]
  },
  {
   "cell_type": "code",
   "execution_count": 36,
   "metadata": {},
   "outputs": [],
   "source": [
    "codes = df.index.tolist()"
   ]
  },
  {
   "cell_type": "code",
   "execution_count": 50,
   "metadata": {},
   "outputs": [],
   "source": [
    "df_temp = pd.Series()\n",
    "for ind, code in enumerate(codes):\n",
    "    if pd.isna(df.loc[code, '戴帽摘帽日期']):\n",
    "        df_temp.loc[code] = '--'\n",
    "        continue\n",
    "        \n",
    "    st_date_info = df.loc[code, '戴帽摘帽日期'].split(',')\n",
    "\n",
    "    st_interval_list = []\n",
    "    temp_st_end = None\n",
    "    for count, i in enumerate(st_date_info):\n",
    "        key = i.split(':')[0]\n",
    "        value = datetime.datetime.strptime(i.split(':')[1], '%Y-%m-%d')\n",
    "\n",
    "        if (key == '去ST' or key == '去*ST') and count==0:\n",
    "            temp_st_end = (value - datetime.timedelta(1)).strftime('%Y-%m-%d')\n",
    "\n",
    "        elif (key == '去ST' or key == '去*ST') and count >0:\n",
    "            temp_st_start = datetime.datetime.strptime(st_date_info[count-1].split(':')[1], \n",
    "                                       '%Y-%m-%d').strftime('%Y-%m-%d')\n",
    "            if temp_st_end is None:\n",
    "                st_interval_list.append([temp_st_start, today])\n",
    "            else:\n",
    "                st_interval_list.append([temp_st_start, temp_st_end])\n",
    "            temp_st_end = (value - datetime.timedelta(1)).strftime('%Y-%m-%d')\n",
    "        elif count == (len(st_date_info)-1):\n",
    "            if temp_st_end is not None:\n",
    "                st_interval_list.append([value.strftime('%Y-%m-%d'), temp_st_end])\n",
    "            else:\n",
    "                st_interval_list.append([value.strftime('%Y-%m-%d'), today])\n",
    "                \n",
    "    df_temp.loc[code] = st_interval_list"
   ]
  },
  {
   "cell_type": "code",
   "execution_count": 51,
   "metadata": {},
   "outputs": [],
   "source": [
    "df = df.assign(戴帽摘帽日期列表=df_temp)"
   ]
  },
  {
   "cell_type": "code",
   "execution_count": 53,
   "metadata": {},
   "outputs": [
    {
     "data": {
      "text/html": [
       "<div>\n",
       "<style scoped>\n",
       "    .dataframe tbody tr th:only-of-type {\n",
       "        vertical-align: middle;\n",
       "    }\n",
       "\n",
       "    .dataframe tbody tr th {\n",
       "        vertical-align: top;\n",
       "    }\n",
       "\n",
       "    .dataframe thead th {\n",
       "        text-align: right;\n",
       "    }\n",
       "</style>\n",
       "<table border=\"1\" class=\"dataframe\">\n",
       "  <thead>\n",
       "    <tr style=\"text-align: right;\">\n",
       "      <th></th>\n",
       "      <th>证券代码</th>\n",
       "      <th>证券名称</th>\n",
       "      <th>首发上市日期</th>\n",
       "      <th>首发价格</th>\n",
       "      <th>戴帽摘帽日期</th>\n",
       "      <th>戴帽摘帽日期列表</th>\n",
       "    </tr>\n",
       "    <tr>\n",
       "      <th>code</th>\n",
       "      <th></th>\n",
       "      <th></th>\n",
       "      <th></th>\n",
       "      <th></th>\n",
       "      <th></th>\n",
       "      <th></th>\n",
       "    </tr>\n",
       "  </thead>\n",
       "  <tbody>\n",
       "    <tr>\n",
       "      <th>000001</th>\n",
       "      <td>000001.SZ</td>\n",
       "      <td>平安银行</td>\n",
       "      <td>1991-04-03</td>\n",
       "      <td>40.0</td>\n",
       "      <td>NaN</td>\n",
       "      <td>--</td>\n",
       "    </tr>\n",
       "    <tr>\n",
       "      <th>000002</th>\n",
       "      <td>000002.SZ</td>\n",
       "      <td>万科A</td>\n",
       "      <td>1991-01-29</td>\n",
       "      <td>1.0</td>\n",
       "      <td>NaN</td>\n",
       "      <td>--</td>\n",
       "    </tr>\n",
       "    <tr>\n",
       "      <th>000004</th>\n",
       "      <td>000004.SZ</td>\n",
       "      <td>国农科技</td>\n",
       "      <td>1991-01-14</td>\n",
       "      <td>1.0</td>\n",
       "      <td>去ST:2011-06-08,去*ST:2010-05-31,*ST:2009-04-21,...</td>\n",
       "      <td>[[2006-04-21, 2011-06-07], [1999-04-27, 2001-0...</td>\n",
       "    </tr>\n",
       "    <tr>\n",
       "      <th>000005</th>\n",
       "      <td>000005.SZ</td>\n",
       "      <td>世纪星源</td>\n",
       "      <td>1990-12-10</td>\n",
       "      <td>10.0</td>\n",
       "      <td>去ST:2008-06-25,去*ST:2004-05-18,*ST:2003-05-12,...</td>\n",
       "      <td>[[2003-04-16, 2008-06-24]]</td>\n",
       "    </tr>\n",
       "    <tr>\n",
       "      <th>000006</th>\n",
       "      <td>000006.SZ</td>\n",
       "      <td>深振业A</td>\n",
       "      <td>1992-04-27</td>\n",
       "      <td>10.0</td>\n",
       "      <td>NaN</td>\n",
       "      <td>--</td>\n",
       "    </tr>\n",
       "    <tr>\n",
       "      <th>000007</th>\n",
       "      <td>000007.SZ</td>\n",
       "      <td>全新好</td>\n",
       "      <td>1992-04-13</td>\n",
       "      <td>1.0</td>\n",
       "      <td>去ST:2012-05-04,ST:2007-04-23,去ST:2002-04-12,ST...</td>\n",
       "      <td>[[2007-04-23, 2012-05-03], [2001-04-19, 2002-0...</td>\n",
       "    </tr>\n",
       "    <tr>\n",
       "      <th>000008</th>\n",
       "      <td>000008.SZ</td>\n",
       "      <td>神州高铁</td>\n",
       "      <td>1992-05-07</td>\n",
       "      <td>7.9</td>\n",
       "      <td>去ST:2013-04-19,去*ST:2008-04-03,*ST:2007-03-30,...</td>\n",
       "      <td>[[2007-03-30, 2013-04-18], [2002-04-30, 2005-0...</td>\n",
       "    </tr>\n",
       "    <tr>\n",
       "      <th>000009</th>\n",
       "      <td>000009.SZ</td>\n",
       "      <td>中国宝安</td>\n",
       "      <td>1991-06-25</td>\n",
       "      <td>3.0</td>\n",
       "      <td>去ST:2000-04-14,ST:1999-04-30</td>\n",
       "      <td>[[1999-04-30, 2000-04-13]]</td>\n",
       "    </tr>\n",
       "    <tr>\n",
       "      <th>000010</th>\n",
       "      <td>000010.SZ</td>\n",
       "      <td>美丽生态</td>\n",
       "      <td>1995-10-27</td>\n",
       "      <td>1.0</td>\n",
       "      <td>去ST:2013-10-18,去*ST:2007-03-21,*ST:2006-05-09,...</td>\n",
       "      <td>[[2006-05-09, 2013-10-17], [2000-04-27, 2001-0...</td>\n",
       "    </tr>\n",
       "    <tr>\n",
       "      <th>000011</th>\n",
       "      <td>000011.SZ</td>\n",
       "      <td>深物业A</td>\n",
       "      <td>1992-03-30</td>\n",
       "      <td>3.6</td>\n",
       "      <td>去*ST:2009-09-16,*ST:2008-04-16,去ST:2005-03-08,...</td>\n",
       "      <td>[[2008-04-16, 2018-11-01], [2000-05-09, 2005-0...</td>\n",
       "    </tr>\n",
       "  </tbody>\n",
       "</table>\n",
       "</div>"
      ],
      "text/plain": [
       "             证券代码  证券名称      首发上市日期  首发价格  \\\n",
       "code                                        \n",
       "000001  000001.SZ  平安银行  1991-04-03  40.0   \n",
       "000002  000002.SZ   万科A  1991-01-29   1.0   \n",
       "000004  000004.SZ  国农科技  1991-01-14   1.0   \n",
       "000005  000005.SZ  世纪星源  1990-12-10  10.0   \n",
       "000006  000006.SZ  深振业A  1992-04-27  10.0   \n",
       "000007  000007.SZ   全新好  1992-04-13   1.0   \n",
       "000008  000008.SZ  神州高铁  1992-05-07   7.9   \n",
       "000009  000009.SZ  中国宝安  1991-06-25   3.0   \n",
       "000010  000010.SZ  美丽生态  1995-10-27   1.0   \n",
       "000011  000011.SZ  深物业A  1992-03-30   3.6   \n",
       "\n",
       "                                                   戴帽摘帽日期  \\\n",
       "code                                                        \n",
       "000001                                                NaN   \n",
       "000002                                                NaN   \n",
       "000004  去ST:2011-06-08,去*ST:2010-05-31,*ST:2009-04-21,...   \n",
       "000005  去ST:2008-06-25,去*ST:2004-05-18,*ST:2003-05-12,...   \n",
       "000006                                                NaN   \n",
       "000007  去ST:2012-05-04,ST:2007-04-23,去ST:2002-04-12,ST...   \n",
       "000008  去ST:2013-04-19,去*ST:2008-04-03,*ST:2007-03-30,...   \n",
       "000009                       去ST:2000-04-14,ST:1999-04-30   \n",
       "000010  去ST:2013-10-18,去*ST:2007-03-21,*ST:2006-05-09,...   \n",
       "000011  去*ST:2009-09-16,*ST:2008-04-16,去ST:2005-03-08,...   \n",
       "\n",
       "                                                 戴帽摘帽日期列表  \n",
       "code                                                       \n",
       "000001                                                 --  \n",
       "000002                                                 --  \n",
       "000004  [[2006-04-21, 2011-06-07], [1999-04-27, 2001-0...  \n",
       "000005                         [[2003-04-16, 2008-06-24]]  \n",
       "000006                                                 --  \n",
       "000007  [[2007-04-23, 2012-05-03], [2001-04-19, 2002-0...  \n",
       "000008  [[2007-03-30, 2013-04-18], [2002-04-30, 2005-0...  \n",
       "000009                         [[1999-04-30, 2000-04-13]]  \n",
       "000010  [[2006-05-09, 2013-10-17], [2000-04-27, 2001-0...  \n",
       "000011  [[2008-04-16, 2018-11-01], [2000-05-09, 2005-0...  "
      ]
     },
     "execution_count": 53,
     "metadata": {},
     "output_type": "execute_result"
    }
   ],
   "source": [
    "df.head(10)"
   ]
  },
  {
   "cell_type": "code",
   "execution_count": 54,
   "metadata": {},
   "outputs": [],
   "source": [
    "writer = pd.ExcelWriter('data/pandas_simple.xlsx', engine='xlsxwriter')"
   ]
  },
  {
   "cell_type": "code",
   "execution_count": 55,
   "metadata": {},
   "outputs": [],
   "source": [
    "df.to_excel(writer)\n",
    "writer.save()"
   ]
  },
  {
   "cell_type": "code",
   "execution_count": null,
   "metadata": {},
   "outputs": [],
   "source": []
  }
 ],
 "metadata": {
  "kernelspec": {
   "display_name": "Python 3",
   "language": "python",
   "name": "python3"
  },
  "language_info": {
   "codemirror_mode": {
    "name": "ipython",
    "version": 3
   },
   "file_extension": ".py",
   "mimetype": "text/x-python",
   "name": "python",
   "nbconvert_exporter": "python",
   "pygments_lexer": "ipython3",
   "version": "3.6.5"
  },
  "toc": {
   "base_numbering": 1,
   "nav_menu": {},
   "number_sections": true,
   "sideBar": true,
   "skip_h1_title": false,
   "title_cell": "Table of Contents",
   "title_sidebar": "Contents",
   "toc_cell": false,
   "toc_position": {},
   "toc_section_display": true,
   "toc_window_display": false
  },
  "varInspector": {
   "cols": {
    "lenName": 16,
    "lenType": 16,
    "lenVar": 40
   },
   "kernels_config": {
    "python": {
     "delete_cmd_postfix": "",
     "delete_cmd_prefix": "del ",
     "library": "var_list.py",
     "varRefreshCmd": "print(var_dic_list())"
    },
    "r": {
     "delete_cmd_postfix": ") ",
     "delete_cmd_prefix": "rm(",
     "library": "var_list.r",
     "varRefreshCmd": "cat(var_dic_list()) "
    }
   },
   "types_to_exclude": [
    "module",
    "function",
    "builtin_function_or_method",
    "instance",
    "_Feature"
   ],
   "window_display": false
  }
 },
 "nbformat": 4,
 "nbformat_minor": 2
}
