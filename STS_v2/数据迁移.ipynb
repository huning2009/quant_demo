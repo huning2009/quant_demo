{
 "cells": [
  {
   "cell_type": "code",
   "execution_count": 1,
   "metadata": {},
   "outputs": [],
   "source": [
    "import QUANTAXIS as QA\n",
    "import pandas as pd\n",
    "import numpy as np\n",
    "from database import DB_CONN\n",
    "from pymongo import ASCENDING, UpdateOne"
   ]
  },
  {
   "cell_type": "code",
   "execution_count": 2,
   "metadata": {},
   "outputs": [],
   "source": [
    "start = '2015-01-01'\n",
    "end = '2018-09-30'\n",
    "\n",
    "index_code_list = ['000001', '000300', '399001', '399005', '399006']\n",
    "_df = pd.read_excel('data/stock_basic.xlsx', header=0, dtype={'code':str})\n",
    "stock_code_list = _df.code.tolist()"
   ]
  },
  {
   "cell_type": "code",
   "execution_count": 51,
   "metadata": {},
   "outputs": [],
   "source": [
    "# 替换成stock code就好\n",
    "df = QA.QA_fetch_index_day_adv(index_code_list, start, end).data\n",
    "df_nonind = df.reset_index()\n",
    "df_nonind.date = df_nonind.date.apply(lambda x : x.strftime('%Y-%m-%d'))"
   ]
  },
  {
   "cell_type": "code",
   "execution_count": 32,
   "metadata": {},
   "outputs": [
    {
     "data": {
      "text/plain": [
       "'code_1_date_1_index_1'"
      ]
     },
     "execution_count": 32,
     "metadata": {},
     "output_type": "execute_result"
    }
   ],
   "source": [
    "daily = DB_CONN['daily']\n",
    "daily_hfq = DB_CONN['daily_hfq']\n",
    "daily.create_index(\n",
    "    [('code',ASCENDING), ('date',ASCENDING), ('index',ASCENDING)])\n",
    "daily_hfq.create_index(\n",
    "    [('code',ASCENDING), ('date',ASCENDING), ('index',ASCENDING)])"
   ]
  },
  {
   "cell_type": "code",
   "execution_count": 58,
   "metadata": {},
   "outputs": [],
   "source": [
    "import time"
   ]
  },
  {
   "cell_type": "code",
   "execution_count": 60,
   "metadata": {},
   "outputs": [
    {
     "name": "stdout",
     "output_type": "stream",
     "text": [
      "保存日线数据,插入：4575条, 更新：   0条\n",
      "cost time : 4.88s\n"
     ]
    }
   ],
   "source": [
    "tic = time.process_time()\n",
    "\n",
    "update_requests = []\n",
    "for i in df_nonind.index:\n",
    "    doc = dict(df_nonind.loc[i, ['code', 'date', 'open', 'high', 'low', 'close','volume',\n",
    "                      ]])\n",
    "    doc.update({'index':True})\n",
    "    update_requests.append(\n",
    "        UpdateOne(\n",
    "        {'code':doc['code'], 'date':doc['date']},\n",
    "        {'$set':doc},\n",
    "        upsert=True)\n",
    "    )\n",
    "if len(update_requests) > 0:\n",
    "    update_result = daily.bulk_write(update_requests, ordered=False)\n",
    "    print('保存日线数据,插入：%4d条, 更新：%4d条' %\n",
    "      (update_result.upserted_count, update_result.modified_count),\n",
    "      flush=True)\n",
    "\n",
    "toc = time.process_time()\n",
    "print('cost time : %.2fs' % (toc-tic))"
   ]
  },
  {
   "cell_type": "code",
   "execution_count": 46,
   "metadata": {},
   "outputs": [],
   "source": [
    "# df_nonind = df_nonind.assign(index=True)"
   ]
  },
  {
   "cell_type": "code",
   "execution_count": 55,
   "metadata": {},
   "outputs": [],
   "source": [
    "# df_nonind.loc[0]"
   ]
  },
  {
   "cell_type": "code",
   "execution_count": 56,
   "metadata": {},
   "outputs": [],
   "source": [
    "# update_result = [dict(df_nonind.loc[i, ['code', 'date', 'open', 'high', 'low', 'close','volume',\n",
    "#                       'index']]) for i in df_nonind.index]\n"
   ]
  },
  {
   "cell_type": "code",
   "execution_count": 57,
   "metadata": {},
   "outputs": [],
   "source": [
    "# from pymongo import UpdateMany"
   ]
  },
  {
   "cell_type": "code",
   "execution_count": null,
   "metadata": {},
   "outputs": [],
   "source": []
  },
  {
   "cell_type": "code",
   "execution_count": null,
   "metadata": {},
   "outputs": [],
   "source": []
  },
  {
   "cell_type": "code",
   "execution_count": null,
   "metadata": {},
   "outputs": [],
   "source": []
  },
  {
   "cell_type": "code",
   "execution_count": null,
   "metadata": {},
   "outputs": [],
   "source": []
  },
  {
   "cell_type": "code",
   "execution_count": null,
   "metadata": {},
   "outputs": [],
   "source": []
  },
  {
   "cell_type": "code",
   "execution_count": null,
   "metadata": {},
   "outputs": [],
   "source": []
  },
  {
   "cell_type": "code",
   "execution_count": null,
   "metadata": {},
   "outputs": [],
   "source": []
  },
  {
   "cell_type": "code",
   "execution_count": null,
   "metadata": {},
   "outputs": [],
   "source": []
  }
 ],
 "metadata": {
  "kernelspec": {
   "display_name": "Python 3",
   "language": "python",
   "name": "python3"
  },
  "language_info": {
   "codemirror_mode": {
    "name": "ipython",
    "version": 3
   },
   "file_extension": ".py",
   "mimetype": "text/x-python",
   "name": "python",
   "nbconvert_exporter": "python",
   "pygments_lexer": "ipython3",
   "version": "3.6.5"
  },
  "toc": {
   "base_numbering": 1,
   "nav_menu": {},
   "number_sections": true,
   "sideBar": true,
   "skip_h1_title": false,
   "title_cell": "Table of Contents",
   "title_sidebar": "Contents",
   "toc_cell": false,
   "toc_position": {},
   "toc_section_display": true,
   "toc_window_display": false
  },
  "varInspector": {
   "cols": {
    "lenName": 16,
    "lenType": 16,
    "lenVar": 40
   },
   "kernels_config": {
    "python": {
     "delete_cmd_postfix": "",
     "delete_cmd_prefix": "del ",
     "library": "var_list.py",
     "varRefreshCmd": "print(var_dic_list())"
    },
    "r": {
     "delete_cmd_postfix": ") ",
     "delete_cmd_prefix": "rm(",
     "library": "var_list.r",
     "varRefreshCmd": "cat(var_dic_list()) "
    }
   },
   "types_to_exclude": [
    "module",
    "function",
    "builtin_function_or_method",
    "instance",
    "_Feature"
   ],
   "window_display": false
  }
 },
 "nbformat": 4,
 "nbformat_minor": 2
}
