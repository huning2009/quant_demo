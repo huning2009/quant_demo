{
 "cells": [
  {
   "cell_type": "code",
   "execution_count": null,
   "metadata": {},
   "outputs": [],
   "source": [
    "from WindPy import *\n",
    "w.start()"
   ]
  },
  {
   "cell_type": "markdown",
   "metadata": {},
   "source": [
    "# <center>量化策略开发——多因子量化选股模型（一）"
   ]
  },
  {
   "cell_type": "markdown",
   "metadata": {},
   "source": [
    "## 快速入门：一个例子弄清多因子选股"
   ]
  },
  {
   "cell_type": "markdown",
   "metadata": {},
   "source": [
    "###  什么是因子？\n",
    "\n",
    "因子就是**指标或者特征**, 如PE、PB、5日均线等。因子选股模型就是通过分析各个因子与股票表现（收益率）之间的关系而建立的一套量化选股的体系。                     \n",
    "\n",
    "![PSNdOJ.md.png](https://www.windquant.com/qntcloud/ftp/image/20180810/94155547-a0a6-4906-be59-01190860a030.png)"
   ]
  },
  {
   "cell_type": "markdown",
   "metadata": {},
   "source": [
    "### 更直观的理解多因子选股体系：以赛马运动为例\n",
    "\n",
    "![PSNyY6.md.png](https://www.windquant.com/qntcloud/ftp/image/20180810/11e80e6c-528c-4da5-8d00-ac8092943aa6.png)"
   ]
  },
  {
   "cell_type": "markdown",
   "metadata": {},
   "source": [
    "###  在理解多因子选股之前，我们先弄清楚单因子选股是怎么回事?\n",
    "\n",
    "<img src=\"https://s1.ax1x.com/2018/06/21/PSN7ff.png\" width=\"750\" alt=\"PSN7ff.png\" border=\"0\" />"
   ]
  },
  {
   "cell_type": "markdown",
   "metadata": {},
   "source": [
    "####  怎么判断单个因子是否有效呢？  \n",
    "  \n",
    "**现在有6匹马，它们的“爆发力”排名及对应的比赛成绩如下，那该因子（爆发力）是否有效？**  \n",
    "\n",
    "<img src=\"https://s1.ax1x.com/2018/06/21/PSUkX4.png\" width=\"750\" alt=\"PSUkX4.png\" border=\"0\" />\n",
    "\n",
    "**现在有6只股票，它们的“PE”排名及对应的下一个月收益率如下，那该因子（PE）是否有效？**\n",
    "<img src=\"https://s1.ax1x.com/2018/06/21/PSUmA1.png\" width=\"750\" alt=\"PSUmA1.png\" border=\"0\" />\n",
    "  \n",
    "**所以，因子值与收益率之间的相关性（称为信息系数IC）是衡量因子有效性的重要指标，通常大于0.03，就认为该因子有效。**\n",
    "\n",
    "<img src=\"https://s1.ax1x.com/2018/06/21/PSaPUI.png\" width=\"750\" alt=\"PSaPUI.png\" border=\"0\" />"
   ]
  },
  {
   "cell_type": "markdown",
   "metadata": {},
   "source": [
    "计算因子和收益率的相关性, 信息系数如果大于0.03, 就认为该因子有效;\n",
    "\n",
    "or\n",
    "\n",
    "计算每只股票的因子值, 然后排序; 并划分成3组股票; \n",
    "\n",
    "比较这三组股票下一期平均收益率\n",
    "\n",
    "如果收益率依次递减, 则说明因子有效\n",
    "\n",
    "---\n",
    "那么多因子又是怎么办呢\n",
    "\n",
    "一样先计算出每个股票的各因子的值\n",
    "\n",
    "然后根据因子的值给出分值,假设分值越高,收益越高;\n",
    "\n",
    "然后计算每只股票各因子的分值之和, 按总分值对股票进行分组;\n",
    "\n",
    "比较各组表现, 如果是依次递减, 可以认为是有效的;\n",
    "\n",
    "or\n",
    "\n",
    "多因子和收益的相关性怎么计算呢?"
   ]
  },
  {
   "cell_type": "markdown",
   "metadata": {},
   "source": [
    "#### 怎么判断多个因子是否有效呢？  \n",
    "\n",
    "<img src=\"https://s1.ax1x.com/2018/06/21/PSUjgO.png\" width=\"750\" alt=\"PSUjgO.png\" border=\"0\" />"
   ]
  },
  {
   "cell_type": "markdown",
   "metadata": {},
   "source": [
    "#### 怎么判断多个因子是否有效呢：打分的过程\n",
    "\n",
    "<img src=\"https://s1.ax1x.com/2018/06/21/PSaE28.png\" width=\"750\" alt=\"PSaE28.png\" border=\"0\" />"
   ]
  },
  {
   "cell_type": "markdown",
   "metadata": {},
   "source": [
    "#### 当然，多因子选股的方法并不只有打分法一种\n",
    "<img src=\"https://s1.ax1x.com/2018/06/21/PSwOCq.png\" width=\"800\" alt=\"PSN7ff.png\" border=\"0\" />"
   ]
  },
  {
   "cell_type": "markdown",
   "metadata": {},
   "source": [
    "打分方法则是先单因子分析, 然后再对各因子进行加权, 构建多因子组合"
   ]
  },
  {
   "cell_type": "markdown",
   "metadata": {},
   "source": []
  },
  {
   "cell_type": "markdown",
   "metadata": {},
   "source": []
  },
  {
   "cell_type": "markdown",
   "metadata": {},
   "source": []
  },
  {
   "cell_type": "markdown",
   "metadata": {},
   "source": []
  },
  {
   "cell_type": "markdown",
   "metadata": {},
   "source": []
  },
  {
   "cell_type": "markdown",
   "metadata": {},
   "source": []
  },
  {
   "cell_type": "markdown",
   "metadata": {},
   "source": []
  }
 ],
 "metadata": {
  "kernelspec": {
   "display_name": "Python (quant)",
   "language": "python",
   "name": "quant"
  },
  "language_info": {
   "codemirror_mode": {
    "name": "ipython",
    "version": 3
   },
   "file_extension": ".py",
   "mimetype": "text/x-python",
   "name": "python",
   "nbconvert_exporter": "python",
   "pygments_lexer": "ipython3",
   "version": "3.6.6"
  },
  "toc": {
   "base_numbering": 1,
   "nav_menu": {},
   "number_sections": true,
   "sideBar": true,
   "skip_h1_title": true,
   "title_cell": "Table of Contents",
   "title_sidebar": "Contents",
   "toc_cell": false,
   "toc_position": {},
   "toc_section_display": true,
   "toc_window_display": false
  },
  "varInspector": {
   "cols": {
    "lenName": 16,
    "lenType": 16,
    "lenVar": 40
   },
   "kernels_config": {
    "python": {
     "delete_cmd_postfix": "",
     "delete_cmd_prefix": "del ",
     "library": "var_list.py",
     "varRefreshCmd": "print(var_dic_list())"
    },
    "r": {
     "delete_cmd_postfix": ") ",
     "delete_cmd_prefix": "rm(",
     "library": "var_list.r",
     "varRefreshCmd": "cat(var_dic_list()) "
    }
   },
   "types_to_exclude": [
    "module",
    "function",
    "builtin_function_or_method",
    "instance",
    "_Feature"
   ],
   "window_display": false
  }
 },
 "nbformat": 4,
 "nbformat_minor": 2
}
