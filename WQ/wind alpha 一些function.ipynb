{
 "cells": [
  {
   "cell_type": "code",
   "execution_count": null,
   "metadata": {},
   "outputs": [],
   "source": [
    "# Signature: wa.process_raw_data(raw_ind_ret, extreme_num=3, extreme_method='mad', scale_method='normal', funcs=None)\n",
    "# Source:   \n",
    "def process_raw_data(raw_ind_ret, extreme_num=3, extreme_method='mad', scale_method='normal', funcs=None):\n",
    "    \"\"\"\n",
    "    处理原始因子数据\n",
    "\n",
    "    :param raw_ind_ret:    pd.DataFrame, 原始因子数据，结构如prepare_raw_data返回的数据\n",
    "    :param extreme_num:             int, 去极值的判断区间，如果extreme_method='std',extreme_num=3,则超过3个标准差的为极端值\n",
    "    :param extreme_method:          str, 去极值的方法，可选参数'mad'：平均绝对离差法,'std':标准差法, 默认'mad'\n",
    "    :param scale_method:            str, 标准化的方法，可选参数'normal': 正常标准化，因子均值为因子算法平均值；\n",
    "                                                               'cap': 市值加权标准化,因子均值为市值加权均值。默认'normal'\n",
    "\n",
    "    :param funcs:          list, 自定义数据处理函数，默认None\n",
    "    :return:               pd.DataFrame\n",
    "    \"\"\"\n",
    "    from functools import partial\n",
    "    raw_data = raw_ind_ret.copy()\n",
    "\n",
    "    if extreme_method and extreme_method not in ['mad','std']:\n",
    "        raise ValueError(\"extreme_method must be one of ['mad','std'] or False\")\n",
    "\n",
    "    if scale_method and scale_method not in ['normal','cap']:\n",
    "        raise ValueError(\"extreme_method must be one of ['normal','cap'] or False\")\n",
    "\n",
    "    p_extreme_process = partial(extreme_process, num=extreme_num, method=extreme_method)\n",
    "    p_scale_process = partial(scale_process, method=scale_method)\n",
    "    all_funcs = [p_extreme_process, p_scale_process]\n",
    "\n",
    "    if not funcs:\n",
    "        funcs = []\n",
    "    all_funcs.extend(funcs)\n",
    "\n",
    "    if not extreme_method:\n",
    "        all_funcs.remove(p_extreme_process)\n",
    "\n",
    "    if not scale_method:\n",
    "        all_funcs.remove(p_scale_process)\n",
    "\n",
    "    if all_funcs:\n",
    "        for func in all_funcs:\n",
    "            raw_data = raw_data.groupby(level=0).apply(func)\n",
    "\n",
    "    if not all_funcs:\n",
    "        print(\"未定义任何数据处理函数，返回原始数据！\")\n",
    "\n",
    "    return raw_data\n",
    "# File:      /opt/conda/lib/python3.5/site-packages/WindAlpha/analysis.py\n",
    "# Type:      function"
   ]
  }
 ],
 "metadata": {
  "kernelspec": {
   "display_name": "Python 3",
   "language": "python",
   "name": "python3"
  },
  "language_info": {
   "codemirror_mode": {
    "name": "ipython",
    "version": 3
   },
   "file_extension": ".py",
   "mimetype": "text/x-python",
   "name": "python",
   "nbconvert_exporter": "python",
   "pygments_lexer": "ipython3",
   "version": "3.6.5"
  },
  "toc": {
   "base_numbering": 1,
   "nav_menu": {},
   "number_sections": true,
   "sideBar": true,
   "skip_h1_title": false,
   "title_cell": "Table of Contents",
   "title_sidebar": "Contents",
   "toc_cell": false,
   "toc_position": {},
   "toc_section_display": true,
   "toc_window_display": false
  },
  "varInspector": {
   "cols": {
    "lenName": 16,
    "lenType": 16,
    "lenVar": 40
   },
   "kernels_config": {
    "python": {
     "delete_cmd_postfix": "",
     "delete_cmd_prefix": "del ",
     "library": "var_list.py",
     "varRefreshCmd": "print(var_dic_list())"
    },
    "r": {
     "delete_cmd_postfix": ") ",
     "delete_cmd_prefix": "rm(",
     "library": "var_list.r",
     "varRefreshCmd": "cat(var_dic_list()) "
    }
   },
   "types_to_exclude": [
    "module",
    "function",
    "builtin_function_or_method",
    "instance",
    "_Feature"
   ],
   "window_display": false
  }
 },
 "nbformat": 4,
 "nbformat_minor": 2
}
