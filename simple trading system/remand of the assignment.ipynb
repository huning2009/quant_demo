{
 "cells": [
  {
   "cell_type": "markdown",
   "metadata": {},
   "source": [
    "1. 基于第五课的课件，添加一些条件；\n",
    "2. 涨跌停限制；\n",
    "3. 止损\n",
    "4. 233， 貌似就这些，感觉还是很儿戏啊。。。"
   ]
  },
  {
   "cell_type": "markdown",
   "metadata": {},
   "source": [
    "1. 首先是跑通第五课的代码；\n",
    "2. 求涨跌停价格并保存到不复权的表中；\n",
    "3. 有了这些条件，然后再在回测框架中添加涨跌停限制和止损"
   ]
  },
  {
   "cell_type": "markdown",
   "metadata": {},
   "source": [
    "先看看目前的进度\n",
    "\n",
    "查看有哪些database，自己想看的database下面有哪些collection；"
   ]
  },
  {
   "cell_type": "markdown",
   "metadata": {},
   "source": [
    "```mongodb\n",
    "show dbs\n",
    "\n",
    "use quant_01\n",
    "\n",
    "show collection\n",
    "```"
   ]
  },
  {
   "cell_type": "markdown",
   "metadata": {},
   "source": [
    "需要看下，比如daily和daily_hfq有哪些字段，分别有多少条数据"
   ]
  },
  {
   "cell_type": "markdown",
   "metadata": {},
   "source": [
    "daily有的字段是\n",
    "\n",
    "code date index ohlc volume\n",
    "\n",
    "daily_hfq\n",
    "亦是一样的\n",
    "\n",
    "也就是说没有做除权因子等操作，也没有记录pre_close\n",
    "\n",
    "也没有补全信息, and so on\n",
    "\n",
    "当然也没有做涨跌停的价格录入"
   ]
  },
  {
   "cell_type": "markdown",
   "metadata": {},
   "source": [
    "回测代码中也有不少需要加索引的地方"
   ]
  },
  {
   "cell_type": "markdown",
   "metadata": {},
   "source": [
    "先梳理出执行顺序\n",
    "\n",
    "再确认各个文件里需要index的地方，不光是爬取数据的地方，回测的地方也需要index\n",
    "\n",
    "database.py / stock_util.py --> daily_crawler.py --> \n",
    "\n",
    "basic_crawler.py --> daily_fixing.py -->\n",
    "\n",
    "compute_high_low_limit.py -->\n",
    "\n",
    "finance_report.py --> pe_computing.py -->\n",
    "\n",
    "stock_pool_strategy.py --> backtest.py"
   ]
  },
  {
   "cell_type": "markdown",
   "metadata": {},
   "source": [
    "```\n",
    "可以同时运行的有哪些数据呢\n",
    "\n",
    "daily只是ohlc基本数据\n",
    "\n",
    "basic_crawler是获取basic的数据\n",
    "\n",
    "daily_fixing是补充is_trading字段、停牌时的数据、复权因子 和 pre_close\n",
    "\n",
    "compute_high_low_limit是为了计算涨跌停价格，所以需要前面的都完成以后才能计算；\n",
    "\n",
    "finance_report是一个独立的过程，可以与其他的过程同时进行\n",
    "\n",
    "pe_computing需要daily中的close和report的eps，在daily数据和finance_report数据之后才能计算，但是不知道别的数据库在更新daily的时候，会不会影响效率\n",
    "\n",
    "233，pe的计算果然够慢，如果可能，需要尽快进行哦\n",
    "\n",
    "```"
   ]
  },
  {
   "cell_type": "markdown",
   "metadata": {},
   "source": [
    "```\n",
    "【编程题】为了让回测更接近于实际情况，需要在第5课中回测流程中引入以下逻辑：\n",
    "\n",
    "1、引入涨停和跌停的判断，跌停时无法卖出，涨停时无法买入；\n",
    "\n",
    "2、引入止损的风险控制，如果单日亏损超过3%或者累积亏损超过10%则第二天开盘价卖出。 \n",
    "\n",
    "要求编写完整的可执行代码。自行选定回测周期，附回测结果图。\n",
    "\n",
    "```"
   ]
  },
  {
   "cell_type": "markdown",
   "metadata": {},
   "source": [
    "获取股票基本信息，使用新的接口\n",
    "tushare pro 哦\n",
    "可能会造成各种不适应"
   ]
  },
  {
   "cell_type": "code",
   "execution_count": 1,
   "metadata": {},
   "outputs": [],
   "source": [
    "import QUANTAXIS as QA"
   ]
  },
  {
   "cell_type": "code",
   "execution_count": 2,
   "metadata": {
    "collapsed": true
   },
   "outputs": [
    {
     "name": "stderr",
     "output_type": "stream",
     "text": [
      "QUANTAXIS>> Selecting the Best Server IP of TDX\n"
     ]
    },
    {
     "name": "stdout",
     "output_type": "stream",
     "text": [
      "USING DEFAULT STOCK IP\n",
      "USING DEFAULT FUTURE IP\n"
     ]
    },
    {
     "name": "stderr",
     "output_type": "stream",
     "text": [
      "QUANTAXIS>> === The BEST SERVER ===\n",
      " stock_ip 60.191.117.167 future_ip 202.103.36.71\n"
     ]
    }
   ],
   "source": [
    "df = QA.QA_fetch_get_stock_min('tdx', '300257', '2015-01-01', '2018-10-26')"
   ]
  },
  {
   "cell_type": "code",
   "execution_count": 4,
   "metadata": {},
   "outputs": [],
   "source": [
    "import tushare as ts"
   ]
  },
  {
   "cell_type": "code",
   "execution_count": 10,
   "metadata": {},
   "outputs": [
    {
     "name": "stdout",
     "output_type": "stream",
     "text": [
      "1.2.12\n"
     ]
    }
   ],
   "source": [
    "print(ts.__version__)"
   ]
  },
  {
   "cell_type": "code",
   "execution_count": 5,
   "metadata": {},
   "outputs": [],
   "source": [
    "token = 'd5deeb2574ff968fbf7cfc89a379a1a2597b2ab6dc56989053ec32a9'\n",
    "ts.set_token(token)"
   ]
  },
  {
   "cell_type": "code",
   "execution_count": 6,
   "metadata": {},
   "outputs": [],
   "source": [
    "pro = ts.pro_api()"
   ]
  },
  {
   "cell_type": "code",
   "execution_count": 7,
   "metadata": {},
   "outputs": [],
   "source": [
    "df = pro.trade_cal(exchange_id='', start_date='20180901', end_date='20181001', fields='exchange_id,cal_date,is_open,pretrade_date', is_open='0')"
   ]
  },
  {
   "cell_type": "code",
   "execution_count": 13,
   "metadata": {},
   "outputs": [],
   "source": [
    "trade_dates = QA.trade_date_sse"
   ]
  },
  {
   "cell_type": "code",
   "execution_count": 16,
   "metadata": {},
   "outputs": [],
   "source": [
    "QA.QAUtil.*date*?"
   ]
  },
  {
   "cell_type": "code",
   "execution_count": 19,
   "metadata": {
    "scrolled": false
   },
   "outputs": [],
   "source": [
    "trade_range = QA.QA_util_get_trade_range('2015-01-01', '2017-12-31')"
   ]
  },
  {
   "cell_type": "code",
   "execution_count": 20,
   "metadata": {},
   "outputs": [],
   "source": [
    "ts.get_stock_basics('2015-01-01')"
   ]
  },
  {
   "cell_type": "code",
   "execution_count": 22,
   "metadata": {},
   "outputs": [
    {
     "name": "stdout",
     "output_type": "stream",
     "text": [
      "2016-08-09\n"
     ]
    }
   ],
   "source": [
    "for _date in trade_range:\n",
    "    if ts.get_stock_basics(_date) is not None:\n",
    "        print(_date)\n",
    "        break"
   ]
  },
  {
   "cell_type": "code",
   "execution_count": 23,
   "metadata": {},
   "outputs": [
    {
     "data": {
      "text/plain": [
       "'2016-08-08'"
      ]
     },
     "execution_count": 23,
     "metadata": {},
     "output_type": "execute_result"
    }
   ],
   "source": [
    "QA.QA_util_get_last_day('2016-08-09')"
   ]
  },
  {
   "cell_type": "markdown",
   "metadata": {},
   "source": [
    "针对backtest进行debug，看到底是哪里"
   ]
  },
  {
   "cell_type": "markdown",
   "metadata": {},
   "source": [
    "重构涨跌停计算方式"
   ]
  },
  {
   "cell_type": "code",
   "execution_count": null,
   "metadata": {},
   "outputs": [],
   "source": [
    "df = ts.get_stock_basics()"
   ]
  },
  {
   "cell_type": "code",
   "execution_count": 40,
   "metadata": {
    "collapsed": true
   },
   "outputs": [
    {
     "data": {
      "text/html": [
       "<div>\n",
       "<style scoped>\n",
       "    .dataframe tbody tr th:only-of-type {\n",
       "        vertical-align: middle;\n",
       "    }\n",
       "\n",
       "    .dataframe tbody tr th {\n",
       "        vertical-align: top;\n",
       "    }\n",
       "\n",
       "    .dataframe thead th {\n",
       "        text-align: right;\n",
       "    }\n",
       "</style>\n",
       "<table border=\"1\" class=\"dataframe\">\n",
       "  <thead>\n",
       "    <tr style=\"text-align: right;\">\n",
       "      <th></th>\n",
       "      <th>name</th>\n",
       "      <th>industry</th>\n",
       "      <th>area</th>\n",
       "      <th>pe</th>\n",
       "      <th>outstanding</th>\n",
       "      <th>totals</th>\n",
       "      <th>totalAssets</th>\n",
       "      <th>liquidAssets</th>\n",
       "      <th>fixedAssets</th>\n",
       "      <th>reserved</th>\n",
       "      <th>...</th>\n",
       "      <th>bvps</th>\n",
       "      <th>pb</th>\n",
       "      <th>timeToMarket</th>\n",
       "      <th>undp</th>\n",
       "      <th>perundp</th>\n",
       "      <th>rev</th>\n",
       "      <th>profit</th>\n",
       "      <th>gpr</th>\n",
       "      <th>npr</th>\n",
       "      <th>holders</th>\n",
       "    </tr>\n",
       "    <tr>\n",
       "      <th>code</th>\n",
       "      <th></th>\n",
       "      <th></th>\n",
       "      <th></th>\n",
       "      <th></th>\n",
       "      <th></th>\n",
       "      <th></th>\n",
       "      <th></th>\n",
       "      <th></th>\n",
       "      <th></th>\n",
       "      <th></th>\n",
       "      <th></th>\n",
       "      <th></th>\n",
       "      <th></th>\n",
       "      <th></th>\n",
       "      <th></th>\n",
       "      <th></th>\n",
       "      <th></th>\n",
       "      <th></th>\n",
       "      <th></th>\n",
       "      <th></th>\n",
       "      <th></th>\n",
       "    </tr>\n",
       "  </thead>\n",
       "  <tbody>\n",
       "    <tr>\n",
       "      <th>002939</th>\n",
       "      <td>N长城</td>\n",
       "      <td>证券</td>\n",
       "      <td>深圳</td>\n",
       "      <td>44.14</td>\n",
       "      <td>3.10</td>\n",
       "      <td>31.03</td>\n",
       "      <td>5252933.00</td>\n",
       "      <td>0.00</td>\n",
       "      <td>16134.07</td>\n",
       "      <td>767217.75</td>\n",
       "      <td>...</td>\n",
       "      <td>5.25</td>\n",
       "      <td>1.73</td>\n",
       "      <td>20181026</td>\n",
       "      <td>242751.80</td>\n",
       "      <td>0.78</td>\n",
       "      <td>0.00</td>\n",
       "      <td>0.00</td>\n",
       "      <td>0.00</td>\n",
       "      <td>23.52</td>\n",
       "      <td>555970.0</td>\n",
       "    </tr>\n",
       "    <tr>\n",
       "      <th>000068</th>\n",
       "      <td>华控赛格</td>\n",
       "      <td>元器件</td>\n",
       "      <td>深圳</td>\n",
       "      <td>0.00</td>\n",
       "      <td>10.07</td>\n",
       "      <td>10.07</td>\n",
       "      <td>322020.63</td>\n",
       "      <td>121044.25</td>\n",
       "      <td>17267.07</td>\n",
       "      <td>119316.82</td>\n",
       "      <td>...</td>\n",
       "      <td>0.62</td>\n",
       "      <td>4.17</td>\n",
       "      <td>19970611</td>\n",
       "      <td>-173199.06</td>\n",
       "      <td>-1.72</td>\n",
       "      <td>-6.87</td>\n",
       "      <td>-88.95</td>\n",
       "      <td>36.36</td>\n",
       "      <td>-34.92</td>\n",
       "      <td>31608.0</td>\n",
       "    </tr>\n",
       "    <tr>\n",
       "      <th>300083</th>\n",
       "      <td>劲胜智能</td>\n",
       "      <td>元器件</td>\n",
       "      <td>广东</td>\n",
       "      <td>80.28</td>\n",
       "      <td>11.89</td>\n",
       "      <td>14.32</td>\n",
       "      <td>1152387.88</td>\n",
       "      <td>743815.13</td>\n",
       "      <td>166480.66</td>\n",
       "      <td>366826.81</td>\n",
       "      <td>...</td>\n",
       "      <td>3.93</td>\n",
       "      <td>0.74</td>\n",
       "      <td>20100520</td>\n",
       "      <td>46661.46</td>\n",
       "      <td>0.33</td>\n",
       "      <td>-4.70</td>\n",
       "      <td>-91.40</td>\n",
       "      <td>18.19</td>\n",
       "      <td>0.86</td>\n",
       "      <td>44942.0</td>\n",
       "    </tr>\n",
       "    <tr>\n",
       "      <th>002076</th>\n",
       "      <td>雪 莱 特</td>\n",
       "      <td>家用电器</td>\n",
       "      <td>广东</td>\n",
       "      <td>0.00</td>\n",
       "      <td>4.45</td>\n",
       "      <td>7.78</td>\n",
       "      <td>236576.80</td>\n",
       "      <td>141012.47</td>\n",
       "      <td>26288.91</td>\n",
       "      <td>35599.85</td>\n",
       "      <td>...</td>\n",
       "      <td>1.63</td>\n",
       "      <td>2.06</td>\n",
       "      <td>20061025</td>\n",
       "      <td>11410.11</td>\n",
       "      <td>0.15</td>\n",
       "      <td>-23.74</td>\n",
       "      <td>-281.75</td>\n",
       "      <td>22.54</td>\n",
       "      <td>-10.28</td>\n",
       "      <td>51163.0</td>\n",
       "    </tr>\n",
       "    <tr>\n",
       "      <th>600758</th>\n",
       "      <td>红阳能源</td>\n",
       "      <td>煤炭开采</td>\n",
       "      <td>辽宁</td>\n",
       "      <td>50.67</td>\n",
       "      <td>6.76</td>\n",
       "      <td>13.31</td>\n",
       "      <td>1634608.75</td>\n",
       "      <td>713384.81</td>\n",
       "      <td>688764.81</td>\n",
       "      <td>340929.41</td>\n",
       "      <td>...</td>\n",
       "      <td>4.08</td>\n",
       "      <td>0.88</td>\n",
       "      <td>19961029</td>\n",
       "      <td>48556.18</td>\n",
       "      <td>0.36</td>\n",
       "      <td>-7.73</td>\n",
       "      <td>-89.50</td>\n",
       "      <td>16.04</td>\n",
       "      <td>1.28</td>\n",
       "      <td>67730.0</td>\n",
       "    </tr>\n",
       "  </tbody>\n",
       "</table>\n",
       "<p>5 rows × 22 columns</p>\n",
       "</div>"
      ],
      "text/plain": [
       "         name industry area     pe  outstanding  totals  totalAssets  \\\n",
       "code                                                                   \n",
       "002939    N长城       证券   深圳  44.14         3.10   31.03   5252933.00   \n",
       "000068   华控赛格      元器件   深圳   0.00        10.07   10.07    322020.63   \n",
       "300083   劲胜智能      元器件   广东  80.28        11.89   14.32   1152387.88   \n",
       "002076  雪 莱 特     家用电器   广东   0.00         4.45    7.78    236576.80   \n",
       "600758   红阳能源     煤炭开采   辽宁  50.67         6.76   13.31   1634608.75   \n",
       "\n",
       "        liquidAssets  fixedAssets   reserved    ...     bvps    pb  \\\n",
       "code                                            ...                  \n",
       "002939          0.00     16134.07  767217.75    ...     5.25  1.73   \n",
       "000068     121044.25     17267.07  119316.82    ...     0.62  4.17   \n",
       "300083     743815.13    166480.66  366826.81    ...     3.93  0.74   \n",
       "002076     141012.47     26288.91   35599.85    ...     1.63  2.06   \n",
       "600758     713384.81    688764.81  340929.41    ...     4.08  0.88   \n",
       "\n",
       "        timeToMarket       undp  perundp    rev  profit    gpr    npr  \\\n",
       "code                                                                    \n",
       "002939      20181026  242751.80     0.78   0.00    0.00   0.00  23.52   \n",
       "000068      19970611 -173199.06    -1.72  -6.87  -88.95  36.36 -34.92   \n",
       "300083      20100520   46661.46     0.33  -4.70  -91.40  18.19   0.86   \n",
       "002076      20061025   11410.11     0.15 -23.74 -281.75  22.54 -10.28   \n",
       "600758      19961029   48556.18     0.36  -7.73  -89.50  16.04   1.28   \n",
       "\n",
       "         holders  \n",
       "code              \n",
       "002939  555970.0  \n",
       "000068   31608.0  \n",
       "300083   44942.0  \n",
       "002076   51163.0  \n",
       "600758   67730.0  \n",
       "\n",
       "[5 rows x 22 columns]"
      ]
     },
     "execution_count": 40,
     "metadata": {},
     "output_type": "execute_result"
    }
   ],
   "source": [
    "df.head()"
   ]
  },
  {
   "cell_type": "code",
   "execution_count": 24,
   "metadata": {},
   "outputs": [],
   "source": [
    "start = '2015-01-01'\n",
    "end = '2017-12-31'"
   ]
  },
  {
   "cell_type": "code",
   "execution_count": 25,
   "metadata": {},
   "outputs": [],
   "source": [
    "codes = ts.get_stock_basics().index.tolist()"
   ]
  },
  {
   "cell_type": "code",
   "execution_count": 26,
   "metadata": {
    "collapsed": true
   },
   "outputs": [
    {
     "data": {
      "text/plain": [
       "['002939',\n",
       " '000068',\n",
       " '300083',\n",
       " '002076',\n",
       " '600758',\n",
       " '002708',\n",
       " '600173',\n",
       " '601162',\n",
       " '000622',\n",
       " '002377']"
      ]
     },
     "execution_count": 26,
     "metadata": {},
     "output_type": "execute_result"
    }
   ],
   "source": [
    "codes[:10]"
   ]
  },
  {
   "cell_type": "code",
   "execution_count": 35,
   "metadata": {},
   "outputs": [],
   "source": [
    "code = codes[1000]"
   ]
  },
  {
   "cell_type": "code",
   "execution_count": 36,
   "metadata": {},
   "outputs": [
    {
     "data": {
      "text/plain": [
       "'600353'"
      ]
     },
     "execution_count": 36,
     "metadata": {},
     "output_type": "execute_result"
    }
   ],
   "source": [
    "code"
   ]
  },
  {
   "cell_type": "code",
   "execution_count": 28,
   "metadata": {},
   "outputs": [],
   "source": [
    "from database import DB_CONN"
   ]
  },
  {
   "cell_type": "code",
   "execution_count": 42,
   "metadata": {},
   "outputs": [],
   "source": [
    "sample = np.random.choice(codes, 10)"
   ]
  },
  {
   "cell_type": "code",
   "execution_count": 56,
   "metadata": {},
   "outputs": [],
   "source": [
    "sample = np.random.choice(codes, 20).tolist()"
   ]
  },
  {
   "cell_type": "code",
   "execution_count": 71,
   "metadata": {
    "scrolled": true
   },
   "outputs": [
    {
     "data": {
      "text/plain": [
       "['600781',\n",
       " '002110',\n",
       " '600183',\n",
       " '002568',\n",
       " '603214',\n",
       " '603345',\n",
       " '000506',\n",
       " '300517',\n",
       " '603326',\n",
       " '002159',\n",
       " '603555',\n",
       " '600439',\n",
       " '002464',\n",
       " '002545',\n",
       " '002310',\n",
       " '002409',\n",
       " '002637',\n",
       " '002805',\n",
       " '002843',\n",
       " '002553']"
      ]
     },
     "execution_count": 71,
     "metadata": {},
     "output_type": "execute_result"
    }
   ],
   "source": [
    "sample"
   ]
  },
  {
   "cell_type": "markdown",
   "metadata": {},
   "source": [
    "如果初始日就是"
   ]
  },
  {
   "cell_type": "code",
   "execution_count": 83,
   "metadata": {},
   "outputs": [
    {
     "name": "stdout",
     "output_type": "stream",
     "text": [
      "code: 600781, time: 2015-01-05, 数据初始日没有pre_close\n",
      "stock: 600781 high low limit complish\n",
      "code: 002110, time: 2015-01-05, 数据初始日没有pre_close\n",
      "stock: 002110 high low limit complish\n",
      "code: 600183, time: 2015-01-05, 数据初始日没有pre_close\n",
      "stock: 600183 high low limit complish\n",
      "code: 002568, time: 2015-01-05, 数据初始日没有pre_close\n",
      "stock: 002568 high low limit complish\n",
      "stock: 603345 high low limit complish\n",
      "code: 000506, time: 2015-02-16, ipo_date: 1993-03-12， 请速查原因\n",
      "stock: 000506 high low limit complish\n",
      "stock: 300517 high low limit complish\n",
      "stock: 603326 high low limit complish\n",
      "code: 002159, time: 2015-01-05, 数据初始日没有pre_close\n",
      "stock: 002159 high low limit complish\n",
      "code: 603555, time: 2015-01-05, 数据初始日没有pre_close\n",
      "stock: 603555 high low limit complish\n",
      "code: 600439, time: 2015-01-05, 数据初始日没有pre_close\n",
      "stock: 600439 high low limit complish\n",
      "code: 002464, time: 2015-01-19, ipo_date: 2010-08-31， 请速查原因\n",
      "stock: 002464 high low limit complish\n",
      "code: 002545, time: 2015-01-05, 数据初始日没有pre_close\n",
      "stock: 002545 high low limit complish\n",
      "code: 002310, time: 2015-01-05, 数据初始日没有pre_close\n",
      "stock: 002310 high low limit complish\n",
      "code: 002409, time: 2015-01-05, 数据初始日没有pre_close\n",
      "stock: 002409 high low limit complish\n",
      "code: 002637, time: 2015-01-05, 数据初始日没有pre_close\n",
      "stock: 002637 high low limit complish\n",
      "stock: 002805 high low limit complish\n",
      "stock: 002843 high low limit complish\n",
      "code: 002553, time: 2015-01-06, ipo_date: 2011-02-25， 请速查原因\n",
      "stock: 002553 high low limit complish\n"
     ]
    }
   ],
   "source": [
    "st_mark = ['st', 'ST', '*st', '*ST']\n",
    "\n",
    "\n",
    "for i,code in enumerate(sample):\n",
    "    try:\n",
    "        timeToMarket = DB_CONN['basic'].find_one({'code':code}, \n",
    "                projection={'code':True, 'timeToMarket':True, '_id':False})['timeToMarket']\n",
    "    except:\n",
    "        continue\n",
    "\n",
    "    daily_cursor = DB_CONN['daily'].find(\n",
    "            {'code':code, 'date':{'$lte': end, '$gte': timeToMarket}, 'index':False},\n",
    "            projection={'code':True, 'date':True, 'pre_close':True, '_id':False})\n",
    "\n",
    "    for daily in daily_cursor:\n",
    "        date = daily['date']\n",
    "        \n",
    "        try:\n",
    "            pre_close = daily['pre_close']\n",
    "        except:\n",
    "            if (date == '2015-01-05') & (timeToMarket != date):\n",
    "                print('code: %s, time: %s, 数据初始日没有pre_close' % (code, date))\n",
    "            elif timeToMarket == date:\n",
    "                issueprice = DB_CONN['basic'].find_one({'code':code},\n",
    "                          projection={'issueprice':True, '_id':False})['issueprice']\n",
    "\n",
    "                high_limit = np.round(np.round(issueprice * 1.2, 2) * 1.2, 2)\n",
    "                low_limit = np.round(np.round(issueprice * 0.8, 2) * 0.8, 2)\n",
    "            else:\n",
    "                print('code: %s, time: %s, ipo_date: %s， 请速查原因' % (code, date, timeToMarket))\n",
    "            continue\n",
    "        \n",
    "        \n",
    "#         print('code: %s, date: %s' % (code, date))\n",
    "        if date < '2016-08-09':\n",
    "            _date = '2016-08-09'\n",
    "        else:\n",
    "            _date = date\n",
    "        try:\n",
    "            name = DB_CONN['basic'].find_one({'code':code, 'date':_date},\n",
    "                          projection={'name':True, '_id':False})['name']\n",
    "            last_name = name\n",
    "        except:\n",
    "            if i == 0:\n",
    "                name = DB_CONN['basic'].find_one({'code':code},\n",
    "                  projection={'name':True, '_id':False})['name']\n",
    "                last_name = name\n",
    "            else:\n",
    "                name = last_name\n",
    "\n",
    "#         if timeToMarket == date:\n",
    "#             issueprice = DB_CONN['basic'].find_one({'code':code},\n",
    "#                       projection={'issueprice':True, '_id':False})['issueprice']\n",
    "\n",
    "#             high_limit = np.round(np.round(issueprice * 1.2, 2) * 1.2, 2)\n",
    "#             low_limit = np.round(np.round(issueprice * 0.8, 2) * 0.8, 2)\n",
    "\n",
    "        if (name[:2] in st_mark) or (name[:3] in st_mark) :\n",
    "            high_limit = np.round(pre_close * 1.05, 2)\n",
    "            low_limit = np.round(pre_close * 0.95, 2)\n",
    "\n",
    "        else:\n",
    "            high_limit = np.round(pre_close * 1.1, 2)\n",
    "            low_limit = np.round(pre_close * 0.9, 2)\n",
    "    print('stock: %s high low limit complish' % code)"
   ]
  },
  {
   "cell_type": "markdown",
   "metadata": {},
   "source": [
    "这个bug的原因是基础数据获取的不够完整,不是每一个交易日都有数据"
   ]
  },
  {
   "cell_type": "code",
   "execution_count": 79,
   "metadata": {},
   "outputs": [
    {
     "data": {
      "text/plain": [
       "Index(['002939', '000068', '300083', '002076', '600758', '002708', '600173',\n",
       "       '601162', '000622', '002377',\n",
       "       ...\n",
       "       '603386', '600298', '603579', '002942', '002941', '002070', '000693',\n",
       "       '600680', '600401', '300674'],\n",
       "      dtype='object', name='code', length=3559)"
      ]
     },
     "execution_count": 79,
     "metadata": {},
     "output_type": "execute_result"
    }
   ],
   "source": [
    "'603214' in df.index"
   ]
  },
  {
   "cell_type": "code",
   "execution_count": 81,
   "metadata": {},
   "outputs": [
    {
     "data": {
      "text/plain": [
       "name                     爱婴室\n",
       "industry                  百货\n",
       "area                      上海\n",
       "pe                     41.32\n",
       "outstanding             0.25\n",
       "totals                     1\n",
       "totalAssets           136925\n",
       "liquidAssets          119606\n",
       "fixedAssets          6993.16\n",
       "reserved               41564\n",
       "reservedPerShare        4.16\n",
       "esp                     0.72\n",
       "bvps                    8.31\n",
       "pb                      4.35\n",
       "timeToMarket        20180330\n",
       "undp                 30020.1\n",
       "perundp                    3\n",
       "rev                        0\n",
       "profit                     0\n",
       "gpr                    27.32\n",
       "npr                     4.32\n",
       "holders                19012\n",
       "Name: 603214, dtype: object"
      ]
     },
     "execution_count": 81,
     "metadata": {},
     "output_type": "execute_result"
    }
   ],
   "source": [
    "df.loc['603214',:]"
   ]
  },
  {
   "cell_type": "code",
   "execution_count": 59,
   "metadata": {},
   "outputs": [
    {
     "data": {
      "text/plain": [
       "'2016-08-10'"
      ]
     },
     "execution_count": 59,
     "metadata": {},
     "output_type": "execute_result"
    }
   ],
   "source": [
    "_date"
   ]
  },
  {
   "cell_type": "code",
   "execution_count": 60,
   "metadata": {},
   "outputs": [
    {
     "data": {
      "text/plain": [
       "'600781'"
      ]
     },
     "execution_count": 60,
     "metadata": {},
     "output_type": "execute_result"
    }
   ],
   "source": [
    "code"
   ]
  },
  {
   "cell_type": "code",
   "execution_count": 58,
   "metadata": {},
   "outputs": [
    {
     "ename": "TypeError",
     "evalue": "'NoneType' object is not subscriptable",
     "output_type": "error",
     "traceback": [
      "\u001b[1;31m---------------------------------------------------------------------------\u001b[0m",
      "\u001b[1;31mTypeError\u001b[0m                                 Traceback (most recent call last)",
      "\u001b[1;32m<ipython-input-58-e1cc15b5944e>\u001b[0m in \u001b[0;36m<module>\u001b[1;34m()\u001b[0m\n\u001b[0;32m      1\u001b[0m DB_CONN['basic'].find_one({'code':code, 'date':_date},\n\u001b[1;32m----> 2\u001b[1;33m      projection={'name':True, '_id':False})['name']\n\u001b[0m",
      "\u001b[1;31mTypeError\u001b[0m: 'NoneType' object is not subscriptable"
     ]
    }
   ],
   "source": [
    "DB_CONN['basic'].find_one({'code':code, 'date':_date},\n",
    "     projection={'name':True, '_id':False})['name']"
   ]
  },
  {
   "cell_type": "code",
   "execution_count": 52,
   "metadata": {},
   "outputs": [],
   "source": [
    "test_cursor = DB_CONN['basic'].find({'code':code},\n",
    "                      projection={'name':True, 'date':True, '_id':False})"
   ]
  },
  {
   "cell_type": "code",
   "execution_count": 53,
   "metadata": {},
   "outputs": [],
   "source": [
    "result = [i for i in test_cursor]"
   ]
  },
  {
   "cell_type": "code",
   "execution_count": 54,
   "metadata": {},
   "outputs": [
    {
     "data": {
      "text/plain": [
       "[{'date': '2016-08-09', 'name': '通威股份'},\n",
       " {'date': '2016-08-11', 'name': '通威股份'},\n",
       " {'date': '2016-08-15', 'name': '通威股份'},\n",
       " {'date': '2016-08-16', 'name': '通威股份'},\n",
       " {'date': '2016-08-17', 'name': '通威股份'},\n",
       " {'date': '2016-08-18', 'name': '通威股份'},\n",
       " {'date': '2016-08-22', 'name': '通威股份'},\n",
       " {'date': '2016-08-23', 'name': '通威股份'},\n",
       " {'date': '2016-08-24', 'name': '通威股份'},\n",
       " {'date': '2016-08-25', 'name': '通威股份'}]"
      ]
     },
     "execution_count": 54,
     "metadata": {},
     "output_type": "execute_result"
    }
   ],
   "source": [
    "result[:10]"
   ]
  },
  {
   "cell_type": "code",
   "execution_count": 73,
   "metadata": {},
   "outputs": [],
   "source": [
    "# test_cursor = DB_CONN['basic'].find({'code':code},\n",
    "#                       projection={'name':True, 'date':True, '_id':False})\n",
    "# result = [i for i in test_cursor]\n",
    "# result"
   ]
  },
  {
   "cell_type": "code",
   "execution_count": 69,
   "metadata": {},
   "outputs": [
    {
     "data": {
      "text/plain": [
       "{'date': '2016-08-09', 'name': '辅仁药业'}"
      ]
     },
     "execution_count": 69,
     "metadata": {},
     "output_type": "execute_result"
    }
   ],
   "source": [
    "DB_CONN['basic'].find_one({'code':code},\n",
    "                      projection={'name':True, 'date':True, '_id':False})"
   ]
  },
  {
   "cell_type": "code",
   "execution_count": 72,
   "metadata": {},
   "outputs": [],
   "source": [
    "# daily_cursor = DB_CONN['daily'].find(\n",
    "#             {'code':code, 'date':{'$lte': end, '$gte': timeToMarket}, 'index':False},\n",
    "#             projection={'code':True, 'date':True, 'pre_close':True, '_id':False})\n",
    "# dailies = [i for i in daily_cursor]\n",
    "# dailies"
   ]
  }
 ],
 "metadata": {
  "kernelspec": {
   "display_name": "Python 3",
   "language": "python",
   "name": "python3"
  },
  "language_info": {
   "codemirror_mode": {
    "name": "ipython",
    "version": 3
   },
   "file_extension": ".py",
   "mimetype": "text/x-python",
   "name": "python",
   "nbconvert_exporter": "python",
   "pygments_lexer": "ipython3",
   "version": "3.6.5"
  },
  "toc": {
   "base_numbering": 1,
   "nav_menu": {},
   "number_sections": true,
   "sideBar": true,
   "skip_h1_title": false,
   "title_cell": "Table of Contents",
   "title_sidebar": "Contents",
   "toc_cell": false,
   "toc_position": {},
   "toc_section_display": true,
   "toc_window_display": false
  },
  "varInspector": {
   "cols": {
    "lenName": 16,
    "lenType": 16,
    "lenVar": 40
   },
   "kernels_config": {
    "python": {
     "delete_cmd_postfix": "",
     "delete_cmd_prefix": "del ",
     "library": "var_list.py",
     "varRefreshCmd": "print(var_dic_list())"
    },
    "r": {
     "delete_cmd_postfix": ") ",
     "delete_cmd_prefix": "rm(",
     "library": "var_list.r",
     "varRefreshCmd": "cat(var_dic_list()) "
    }
   },
   "types_to_exclude": [
    "module",
    "function",
    "builtin_function_or_method",
    "instance",
    "_Feature"
   ],
   "window_display": false
  }
 },
 "nbformat": 4,
 "nbformat_minor": 2
}
