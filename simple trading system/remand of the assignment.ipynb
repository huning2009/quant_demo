{
 "cells": [
  {
   "cell_type": "markdown",
   "metadata": {},
   "source": [
    "1. 基于第五课的课件，添加一些条件；\n",
    "2. 涨跌停限制；\n",
    "3. 止损\n",
    "4. 233， 貌似就这些，感觉还是很儿戏啊。。。"
   ]
  },
  {
   "cell_type": "markdown",
   "metadata": {},
   "source": [
    "1. 首先是跑通第五课的代码；\n",
    "2. 求涨跌停价格并保存到不复权的表中；\n",
    "3. 有了这些条件，然后再在回测框架中添加涨跌停限制和止损"
   ]
  },
  {
   "cell_type": "markdown",
   "metadata": {},
   "source": [
    "先看看目前的进度\n",
    "\n",
    "查看有哪些database，自己想看的database下面有哪些collection；"
   ]
  },
  {
   "cell_type": "markdown",
   "metadata": {},
   "source": [
    "```mongodb\n",
    "show dbs\n",
    "\n",
    "use quant_01\n",
    "\n",
    "show collection\n",
    "```"
   ]
  },
  {
   "cell_type": "markdown",
   "metadata": {},
   "source": [
    "需要看下，比如daily和daily_hfq有哪些字段，分别有多少条数据"
   ]
  },
  {
   "cell_type": "markdown",
   "metadata": {},
   "source": [
    "daily有的字段是\n",
    "\n",
    "code date index ohlc volume\n",
    "\n",
    "daily_hfq\n",
    "亦是一样的\n",
    "\n",
    "也就是说没有做除权因子等操作，也没有记录pre_close\n",
    "\n",
    "也没有补全信息, and so on\n",
    "\n",
    "当然也没有做涨跌停的价格录入"
   ]
  }
 ],
 "metadata": {
  "kernelspec": {
   "display_name": "Python 3",
   "language": "python",
   "name": "python3"
  },
  "language_info": {
   "codemirror_mode": {
    "name": "ipython",
    "version": 3
   },
   "file_extension": ".py",
   "mimetype": "text/x-python",
   "name": "python",
   "nbconvert_exporter": "python",
   "pygments_lexer": "ipython3",
   "version": "3.6.5"
  },
  "toc": {
   "base_numbering": 1,
   "nav_menu": {},
   "number_sections": true,
   "sideBar": true,
   "skip_h1_title": false,
   "title_cell": "Table of Contents",
   "title_sidebar": "Contents",
   "toc_cell": false,
   "toc_position": {},
   "toc_section_display": true,
   "toc_window_display": false
  },
  "varInspector": {
   "cols": {
    "lenName": 16,
    "lenType": 16,
    "lenVar": 40
   },
   "kernels_config": {
    "python": {
     "delete_cmd_postfix": "",
     "delete_cmd_prefix": "del ",
     "library": "var_list.py",
     "varRefreshCmd": "print(var_dic_list())"
    },
    "r": {
     "delete_cmd_postfix": ") ",
     "delete_cmd_prefix": "rm(",
     "library": "var_list.r",
     "varRefreshCmd": "cat(var_dic_list()) "
    }
   },
   "types_to_exclude": [
    "module",
    "function",
    "builtin_function_or_method",
    "instance",
    "_Feature"
   ],
   "window_display": false
  }
 },
 "nbformat": 4,
 "nbformat_minor": 2
}
