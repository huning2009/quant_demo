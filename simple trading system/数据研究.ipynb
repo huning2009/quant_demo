{
 "cells": [
  {
   "cell_type": "code",
   "execution_count": 1,
   "metadata": {},
   "outputs": [],
   "source": [
    "import pandas as pd\n",
    "from database import DB_CONN\n",
    "from pymongo import UpdateOne, ASCENDING"
   ]
  },
  {
   "cell_type": "code",
   "execution_count": 4,
   "metadata": {},
   "outputs": [],
   "source": [
    "df = pd.read_excel('ipo_info.xlsx', header=0, dtype={'code':str})"
   ]
  },
  {
   "cell_type": "code",
   "execution_count": 5,
   "metadata": {},
   "outputs": [
    {
     "data": {
      "text/html": [
       "<div>\n",
       "<style scoped>\n",
       "    .dataframe tbody tr th:only-of-type {\n",
       "        vertical-align: middle;\n",
       "    }\n",
       "\n",
       "    .dataframe tbody tr th {\n",
       "        vertical-align: top;\n",
       "    }\n",
       "\n",
       "    .dataframe thead th {\n",
       "        text-align: right;\n",
       "    }\n",
       "</style>\n",
       "<table border=\"1\" class=\"dataframe\">\n",
       "  <thead>\n",
       "    <tr style=\"text-align: right;\">\n",
       "      <th></th>\n",
       "      <th>code</th>\n",
       "      <th>name</th>\n",
       "      <th>issueprice</th>\n",
       "      <th>timeToMarket</th>\n",
       "    </tr>\n",
       "  </thead>\n",
       "  <tbody>\n",
       "    <tr>\n",
       "      <th>0</th>\n",
       "      <td>000001</td>\n",
       "      <td>平安银行</td>\n",
       "      <td>40.0</td>\n",
       "      <td>1989-03-10</td>\n",
       "    </tr>\n",
       "    <tr>\n",
       "      <th>1</th>\n",
       "      <td>000002</td>\n",
       "      <td>万科A</td>\n",
       "      <td>1.0</td>\n",
       "      <td>1988-12-28</td>\n",
       "    </tr>\n",
       "    <tr>\n",
       "      <th>2</th>\n",
       "      <td>000004</td>\n",
       "      <td>国农科技</td>\n",
       "      <td>1.0</td>\n",
       "      <td>1989-12-23</td>\n",
       "    </tr>\n",
       "    <tr>\n",
       "      <th>3</th>\n",
       "      <td>000005</td>\n",
       "      <td>世纪星源</td>\n",
       "      <td>10.0</td>\n",
       "      <td>1990-02-28</td>\n",
       "    </tr>\n",
       "    <tr>\n",
       "      <th>4</th>\n",
       "      <td>000006</td>\n",
       "      <td>深振业A</td>\n",
       "      <td>10.0</td>\n",
       "      <td>1991-12-01</td>\n",
       "    </tr>\n",
       "  </tbody>\n",
       "</table>\n",
       "</div>"
      ],
      "text/plain": [
       "     code  name  issueprice timeToMarket\n",
       "0  000001  平安银行        40.0   1989-03-10\n",
       "1  000002   万科A         1.0   1988-12-28\n",
       "2  000004  国农科技         1.0   1989-12-23\n",
       "3  000005  世纪星源        10.0   1990-02-28\n",
       "4  000006  深振业A        10.0   1991-12-01"
      ]
     },
     "execution_count": 5,
     "metadata": {},
     "output_type": "execute_result"
    }
   ],
   "source": [
    "df.head()"
   ]
  },
  {
   "cell_type": "code",
   "execution_count": 10,
   "metadata": {},
   "outputs": [],
   "source": [
    "df = df.set_index('code')\n",
    "codes = df.index.tolist()\n",
    "df.issueprice['000001']\n",
    "DB_CONN['basic'].find_one({'code':'300257'}, projection={'code':True,\n",
    "                            'issueprice':True, 'timeToMarket':True,\n",
    "                            '_id':False})\n",
    "update_requests = []\n",
    "for i,code in enumerate(codes):\n",
    "    try:\n",
    "        update_requests.append(\n",
    "            UpdateOne(\n",
    "            {'code':code},\n",
    "            {'$set':{'issueprice':df.issueprice[code],\n",
    "                    'timeToMarket':df.timeToMarket[code]}},\n",
    "            upsert=True))\n",
    "    except:\n",
    "        print('code: %s, has problem' % code)\n",
    "\n",
    "if len(update_requests) > 0:\n",
    "    update_result = DB_CONN['basic'].bulk_write(update_requests, ordered=False)\n",
    "    print('填充字段， 字段名: issueprice，数据集：%s，插入：%4d条，更新：%4d条' %\n",
    "  ('basic', update_result.upserted_count, update_result.modified_count), flush=True)\n",
    "\n",
    "# for i,code in enumerate(codes):\n",
    "#     result = DB_CONN['basic'].find_one({'code':code}, projection={'code':True,\n",
    "#                             'issueprice':True, 'timeToMarket':True,\n",
    "#                             '_id':False})\n",
    "#     print(result)"
   ]
  },
  {
   "cell_type": "markdown",
   "metadata": {},
   "source": [
    "重新整理数据\n",
    "\n",
    "1. 复权与不复权数据，并写入到数据库中\n",
    "2. 基本数据，只要名称; 发行价和发行时间都有了"
   ]
  },
  {
   "cell_type": "code",
   "execution_count": 2,
   "metadata": {},
   "outputs": [],
   "source": [
    "df = pd.read_excel('data/stock_basic.xlsx', header=0, dtype={'code':str})"
   ]
  },
  {
   "cell_type": "code",
   "execution_count": 3,
   "metadata": {},
   "outputs": [
    {
     "data": {
      "text/html": [
       "<div>\n",
       "<style scoped>\n",
       "    .dataframe tbody tr th:only-of-type {\n",
       "        vertical-align: middle;\n",
       "    }\n",
       "\n",
       "    .dataframe tbody tr th {\n",
       "        vertical-align: top;\n",
       "    }\n",
       "\n",
       "    .dataframe thead th {\n",
       "        text-align: right;\n",
       "    }\n",
       "</style>\n",
       "<table border=\"1\" class=\"dataframe\">\n",
       "  <thead>\n",
       "    <tr style=\"text-align: right;\">\n",
       "      <th></th>\n",
       "      <th>证券代码</th>\n",
       "      <th>证券名称</th>\n",
       "      <th>首发上市日期</th>\n",
       "      <th>首发价格</th>\n",
       "      <th>戴帽摘帽日期</th>\n",
       "    </tr>\n",
       "    <tr>\n",
       "      <th>code</th>\n",
       "      <th></th>\n",
       "      <th></th>\n",
       "      <th></th>\n",
       "      <th></th>\n",
       "      <th></th>\n",
       "    </tr>\n",
       "  </thead>\n",
       "  <tbody>\n",
       "    <tr>\n",
       "      <th>000001</th>\n",
       "      <td>000001.SZ</td>\n",
       "      <td>平安银行</td>\n",
       "      <td>1991-04-03</td>\n",
       "      <td>40.0</td>\n",
       "      <td>NaN</td>\n",
       "    </tr>\n",
       "    <tr>\n",
       "      <th>000002</th>\n",
       "      <td>000002.SZ</td>\n",
       "      <td>万科A</td>\n",
       "      <td>1991-01-29</td>\n",
       "      <td>1.0</td>\n",
       "      <td>NaN</td>\n",
       "    </tr>\n",
       "    <tr>\n",
       "      <th>000004</th>\n",
       "      <td>000004.SZ</td>\n",
       "      <td>国农科技</td>\n",
       "      <td>1991-01-14</td>\n",
       "      <td>1.0</td>\n",
       "      <td>去ST:2011-06-08,去*ST:2010-05-31,*ST:2009-04-21,...</td>\n",
       "    </tr>\n",
       "    <tr>\n",
       "      <th>000005</th>\n",
       "      <td>000005.SZ</td>\n",
       "      <td>世纪星源</td>\n",
       "      <td>1990-12-10</td>\n",
       "      <td>10.0</td>\n",
       "      <td>去ST:2008-06-25,去*ST:2004-05-18,*ST:2003-05-12,...</td>\n",
       "    </tr>\n",
       "    <tr>\n",
       "      <th>000006</th>\n",
       "      <td>000006.SZ</td>\n",
       "      <td>深振业A</td>\n",
       "      <td>1992-04-27</td>\n",
       "      <td>10.0</td>\n",
       "      <td>NaN</td>\n",
       "    </tr>\n",
       "  </tbody>\n",
       "</table>\n",
       "</div>"
      ],
      "text/plain": [
       "             证券代码  证券名称      首发上市日期  首发价格  \\\n",
       "code                                        \n",
       "000001  000001.SZ  平安银行  1991-04-03  40.0   \n",
       "000002  000002.SZ   万科A  1991-01-29   1.0   \n",
       "000004  000004.SZ  国农科技  1991-01-14   1.0   \n",
       "000005  000005.SZ  世纪星源  1990-12-10  10.0   \n",
       "000006  000006.SZ  深振业A  1992-04-27  10.0   \n",
       "\n",
       "                                                   戴帽摘帽日期  \n",
       "code                                                       \n",
       "000001                                                NaN  \n",
       "000002                                                NaN  \n",
       "000004  去ST:2011-06-08,去*ST:2010-05-31,*ST:2009-04-21,...  \n",
       "000005  去ST:2008-06-25,去*ST:2004-05-18,*ST:2003-05-12,...  \n",
       "000006                                                NaN  "
      ]
     },
     "execution_count": 3,
     "metadata": {},
     "output_type": "execute_result"
    }
   ],
   "source": [
    "df = df.set_index('code')\n",
    "df.head()"
   ]
  },
  {
   "cell_type": "markdown",
   "metadata": {},
   "source": [
    "1. 直接将是否ST存入到本地\n",
    "2. 实时判断"
   ]
  },
  {
   "cell_type": "code",
   "execution_count": 4,
   "metadata": {},
   "outputs": [],
   "source": [
    "code = '000004'"
   ]
  },
  {
   "cell_type": "code",
   "execution_count": 5,
   "metadata": {},
   "outputs": [],
   "source": [
    "st_date_info = df.loc[code, '戴帽摘帽日期']"
   ]
  },
  {
   "cell_type": "code",
   "execution_count": 39,
   "metadata": {},
   "outputs": [
    {
     "data": {
      "text/plain": [
       "['去ST:2011-06-08',\n",
       " '去*ST:2010-05-31',\n",
       " '*ST:2009-04-21',\n",
       " '去*ST:2007-05-25',\n",
       " '*ST:2006-04-21',\n",
       " '去ST:2001-03-06',\n",
       " 'ST:1999-04-27']"
      ]
     },
     "execution_count": 39,
     "metadata": {},
     "output_type": "execute_result"
    }
   ],
   "source": [
    "st_date_info"
   ]
  },
  {
   "cell_type": "code",
   "execution_count": 40,
   "metadata": {},
   "outputs": [
    {
     "data": {
      "text/plain": [
       "True"
      ]
     },
     "execution_count": 40,
     "metadata": {},
     "output_type": "execute_result"
    }
   ],
   "source": [
    "pd.isna(df.loc['000001', '戴帽摘帽日期'])"
   ]
  },
  {
   "cell_type": "code",
   "execution_count": 6,
   "metadata": {},
   "outputs": [],
   "source": [
    "st_state = ['ST', '*ST', '去*ST', '去ST']"
   ]
  },
  {
   "cell_type": "code",
   "execution_count": 7,
   "metadata": {},
   "outputs": [
    {
     "data": {
      "text/plain": [
       "['去ST:2011-06-08',\n",
       " '去*ST:2010-05-31',\n",
       " '*ST:2009-04-21',\n",
       " '去*ST:2007-05-25',\n",
       " '*ST:2006-04-21',\n",
       " '去ST:2001-03-06',\n",
       " 'ST:1999-04-27']"
      ]
     },
     "execution_count": 7,
     "metadata": {},
     "output_type": "execute_result"
    }
   ],
   "source": [
    "st_date_info = st_date_info.split(',')\n",
    "st_date_info"
   ]
  },
  {
   "cell_type": "markdown",
   "metadata": {},
   "source": [
    "1. 任给一个日期，判断到底是不是st状态;\n",
    "2. 请把st的状态做成若干个区间, 若最新日期处于st状态,则将区间最后日期设为当前日期(today)\n",
    "3. 去ST代码解除ST状态,ST代表成为ST状态,所以我们只需要找到里面非\\*状态的时间点"
   ]
  },
  {
   "cell_type": "code",
   "execution_count": 8,
   "metadata": {},
   "outputs": [],
   "source": [
    "import datetime"
   ]
  },
  {
   "cell_type": "code",
   "execution_count": 9,
   "metadata": {},
   "outputs": [],
   "source": [
    "today = str(datetime.date.today())"
   ]
  },
  {
   "cell_type": "code",
   "execution_count": 10,
   "metadata": {},
   "outputs": [],
   "source": [
    "import numpy as np"
   ]
  },
  {
   "cell_type": "code",
   "execution_count": 53,
   "metadata": {},
   "outputs": [
    {
     "data": {
      "text/plain": [
       "'2015-09-25'"
      ]
     },
     "execution_count": 53,
     "metadata": {},
     "output_type": "execute_result"
    }
   ],
   "source": [
    "np.random.choice(QA.trade_date_sse[5881:-44])"
   ]
  },
  {
   "cell_type": "code",
   "execution_count": 54,
   "metadata": {},
   "outputs": [],
   "source": [
    "date = np.random.choice(QA.trade_date_sse[:-44])"
   ]
  },
  {
   "cell_type": "markdown",
   "metadata": {},
   "source": [
    "```python\n",
    "\n",
    "if it == '去ST':\n",
    "    这个日期之后数据都是解除ST的状态\n",
    "    往前找到'ST'\n",
    "    next one\n",
    "\n",
    "elif it == 'ST'\n",
    "\n",
    "\n",
    "```"
   ]
  },
  {
   "cell_type": "code",
   "execution_count": 56,
   "metadata": {},
   "outputs": [
    {
     "data": {
      "text/plain": [
       "'去ST'"
      ]
     },
     "execution_count": 56,
     "metadata": {},
     "output_type": "execute_result"
    }
   ],
   "source": [
    "# if i.split(':')[0] == st_state[0]:\n",
    "st_date_info[0].split(':')[0]"
   ]
  },
  {
   "cell_type": "code",
   "execution_count": 57,
   "metadata": {},
   "outputs": [
    {
     "data": {
      "text/plain": [
       "True"
      ]
     },
     "execution_count": 57,
     "metadata": {},
     "output_type": "execute_result"
    }
   ],
   "source": [
    "date < st_date_info[0].split(':')[1]"
   ]
  },
  {
   "cell_type": "code",
   "execution_count": 23,
   "metadata": {},
   "outputs": [
    {
     "name": "stdout",
     "output_type": "stream",
     "text": [
      "something is wrong, code is value is \n"
     ]
    }
   ],
   "source": [
    "find_tag = ''\n",
    "st_interval_list = []\n",
    "for i in st_date_info:\n",
    "    key = i.split(':')[0]\n",
    "    value = datetime.datetime.strptime(i.split(':')[1], '%Y-%m-%d')\n",
    "    if key == '去ST':\n",
    "        if find_tag == 'ST':\n",
    "            print('something is wrong, code is value is ')\n",
    "        else:\n",
    "            temp_st_end = (value - datetime.timedelta(1)).strftime('%Y-%m-%d')\n",
    "            find_tag = 'ST'\n",
    "    \n",
    "    elif key == 'ST':\n",
    "        temp_st_start = value.strftime('%Y-%m-%d')\n",
    "        \n",
    "        if find_tag == 'ST':\n",
    "            st_interval_list.append([temp_st_start, temp_st_end])\n",
    "            find_tag = '去ST'\n",
    "            \n",
    "#             if temp_st_end is not None:\n",
    "#                 st_interval_list.append([temp_st_start, temp_st_end])\n",
    "#                 temp_st_end = None\n",
    "#                 find_tag = '去ST'\n",
    "#             else:\n",
    "#                 print('something is wrong, code is value is ')\n",
    "        \n",
    "        elif find_tag == '':\n",
    "            st_interval_list.append([temp_st_start, today])\n",
    "            find_tag = '去ST'"
   ]
  },
  {
   "cell_type": "code",
   "execution_count": 24,
   "metadata": {},
   "outputs": [
    {
     "data": {
      "text/plain": [
       "[['1999-04-27', '2011-06-07']]"
      ]
     },
     "execution_count": 24,
     "metadata": {},
     "output_type": "execute_result"
    }
   ],
   "source": [
    "st_interval_list"
   ]
  },
  {
   "cell_type": "code",
   "execution_count": 31,
   "metadata": {},
   "outputs": [],
   "source": [
    "st_interval_list = []\n",
    "temp_st_end = None\n",
    "for count, i in enumerate(st_date_info):\n",
    "    key = i.split(':')[0]\n",
    "    value = datetime.datetime.strptime(i.split(':')[1], '%Y-%m-%d')\n",
    "    \n",
    "    if key == '去ST' and count==0:\n",
    "        temp_st_end = (value - datetime.timedelta(1)).strftime('%Y-%m-%d')\n",
    "    \n",
    "    elif key == '去ST' and count >0:\n",
    "        temp_st_start = datetime.datetime.strptime(st_date_info[count-1].split(':')[1], \n",
    "                                   '%Y-%m-%d').strftime('%Y-%m-%d')\n",
    "        st_interval_list.append([temp_st_start, temp_st_end])\n",
    "        temp_st_end = (value - datetime.timedelta(1)).strftime('%Y-%m-%d')\n",
    "    elif count == (len(st_date_info)-1):\n",
    "        if temp_st_end is not None:\n",
    "            st_interval_list.append([value.strftime('%Y-%m-%d'), temp_st_end])\n",
    "        else:\n",
    "            st_interval_list.append([value.strftime('%Y-%m-%d'), today])\n",
    "        "
   ]
  },
  {
   "cell_type": "code",
   "execution_count": 32,
   "metadata": {},
   "outputs": [
    {
     "data": {
      "text/plain": [
       "[['2006-04-21', '2011-06-07'], ['1999-04-27', '2001-03-05']]"
      ]
     },
     "execution_count": 32,
     "metadata": {},
     "output_type": "execute_result"
    }
   ],
   "source": [
    "st_interval_list"
   ]
  },
  {
   "cell_type": "code",
   "execution_count": null,
   "metadata": {},
   "outputs": [],
   "source": [
    "pd.concat([pd.date_range(st_interval_list[0][0], st_interval_list[0][1]),\n",
    "pd.date_range(st_interval_list[1][0], st_interval_list[1][1])])"
   ]
  },
  {
   "cell_type": "code",
   "execution_count": 38,
   "metadata": {},
   "outputs": [
    {
     "data": {
      "text/plain": [
       "DatetimeIndex(['2006-04-21', '2006-04-22', '2006-04-23', '2006-04-24',\n",
       "               '2006-04-25', '2006-04-26', '2006-04-27', '2006-04-28',\n",
       "               '2006-04-29', '2006-04-30',\n",
       "               ...\n",
       "               '2011-05-29', '2011-05-30', '2011-05-31', '2011-06-01',\n",
       "               '2011-06-02', '2011-06-03', '2011-06-04', '2011-06-05',\n",
       "               '2011-06-06', '2011-06-07'],\n",
       "              dtype='datetime64[ns]', length=1874, freq='D')"
      ]
     },
     "execution_count": 38,
     "metadata": {},
     "output_type": "execute_result"
    }
   ],
   "source": [
    "pd.date_range(st_interval_list[0][0], st_interval_list[0][1])"
   ]
  },
  {
   "cell_type": "code",
   "execution_count": null,
   "metadata": {},
   "outputs": [],
   "source": []
  },
  {
   "cell_type": "code",
   "execution_count": null,
   "metadata": {},
   "outputs": [],
   "source": []
  },
  {
   "cell_type": "code",
   "execution_count": 21,
   "metadata": {},
   "outputs": [
    {
     "data": {
      "text/plain": [
       "'2011-06-07'"
      ]
     },
     "execution_count": 21,
     "metadata": {},
     "output_type": "execute_result"
    }
   ],
   "source": [
    "(datetime.datetime.strptime('2011-06-08', '%Y-%m-%d') - \\\n",
    " datetime.timedelta(1)).strftime('%Y-%m-%d')"
   ]
  },
  {
   "cell_type": "code",
   "execution_count": null,
   "metadata": {},
   "outputs": [],
   "source": []
  },
  {
   "cell_type": "code",
   "execution_count": null,
   "metadata": {},
   "outputs": [],
   "source": []
  }
 ],
 "metadata": {
  "kernelspec": {
   "display_name": "Python 3",
   "language": "python",
   "name": "python3"
  },
  "language_info": {
   "codemirror_mode": {
    "name": "ipython",
    "version": 3
   },
   "file_extension": ".py",
   "mimetype": "text/x-python",
   "name": "python",
   "nbconvert_exporter": "python",
   "pygments_lexer": "ipython3",
   "version": "3.6.5"
  },
  "toc": {
   "base_numbering": 1,
   "nav_menu": {},
   "number_sections": true,
   "sideBar": true,
   "skip_h1_title": false,
   "title_cell": "Table of Contents",
   "title_sidebar": "Contents",
   "toc_cell": false,
   "toc_position": {},
   "toc_section_display": true,
   "toc_window_display": false
  },
  "varInspector": {
   "cols": {
    "lenName": 16,
    "lenType": 16,
    "lenVar": 40
   },
   "kernels_config": {
    "python": {
     "delete_cmd_postfix": "",
     "delete_cmd_prefix": "del ",
     "library": "var_list.py",
     "varRefreshCmd": "print(var_dic_list())"
    },
    "r": {
     "delete_cmd_postfix": ") ",
     "delete_cmd_prefix": "rm(",
     "library": "var_list.r",
     "varRefreshCmd": "cat(var_dic_list()) "
    }
   },
   "types_to_exclude": [
    "module",
    "function",
    "builtin_function_or_method",
    "instance",
    "_Feature"
   ],
   "window_display": false
  }
 },
 "nbformat": 4,
 "nbformat_minor": 2
}
